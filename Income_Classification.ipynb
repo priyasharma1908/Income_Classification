{
 "cells": [
  {
   "cell_type": "markdown",
   "id": "e29393dc",
   "metadata": {},
   "source": [
    "# Imports and Reading the data"
   ]
  },
  {
   "cell_type": "code",
   "execution_count": 2,
   "id": "a62bc875",
   "metadata": {},
   "outputs": [],
   "source": [
    "# Loading required packages\n",
    "import numpy as np\n",
    "import pandas as pd\n",
    "import seaborn as sns\n",
    "import matplotlib.pyplot as plt # pyplot as plt\n",
    "import itertools\n",
    "import shap\n",
    "\n",
    "from dython.nominal import theils_u, correlation_ratio\n",
    "import category_encoders as ce\n",
    "from sklearn.preprocessing import RobustScaler\n",
    "\n",
    "from sklearn.model_selection import train_test_split\n",
    "from sklearn.model_selection import cross_validate\n",
    "from sklearn.model_selection import GridSearchCV\n",
    "from sklearn.metrics import accuracy_score, precision_score, recall_score, f1_score, auc, roc_curve, roc_auc_score, precision_recall_curve\n",
    "\n",
    "from sklearn import datasets, linear_model\n",
    "from sklearn.linear_model import LogisticRegression\n",
    "from sklearn.tree import DecisionTreeClassifier\n",
    "from sklearn.ensemble import RandomForestClassifier\n",
    "\n",
    "from pandas.api.types import is_numeric_dtype\n",
    "from IPython.display import display, HTML\n",
    "import matplotlib.ticker as tick\n",
    "import warnings\n",
    "warnings.filterwarnings(\"ignore\")\n",
    "%matplotlib inline"
   ]
  },
  {
   "cell_type": "code",
   "execution_count": 4,
   "id": "ca2727d8",
   "metadata": {},
   "outputs": [
    {
     "name": "stdout",
     "output_type": "stream",
     "text": [
      "shape of the data: (32561, 15)\n"
     ]
    },
    {
     "data": {
      "text/html": [
       "<div>\n",
       "<style scoped>\n",
       "    .dataframe tbody tr th:only-of-type {\n",
       "        vertical-align: middle;\n",
       "    }\n",
       "\n",
       "    .dataframe tbody tr th {\n",
       "        vertical-align: top;\n",
       "    }\n",
       "\n",
       "    .dataframe thead th {\n",
       "        text-align: right;\n",
       "    }\n",
       "</style>\n",
       "<table border=\"1\" class=\"dataframe\">\n",
       "  <thead>\n",
       "    <tr style=\"text-align: right;\">\n",
       "      <th></th>\n",
       "      <th>age</th>\n",
       "      <th>workclass</th>\n",
       "      <th>fnlwgt</th>\n",
       "      <th>education</th>\n",
       "      <th>education-num</th>\n",
       "      <th>marital-status</th>\n",
       "      <th>occupation</th>\n",
       "      <th>relationship</th>\n",
       "      <th>race</th>\n",
       "      <th>sex</th>\n",
       "      <th>capital-gain</th>\n",
       "      <th>capital-loss</th>\n",
       "      <th>hours-per-week</th>\n",
       "      <th>native-country</th>\n",
       "      <th>income</th>\n",
       "    </tr>\n",
       "  </thead>\n",
       "  <tbody>\n",
       "    <tr>\n",
       "      <th>0</th>\n",
       "      <td>39</td>\n",
       "      <td>State-gov</td>\n",
       "      <td>77516</td>\n",
       "      <td>Bachelors</td>\n",
       "      <td>13</td>\n",
       "      <td>Never-married</td>\n",
       "      <td>Adm-clerical</td>\n",
       "      <td>Not-in-family</td>\n",
       "      <td>White</td>\n",
       "      <td>Male</td>\n",
       "      <td>2174</td>\n",
       "      <td>0</td>\n",
       "      <td>40</td>\n",
       "      <td>United-States</td>\n",
       "      <td>&lt;=50K</td>\n",
       "    </tr>\n",
       "    <tr>\n",
       "      <th>1</th>\n",
       "      <td>50</td>\n",
       "      <td>Self-emp-not-inc</td>\n",
       "      <td>83311</td>\n",
       "      <td>Bachelors</td>\n",
       "      <td>13</td>\n",
       "      <td>Married-civ-spouse</td>\n",
       "      <td>Exec-managerial</td>\n",
       "      <td>Husband</td>\n",
       "      <td>White</td>\n",
       "      <td>Male</td>\n",
       "      <td>0</td>\n",
       "      <td>0</td>\n",
       "      <td>13</td>\n",
       "      <td>United-States</td>\n",
       "      <td>&lt;=50K</td>\n",
       "    </tr>\n",
       "    <tr>\n",
       "      <th>2</th>\n",
       "      <td>38</td>\n",
       "      <td>Private</td>\n",
       "      <td>215646</td>\n",
       "      <td>HS-grad</td>\n",
       "      <td>9</td>\n",
       "      <td>Divorced</td>\n",
       "      <td>Handlers-cleaners</td>\n",
       "      <td>Not-in-family</td>\n",
       "      <td>White</td>\n",
       "      <td>Male</td>\n",
       "      <td>0</td>\n",
       "      <td>0</td>\n",
       "      <td>40</td>\n",
       "      <td>United-States</td>\n",
       "      <td>&lt;=50K</td>\n",
       "    </tr>\n",
       "    <tr>\n",
       "      <th>3</th>\n",
       "      <td>53</td>\n",
       "      <td>Private</td>\n",
       "      <td>234721</td>\n",
       "      <td>11th</td>\n",
       "      <td>7</td>\n",
       "      <td>Married-civ-spouse</td>\n",
       "      <td>Handlers-cleaners</td>\n",
       "      <td>Husband</td>\n",
       "      <td>Black</td>\n",
       "      <td>Male</td>\n",
       "      <td>0</td>\n",
       "      <td>0</td>\n",
       "      <td>40</td>\n",
       "      <td>United-States</td>\n",
       "      <td>&lt;=50K</td>\n",
       "    </tr>\n",
       "    <tr>\n",
       "      <th>4</th>\n",
       "      <td>28</td>\n",
       "      <td>Private</td>\n",
       "      <td>338409</td>\n",
       "      <td>Bachelors</td>\n",
       "      <td>13</td>\n",
       "      <td>Married-civ-spouse</td>\n",
       "      <td>Prof-specialty</td>\n",
       "      <td>Wife</td>\n",
       "      <td>Black</td>\n",
       "      <td>Female</td>\n",
       "      <td>0</td>\n",
       "      <td>0</td>\n",
       "      <td>40</td>\n",
       "      <td>Cuba</td>\n",
       "      <td>&lt;=50K</td>\n",
       "    </tr>\n",
       "  </tbody>\n",
       "</table>\n",
       "</div>"
      ],
      "text/plain": [
       "   age          workclass   fnlwgt   education   education-num  \\\n",
       "0   39          State-gov    77516   Bachelors              13   \n",
       "1   50   Self-emp-not-inc    83311   Bachelors              13   \n",
       "2   38            Private   215646     HS-grad               9   \n",
       "3   53            Private   234721        11th               7   \n",
       "4   28            Private   338409   Bachelors              13   \n",
       "\n",
       "        marital-status          occupation    relationship    race      sex  \\\n",
       "0        Never-married        Adm-clerical   Not-in-family   White     Male   \n",
       "1   Married-civ-spouse     Exec-managerial         Husband   White     Male   \n",
       "2             Divorced   Handlers-cleaners   Not-in-family   White     Male   \n",
       "3   Married-civ-spouse   Handlers-cleaners         Husband   Black     Male   \n",
       "4   Married-civ-spouse      Prof-specialty            Wife   Black   Female   \n",
       "\n",
       "    capital-gain   capital-loss   hours-per-week  native-country  income  \n",
       "0           2174              0               40   United-States   <=50K  \n",
       "1              0              0               13   United-States   <=50K  \n",
       "2              0              0               40   United-States   <=50K  \n",
       "3              0              0               40   United-States   <=50K  \n",
       "4              0              0               40            Cuba   <=50K  "
      ]
     },
     "execution_count": 4,
     "metadata": {},
     "output_type": "execute_result"
    }
   ],
   "source": [
    "# load the dataset\n",
    "data = pd.read_csv(r\"C:\\Users\\Priya  Sharma\\OneDrive\\Desktop\\Practise\\Datasets\\Income_Classification\\income_evaluation.csv\")\n",
    "\n",
    "# check shape of dataset\n",
    "print(\"shape of the data:\", data.shape)\n",
    "data.head()"
   ]
  },
  {
   "cell_type": "markdown",
   "id": "e820430c",
   "metadata": {},
   "source": [
    "# Research"
   ]
  },
  {
   "cell_type": "markdown",
   "id": "dd03c000",
   "metadata": {},
   "source": [
    "**Each entry contains the following information about an individual:**\n",
    "\n",
    "1.\t**age**: the age of an individual: Integer greater than 0\n",
    "    \n",
    "2.\t**workclass**: a general term to represent the employment status of an individual: Private, Self¬emp¬not¬inc, Self¬emp¬inc, Federal¬gov, Local¬gov, State¬gov, Without¬pay, Never¬worked.\n",
    "    \n",
    "3.\t**fnlwgt**: final weight. In other words, this is the number of people the census believes the entry represents: Integer greater than 0 \n",
    "    \n",
    "4.\t**education**: the highest level of education achieved by an individual: Bachelors, Some¬college, 11th, HS¬grad, Prof¬school, Assoc¬acdm, Assoc¬voc, 9th, 7th¬8th, 12th, Masters, 1st¬4th, 10th, Doctorate, 5th¬6th, Preschool.\n",
    "    \n",
    "5.\t**education¬num**: the highest level of education achieved in numerical form: Integer greater than 0\n",
    "    \n",
    "6.\t**marital¬status**: marital status of an individual. Married¬civ¬spouse corresponds to a civilian spouse while Married¬AF¬spouse is a spouse in the Armed Forces: Married¬civ¬spouse, Divorced, Never¬married, Separated, Widowed, Married¬spouse-absent, Married¬AF¬spouse.\n",
    "    \n",
    "7.\t**occupation**: the general type of occupation of an individual: Tech¬support, Craft¬repair, Other¬service, Sales, Exec¬managerial, Prof¬specialty, Handlers¬cleaners, Machine¬op¬inspct, Adm¬clerical, Farming¬fishing, Transport¬moving, Priv¬house¬serv, Protective¬serv, Armed¬Forces.\n",
    "    \n",
    "8.\t**relationship**: represents what this individual is relative to others. For example an individual could be a Husband. Each entry only has one relationship attribute and is somewhat redundant with marital status. We might not make use of this attribute: Wife, Own¬child, Husband, Not¬in¬family, Other¬relative, Unmarried.\n",
    "    \n",
    "9.\t**race**: Descriptions of an individual’s race: White, Asian¬Pac¬Islander, Amer¬Indian¬Eskimo, Other, Black.\n",
    "    \n",
    "10.\t**sex**: the biological sex of the individual: Male, Female\n",
    "    \n",
    "11.\t**capital¬gain**: capital gains for an individual: Integer greater than or equal to 0 \n",
    "    \n",
    "12.\t**capital¬loss**: capital loss for an individual: Integer greater than or equal to 0 \n",
    "    \n",
    "13.\t**hours¬per¬week**: the hours an individual has reported to work per week: continuous\n",
    "    \n",
    "14.\t**country of origin for an individual**: United¬States, Cambodia, England, Puerto¬Rico, Canada, Germany, Outlying¬US(Guam-USVI¬etc), India, Japan, Greece, South, China, Cuba, Iran, Honduras, Philippines, Italy, Poland, Jamaica, Vietnam, Mexico, Portugal, Ireland, France, Dominican¬Republic, Laos, Ecuador, Taiwan, Haiti, Columbia, Hungary, Guatemala, Nicaragua, Scotland, Thailand, Yugoslavia, El¬Salvador, Trinadad &Tobago, Peru, Hong, Holand¬Netherlands.\n",
    "    \n",
    "15.\t**the label**: whether or not an individual makes more than USD 50,000 annually: <=50k, >50k\n"
   ]
  },
  {
   "cell_type": "markdown",
   "id": "d01cb005",
   "metadata": {},
   "source": [
    "For column name reference , check http://cseweb.ucsd.edu/classes/sp15/cse190-c/reports/sp15/048.pdf"
   ]
  },
  {
   "cell_type": "markdown",
   "id": "ead69b99",
   "metadata": {},
   "source": [
    "# Functions"
   ]
  },
  {
   "cell_type": "code",
   "execution_count": 3,
   "id": "5c8b578c",
   "metadata": {},
   "outputs": [],
   "source": [
    "def clean_column_names(df):\n",
    "    df.columns = df.columns.str.upper()\n",
    "    df.columns = df.columns.str.replace('-', '_')\n",
    "    df.columns = df.columns.str.strip()\n",
    "    return df.columns"
   ]
  },
  {
   "cell_type": "code",
   "execution_count": 4,
   "id": "8b32d60a",
   "metadata": {},
   "outputs": [],
   "source": [
    "def reformat_large_tick_values(tick_val, pos):\n",
    "    \"\"\"\n",
    "    Turns large tick values (in the billions, millions and thousands) such as 4500 into 4.5K and also appropriately \n",
    "    turns 4000 into 4K (no zero after the decimal).\n",
    "    \"\"\"\n",
    "    if tick_val >= 1000000000:\n",
    "        val = round(tick_val/1000000000, 1)\n",
    "        new_tick_format = '{:}B'.format(val)\n",
    "        \n",
    "    elif tick_val >= 1000000:\n",
    "        val = round(tick_val/1000000, 1)\n",
    "        new_tick_format = '{:}M'.format(val)\n",
    "        \n",
    "    elif tick_val >= 1000:\n",
    "        val = round(tick_val/1000, 1)\n",
    "        new_tick_format = '{:}K'.format(val)\n",
    "        \n",
    "    elif tick_val < 1000:\n",
    "        new_tick_format = round(tick_val, 1)\n",
    "        \n",
    "    else:\n",
    "        new_tick_format = tick_val\n",
    "\n",
    "    # make new_tick_format into a string value\n",
    "    new_tick_format = str(new_tick_format)\n",
    "    \n",
    "    # code below will keep 4.5M as is but change values such as 4.0M to 4M since that zero after the decimal isn't needed\n",
    "    index_of_decimal = new_tick_format.find(\".\")\n",
    "    \n",
    "    if index_of_decimal != -1:\n",
    "        value_after_decimal = new_tick_format[index_of_decimal + 1]\n",
    "        if value_after_decimal == \"0\":\n",
    "            # remove the 0 after the decimal point since it's not needed\n",
    "            new_tick_format = new_tick_format[0: index_of_decimal] + new_tick_format[index_of_decimal + 2:]\n",
    "            \n",
    "    return new_tick_format"
   ]
  },
  {
   "cell_type": "code",
   "execution_count": 5,
   "id": "40592031",
   "metadata": {},
   "outputs": [],
   "source": [
    "def compute_correlation(df:'pd.DataFrame')->'pd.DataFrame':\n",
    "    \"\"\"\n",
    "    Function to compute correlation values as follows:\n",
    "    - Pearson correlation (numeric-numeric)\n",
    "    - Correlation Ratio (numeric-categorical)\n",
    "    - Theil's U (categorical-categorical)\n",
    "    \n",
    "    Args:\n",
    "        df: Dataset for which to compute correlation matrix\n",
    "        \n",
    "    Returns:\n",
    "        Correlation matrix as dataframe\n",
    "    \"\"\"\n",
    "    # Get list of columns\n",
    "    list_of_columns = df.columns\n",
    "    \n",
    "    # Initialize empty dataframe for correlation matrix\n",
    "    corr_df = pd.DataFrame(index=list_of_columns, columns=list_of_columns)\n",
    "    \n",
    "    # Iterate over each column\n",
    "    for i in range(len(list_of_columns)):\n",
    "        # For each column, iterate over list of columns again to get pair-wise columns\n",
    "        # Note: We are iterating over (i, j) and (j, i) separately as Theil's U is not symmetric\n",
    "        for j in range(len(list_of_columns)):\n",
    "            if is_numeric_dtype(df[list_of_columns[i]]):\n",
    "                if is_numeric_dtype(df[list_of_columns[j]]):\n",
    "                    # Case 1: Both are numeric\n",
    "                    corr_value = np.corrcoef(df[list_of_columns[i]], df[list_of_columns[j]])\n",
    "                    corr_df.loc[list_of_columns[i], list_of_columns[j]] = corr_value[0][1]\n",
    "                else:\n",
    "                    # Case 2: One is categorical\n",
    "                    corr_value = correlation_ratio(df[list_of_columns[j]], df[list_of_columns[i]])\n",
    "                    corr_df.loc[list_of_columns[i], list_of_columns[j]] = corr_value\n",
    "            elif is_numeric_dtype(df[list_of_columns[j]]):\n",
    "                if is_numeric_dtype(df[list_of_columns[i]]):\n",
    "                    # Case 1: Both are numeric\n",
    "                    corr_value = np.corrcoef(df[list_of_columns[i]], df[list_of_columns[j]])\n",
    "                    corr_df.loc[list_of_columns[i], list_of_columns[j]] = corr_value[0][1]\n",
    "                else:\n",
    "                    # Case 2: One is categorical\n",
    "                    corr_value = correlation_ratio(df[list_of_columns[i]], df[list_of_columns[j]])\n",
    "                    corr_df.loc[list_of_columns[i], list_of_columns[j]] = corr_value\n",
    "            else:\n",
    "                # Case 3: Both are categorical\n",
    "                corr_value = theils_u(df[list_of_columns[i]], df[list_of_columns[j]])\n",
    "                corr_df.loc[list_of_columns[i], list_of_columns[j]] = corr_value\n",
    "    return(pd.DataFrame(corr_df.astype('float64').round(2)))\n"
   ]
  },
  {
   "cell_type": "markdown",
   "id": "86d5fc00",
   "metadata": {},
   "source": [
    "# Data Analysis and EDA"
   ]
  },
  {
   "cell_type": "markdown",
   "id": "e7bbae01",
   "metadata": {},
   "source": [
    "## Data Exploration"
   ]
  },
  {
   "cell_type": "markdown",
   "id": "7a422124",
   "metadata": {},
   "source": [
    "### Column name cleaning"
   ]
  },
  {
   "cell_type": "code",
   "execution_count": 6,
   "id": "897474f2",
   "metadata": {},
   "outputs": [],
   "source": [
    "data.columns = clean_column_names(data)"
   ]
  },
  {
   "cell_type": "code",
   "execution_count": 7,
   "id": "638224b5",
   "metadata": {},
   "outputs": [
    {
     "data": {
      "text/html": [
       "<div>\n",
       "<style scoped>\n",
       "    .dataframe tbody tr th:only-of-type {\n",
       "        vertical-align: middle;\n",
       "    }\n",
       "\n",
       "    .dataframe tbody tr th {\n",
       "        vertical-align: top;\n",
       "    }\n",
       "\n",
       "    .dataframe thead th {\n",
       "        text-align: right;\n",
       "    }\n",
       "</style>\n",
       "<table border=\"1\" class=\"dataframe\">\n",
       "  <thead>\n",
       "    <tr style=\"text-align: right;\">\n",
       "      <th></th>\n",
       "      <th>AGE</th>\n",
       "      <th>WORKCLASS</th>\n",
       "      <th>FNLWGT</th>\n",
       "      <th>EDUCATION</th>\n",
       "      <th>EDUCATION_NUM</th>\n",
       "      <th>MARITAL_STATUS</th>\n",
       "      <th>OCCUPATION</th>\n",
       "      <th>RELATIONSHIP</th>\n",
       "      <th>RACE</th>\n",
       "      <th>SEX</th>\n",
       "      <th>CAPITAL_GAIN</th>\n",
       "      <th>CAPITAL_LOSS</th>\n",
       "      <th>HOURS_PER_WEEK</th>\n",
       "      <th>NATIVE_COUNTRY</th>\n",
       "      <th>INCOME</th>\n",
       "    </tr>\n",
       "  </thead>\n",
       "  <tbody>\n",
       "    <tr>\n",
       "      <th>0</th>\n",
       "      <td>39</td>\n",
       "      <td>State-gov</td>\n",
       "      <td>77516</td>\n",
       "      <td>Bachelors</td>\n",
       "      <td>13</td>\n",
       "      <td>Never-married</td>\n",
       "      <td>Adm-clerical</td>\n",
       "      <td>Not-in-family</td>\n",
       "      <td>White</td>\n",
       "      <td>Male</td>\n",
       "      <td>2174</td>\n",
       "      <td>0</td>\n",
       "      <td>40</td>\n",
       "      <td>United-States</td>\n",
       "      <td>&lt;=50K</td>\n",
       "    </tr>\n",
       "    <tr>\n",
       "      <th>1</th>\n",
       "      <td>50</td>\n",
       "      <td>Self-emp-not-inc</td>\n",
       "      <td>83311</td>\n",
       "      <td>Bachelors</td>\n",
       "      <td>13</td>\n",
       "      <td>Married-civ-spouse</td>\n",
       "      <td>Exec-managerial</td>\n",
       "      <td>Husband</td>\n",
       "      <td>White</td>\n",
       "      <td>Male</td>\n",
       "      <td>0</td>\n",
       "      <td>0</td>\n",
       "      <td>13</td>\n",
       "      <td>United-States</td>\n",
       "      <td>&lt;=50K</td>\n",
       "    </tr>\n",
       "    <tr>\n",
       "      <th>2</th>\n",
       "      <td>38</td>\n",
       "      <td>Private</td>\n",
       "      <td>215646</td>\n",
       "      <td>HS-grad</td>\n",
       "      <td>9</td>\n",
       "      <td>Divorced</td>\n",
       "      <td>Handlers-cleaners</td>\n",
       "      <td>Not-in-family</td>\n",
       "      <td>White</td>\n",
       "      <td>Male</td>\n",
       "      <td>0</td>\n",
       "      <td>0</td>\n",
       "      <td>40</td>\n",
       "      <td>United-States</td>\n",
       "      <td>&lt;=50K</td>\n",
       "    </tr>\n",
       "    <tr>\n",
       "      <th>3</th>\n",
       "      <td>53</td>\n",
       "      <td>Private</td>\n",
       "      <td>234721</td>\n",
       "      <td>11th</td>\n",
       "      <td>7</td>\n",
       "      <td>Married-civ-spouse</td>\n",
       "      <td>Handlers-cleaners</td>\n",
       "      <td>Husband</td>\n",
       "      <td>Black</td>\n",
       "      <td>Male</td>\n",
       "      <td>0</td>\n",
       "      <td>0</td>\n",
       "      <td>40</td>\n",
       "      <td>United-States</td>\n",
       "      <td>&lt;=50K</td>\n",
       "    </tr>\n",
       "    <tr>\n",
       "      <th>4</th>\n",
       "      <td>28</td>\n",
       "      <td>Private</td>\n",
       "      <td>338409</td>\n",
       "      <td>Bachelors</td>\n",
       "      <td>13</td>\n",
       "      <td>Married-civ-spouse</td>\n",
       "      <td>Prof-specialty</td>\n",
       "      <td>Wife</td>\n",
       "      <td>Black</td>\n",
       "      <td>Female</td>\n",
       "      <td>0</td>\n",
       "      <td>0</td>\n",
       "      <td>40</td>\n",
       "      <td>Cuba</td>\n",
       "      <td>&lt;=50K</td>\n",
       "    </tr>\n",
       "  </tbody>\n",
       "</table>\n",
       "</div>"
      ],
      "text/plain": [
       "   AGE          WORKCLASS  FNLWGT   EDUCATION  EDUCATION_NUM  \\\n",
       "0   39          State-gov   77516   Bachelors             13   \n",
       "1   50   Self-emp-not-inc   83311   Bachelors             13   \n",
       "2   38            Private  215646     HS-grad              9   \n",
       "3   53            Private  234721        11th              7   \n",
       "4   28            Private  338409   Bachelors             13   \n",
       "\n",
       "        MARITAL_STATUS          OCCUPATION    RELATIONSHIP    RACE      SEX  \\\n",
       "0        Never-married        Adm-clerical   Not-in-family   White     Male   \n",
       "1   Married-civ-spouse     Exec-managerial         Husband   White     Male   \n",
       "2             Divorced   Handlers-cleaners   Not-in-family   White     Male   \n",
       "3   Married-civ-spouse   Handlers-cleaners         Husband   Black     Male   \n",
       "4   Married-civ-spouse      Prof-specialty            Wife   Black   Female   \n",
       "\n",
       "   CAPITAL_GAIN  CAPITAL_LOSS  HOURS_PER_WEEK  NATIVE_COUNTRY  INCOME  \n",
       "0          2174             0              40   United-States   <=50K  \n",
       "1             0             0              13   United-States   <=50K  \n",
       "2             0             0              40   United-States   <=50K  \n",
       "3             0             0              40   United-States   <=50K  \n",
       "4             0             0              40            Cuba   <=50K  "
      ]
     },
     "execution_count": 7,
     "metadata": {},
     "output_type": "execute_result"
    }
   ],
   "source": [
    "data.head()"
   ]
  },
  {
   "cell_type": "markdown",
   "id": "654685fd",
   "metadata": {},
   "source": [
    "### Identifying format differences if any"
   ]
  },
  {
   "cell_type": "code",
   "execution_count": 8,
   "id": "ad414333",
   "metadata": {},
   "outputs": [
    {
     "data": {
      "text/plain": [
       "AGE                int64\n",
       "WORKCLASS         object\n",
       "FNLWGT             int64\n",
       "EDUCATION         object\n",
       "EDUCATION_NUM      int64\n",
       "MARITAL_STATUS    object\n",
       "OCCUPATION        object\n",
       "RELATIONSHIP      object\n",
       "RACE              object\n",
       "SEX               object\n",
       "CAPITAL_GAIN       int64\n",
       "CAPITAL_LOSS       int64\n",
       "HOURS_PER_WEEK     int64\n",
       "NATIVE_COUNTRY    object\n",
       "INCOME            object\n",
       "dtype: object"
      ]
     },
     "execution_count": 8,
     "metadata": {},
     "output_type": "execute_result"
    }
   ],
   "source": [
    "data.dtypes"
   ]
  },
  {
   "cell_type": "code",
   "execution_count": 9,
   "id": "4d3f0a9a",
   "metadata": {},
   "outputs": [
    {
     "data": {
      "text/plain": [
       "AGE                  73\n",
       "WORKCLASS             9\n",
       "FNLWGT            21648\n",
       "EDUCATION            16\n",
       "EDUCATION_NUM        16\n",
       "MARITAL_STATUS        7\n",
       "OCCUPATION           15\n",
       "RELATIONSHIP          6\n",
       "RACE                  5\n",
       "SEX                   2\n",
       "CAPITAL_GAIN        119\n",
       "CAPITAL_LOSS         92\n",
       "HOURS_PER_WEEK       94\n",
       "NATIVE_COUNTRY       42\n",
       "INCOME                2\n",
       "dtype: int64"
      ]
     },
     "execution_count": 9,
     "metadata": {},
     "output_type": "execute_result"
    }
   ],
   "source": [
    "data.nunique()"
   ]
  },
  {
   "cell_type": "code",
   "execution_count": 10,
   "id": "898a44df",
   "metadata": {
    "scrolled": true
   },
   "outputs": [
    {
     "name": "stdout",
     "output_type": "stream",
     "text": [
      "WORKCLASS has following unique values: \n",
      "[' State-gov' ' Self-emp-not-inc' ' Private' ' Federal-gov' ' Local-gov'\n",
      " ' ?' ' Self-emp-inc' ' Without-pay' ' Never-worked']\n",
      "\n",
      "\n",
      "EDUCATION has following unique values: \n",
      "[' Bachelors' ' HS-grad' ' 11th' ' Masters' ' 9th' ' Some-college'\n",
      " ' Assoc-acdm' ' Assoc-voc' ' 7th-8th' ' Doctorate' ' Prof-school'\n",
      " ' 5th-6th' ' 10th' ' 1st-4th' ' Preschool' ' 12th']\n",
      "\n",
      "\n",
      "EDUCATION_NUM has following unique values: \n",
      "[13  9  7 14  5 10 12 11  4 16 15  3  6  2  1  8]\n",
      "\n",
      "\n",
      "MARITAL_STATUS has following unique values: \n",
      "[' Never-married' ' Married-civ-spouse' ' Divorced'\n",
      " ' Married-spouse-absent' ' Separated' ' Married-AF-spouse' ' Widowed']\n",
      "\n",
      "\n",
      "OCCUPATION has following unique values: \n",
      "[' Adm-clerical' ' Exec-managerial' ' Handlers-cleaners' ' Prof-specialty'\n",
      " ' Other-service' ' Sales' ' Craft-repair' ' Transport-moving'\n",
      " ' Farming-fishing' ' Machine-op-inspct' ' Tech-support' ' ?'\n",
      " ' Protective-serv' ' Armed-Forces' ' Priv-house-serv']\n",
      "\n",
      "\n",
      "RELATIONSHIP has following unique values: \n",
      "[' Not-in-family' ' Husband' ' Wife' ' Own-child' ' Unmarried'\n",
      " ' Other-relative']\n",
      "\n",
      "\n",
      "RACE has following unique values: \n",
      "[' White' ' Black' ' Asian-Pac-Islander' ' Amer-Indian-Eskimo' ' Other']\n",
      "\n",
      "\n",
      "SEX has following unique values: \n",
      "[' Male' ' Female']\n",
      "\n",
      "\n",
      "NATIVE_COUNTRY has following unique values: \n",
      "[' United-States' ' Cuba' ' Jamaica' ' India' ' ?' ' Mexico' ' South'\n",
      " ' Puerto-Rico' ' Honduras' ' England' ' Canada' ' Germany' ' Iran'\n",
      " ' Philippines' ' Italy' ' Poland' ' Columbia' ' Cambodia' ' Thailand'\n",
      " ' Ecuador' ' Laos' ' Taiwan' ' Haiti' ' Portugal' ' Dominican-Republic'\n",
      " ' El-Salvador' ' France' ' Guatemala' ' China' ' Japan' ' Yugoslavia'\n",
      " ' Peru' ' Outlying-US(Guam-USVI-etc)' ' Scotland' ' Trinadad&Tobago'\n",
      " ' Greece' ' Nicaragua' ' Vietnam' ' Hong' ' Ireland' ' Hungary'\n",
      " ' Holand-Netherlands']\n",
      "\n",
      "\n",
      "INCOME has following unique values: \n",
      "[' <=50K' ' >50K']\n",
      "\n",
      "\n"
     ]
    }
   ],
   "source": [
    "for col in data.columns:\n",
    "    if data[col].nunique() < 50:\n",
    "        print(col + ' has following unique values: ' + '\\n' + str(data[col].unique()) + '\\n\\n')"
   ]
  },
  {
   "cell_type": "code",
   "execution_count": 11,
   "id": "edfb260a",
   "metadata": {},
   "outputs": [
    {
     "data": {
      "text/plain": [
       "AGE               0\n",
       "WORKCLASS         0\n",
       "FNLWGT            0\n",
       "EDUCATION         0\n",
       "EDUCATION_NUM     0\n",
       "MARITAL_STATUS    0\n",
       "OCCUPATION        0\n",
       "RELATIONSHIP      0\n",
       "RACE              0\n",
       "SEX               0\n",
       "CAPITAL_GAIN      0\n",
       "CAPITAL_LOSS      0\n",
       "HOURS_PER_WEEK    0\n",
       "NATIVE_COUNTRY    0\n",
       "INCOME            0\n",
       "dtype: int64"
      ]
     },
     "execution_count": 11,
     "metadata": {},
     "output_type": "execute_result"
    }
   ],
   "source": [
    "data.isna().sum()"
   ]
  },
  {
   "cell_type": "markdown",
   "id": "58d37573",
   "metadata": {},
   "source": [
    "### Missing values"
   ]
  },
  {
   "cell_type": "markdown",
   "id": "4d910006",
   "metadata": {},
   "source": [
    "1. The data has whitespaces and ? in place of na/unknown, replacing ? with unknown\n",
    "2. Stripping whitespaces from the data"
   ]
  },
  {
   "cell_type": "code",
   "execution_count": 12,
   "id": "a7d354f6",
   "metadata": {},
   "outputs": [],
   "source": [
    "dict_datatypes = {col: str(data[col].dtypes) for col in data.columns}"
   ]
  },
  {
   "cell_type": "code",
   "execution_count": 13,
   "id": "dff0c5c8",
   "metadata": {},
   "outputs": [
    {
     "data": {
      "text/plain": [
       "{'AGE': 'int64',\n",
       " 'WORKCLASS': 'object',\n",
       " 'FNLWGT': 'int64',\n",
       " 'EDUCATION': 'object',\n",
       " 'EDUCATION_NUM': 'int64',\n",
       " 'MARITAL_STATUS': 'object',\n",
       " 'OCCUPATION': 'object',\n",
       " 'RELATIONSHIP': 'object',\n",
       " 'RACE': 'object',\n",
       " 'SEX': 'object',\n",
       " 'CAPITAL_GAIN': 'int64',\n",
       " 'CAPITAL_LOSS': 'int64',\n",
       " 'HOURS_PER_WEEK': 'int64',\n",
       " 'NATIVE_COUNTRY': 'object',\n",
       " 'INCOME': 'object'}"
      ]
     },
     "execution_count": 13,
     "metadata": {},
     "output_type": "execute_result"
    }
   ],
   "source": [
    "dict_datatypes"
   ]
  },
  {
   "cell_type": "code",
   "execution_count": 14,
   "id": "c2448ec8",
   "metadata": {},
   "outputs": [],
   "source": [
    "for col in dict_datatypes.keys():\n",
    "    if dict_datatypes[col] == 'object':\n",
    "        data[col] = data[col].str.strip()\n",
    "        data[col] = data[col].replace('?', 'Unknown')\n",
    "        data[col] = data[col].replace('', 'Unknown')"
   ]
  },
  {
   "cell_type": "code",
   "execution_count": 15,
   "id": "6f8993cb",
   "metadata": {
    "scrolled": true
   },
   "outputs": [
    {
     "name": "stdout",
     "output_type": "stream",
     "text": [
      "WORKCLASS has following unique values: \n",
      "['State-gov' 'Self-emp-not-inc' 'Private' 'Federal-gov' 'Local-gov'\n",
      " 'Unknown' 'Self-emp-inc' 'Without-pay' 'Never-worked']\n",
      "\n",
      "\n",
      "EDUCATION has following unique values: \n",
      "['Bachelors' 'HS-grad' '11th' 'Masters' '9th' 'Some-college' 'Assoc-acdm'\n",
      " 'Assoc-voc' '7th-8th' 'Doctorate' 'Prof-school' '5th-6th' '10th'\n",
      " '1st-4th' 'Preschool' '12th']\n",
      "\n",
      "\n",
      "EDUCATION_NUM has following unique values: \n",
      "[13  9  7 14  5 10 12 11  4 16 15  3  6  2  1  8]\n",
      "\n",
      "\n",
      "MARITAL_STATUS has following unique values: \n",
      "['Never-married' 'Married-civ-spouse' 'Divorced' 'Married-spouse-absent'\n",
      " 'Separated' 'Married-AF-spouse' 'Widowed']\n",
      "\n",
      "\n",
      "OCCUPATION has following unique values: \n",
      "['Adm-clerical' 'Exec-managerial' 'Handlers-cleaners' 'Prof-specialty'\n",
      " 'Other-service' 'Sales' 'Craft-repair' 'Transport-moving'\n",
      " 'Farming-fishing' 'Machine-op-inspct' 'Tech-support' 'Unknown'\n",
      " 'Protective-serv' 'Armed-Forces' 'Priv-house-serv']\n",
      "\n",
      "\n",
      "RELATIONSHIP has following unique values: \n",
      "['Not-in-family' 'Husband' 'Wife' 'Own-child' 'Unmarried' 'Other-relative']\n",
      "\n",
      "\n",
      "RACE has following unique values: \n",
      "['White' 'Black' 'Asian-Pac-Islander' 'Amer-Indian-Eskimo' 'Other']\n",
      "\n",
      "\n",
      "SEX has following unique values: \n",
      "['Male' 'Female']\n",
      "\n",
      "\n",
      "NATIVE_COUNTRY has following unique values: \n",
      "['United-States' 'Cuba' 'Jamaica' 'India' 'Unknown' 'Mexico' 'South'\n",
      " 'Puerto-Rico' 'Honduras' 'England' 'Canada' 'Germany' 'Iran'\n",
      " 'Philippines' 'Italy' 'Poland' 'Columbia' 'Cambodia' 'Thailand' 'Ecuador'\n",
      " 'Laos' 'Taiwan' 'Haiti' 'Portugal' 'Dominican-Republic' 'El-Salvador'\n",
      " 'France' 'Guatemala' 'China' 'Japan' 'Yugoslavia' 'Peru'\n",
      " 'Outlying-US(Guam-USVI-etc)' 'Scotland' 'Trinadad&Tobago' 'Greece'\n",
      " 'Nicaragua' 'Vietnam' 'Hong' 'Ireland' 'Hungary' 'Holand-Netherlands']\n",
      "\n",
      "\n",
      "INCOME has following unique values: \n",
      "['<=50K' '>50K']\n",
      "\n",
      "\n"
     ]
    }
   ],
   "source": [
    "for col in data.columns:\n",
    "    if data[col].nunique() < 50:\n",
    "        print(col + ' has following unique values: ' + '\\n' + str(data[col].unique()) + '\\n\\n')"
   ]
  },
  {
   "cell_type": "code",
   "execution_count": 16,
   "id": "0e9540a1",
   "metadata": {},
   "outputs": [
    {
     "data": {
      "text/plain": [
       "AGE               0\n",
       "WORKCLASS         0\n",
       "FNLWGT            0\n",
       "EDUCATION         0\n",
       "EDUCATION_NUM     0\n",
       "MARITAL_STATUS    0\n",
       "OCCUPATION        0\n",
       "RELATIONSHIP      0\n",
       "RACE              0\n",
       "SEX               0\n",
       "CAPITAL_GAIN      0\n",
       "CAPITAL_LOSS      0\n",
       "HOURS_PER_WEEK    0\n",
       "NATIVE_COUNTRY    0\n",
       "INCOME            0\n",
       "dtype: int64"
      ]
     },
     "execution_count": 16,
     "metadata": {},
     "output_type": "execute_result"
    }
   ],
   "source": [
    "data.isna().sum()"
   ]
  },
  {
   "cell_type": "code",
   "execution_count": 17,
   "id": "842c0ed5",
   "metadata": {},
   "outputs": [
    {
     "data": {
      "text/plain": [
       "(32561, 15)"
      ]
     },
     "execution_count": 17,
     "metadata": {},
     "output_type": "execute_result"
    }
   ],
   "source": [
    "data.shape"
   ]
  },
  {
   "cell_type": "markdown",
   "id": "6af69035",
   "metadata": {},
   "source": [
    "### Checking duplicates\n",
    "\n",
    "**Insights:** There are 24 duplicates rows in the data\n",
    "\n",
    "**Action:** Eliminate duplicate records"
   ]
  },
  {
   "cell_type": "code",
   "execution_count": 18,
   "id": "92013204",
   "metadata": {},
   "outputs": [
    {
     "data": {
      "text/plain": [
       "(32561, 15)"
      ]
     },
     "execution_count": 18,
     "metadata": {},
     "output_type": "execute_result"
    }
   ],
   "source": [
    "data.shape"
   ]
  },
  {
   "cell_type": "code",
   "execution_count": 19,
   "id": "a6d5775e",
   "metadata": {},
   "outputs": [
    {
     "data": {
      "text/plain": [
       "(32537, 15)"
      ]
     },
     "execution_count": 19,
     "metadata": {},
     "output_type": "execute_result"
    }
   ],
   "source": [
    "data.drop_duplicates().shape"
   ]
  },
  {
   "cell_type": "code",
   "execution_count": 20,
   "id": "3b92c67c",
   "metadata": {
    "scrolled": true
   },
   "outputs": [
    {
     "data": {
      "text/html": [
       "<div>\n",
       "<style scoped>\n",
       "    .dataframe tbody tr th:only-of-type {\n",
       "        vertical-align: middle;\n",
       "    }\n",
       "\n",
       "    .dataframe tbody tr th {\n",
       "        vertical-align: top;\n",
       "    }\n",
       "\n",
       "    .dataframe thead th {\n",
       "        text-align: right;\n",
       "    }\n",
       "</style>\n",
       "<table border=\"1\" class=\"dataframe\">\n",
       "  <thead>\n",
       "    <tr style=\"text-align: right;\">\n",
       "      <th></th>\n",
       "      <th>AGE</th>\n",
       "      <th>WORKCLASS</th>\n",
       "      <th>FNLWGT</th>\n",
       "      <th>EDUCATION</th>\n",
       "      <th>EDUCATION_NUM</th>\n",
       "      <th>MARITAL_STATUS</th>\n",
       "      <th>OCCUPATION</th>\n",
       "      <th>RELATIONSHIP</th>\n",
       "      <th>RACE</th>\n",
       "      <th>SEX</th>\n",
       "      <th>CAPITAL_GAIN</th>\n",
       "      <th>CAPITAL_LOSS</th>\n",
       "      <th>HOURS_PER_WEEK</th>\n",
       "      <th>NATIVE_COUNTRY</th>\n",
       "      <th>INCOME</th>\n",
       "    </tr>\n",
       "  </thead>\n",
       "  <tbody>\n",
       "    <tr>\n",
       "      <th>4881</th>\n",
       "      <td>25</td>\n",
       "      <td>Private</td>\n",
       "      <td>308144</td>\n",
       "      <td>Bachelors</td>\n",
       "      <td>13</td>\n",
       "      <td>Never-married</td>\n",
       "      <td>Craft-repair</td>\n",
       "      <td>Not-in-family</td>\n",
       "      <td>White</td>\n",
       "      <td>Male</td>\n",
       "      <td>0</td>\n",
       "      <td>0</td>\n",
       "      <td>40</td>\n",
       "      <td>Mexico</td>\n",
       "      <td>&lt;=50K</td>\n",
       "    </tr>\n",
       "    <tr>\n",
       "      <th>5104</th>\n",
       "      <td>90</td>\n",
       "      <td>Private</td>\n",
       "      <td>52386</td>\n",
       "      <td>Some-college</td>\n",
       "      <td>10</td>\n",
       "      <td>Never-married</td>\n",
       "      <td>Other-service</td>\n",
       "      <td>Not-in-family</td>\n",
       "      <td>Asian-Pac-Islander</td>\n",
       "      <td>Male</td>\n",
       "      <td>0</td>\n",
       "      <td>0</td>\n",
       "      <td>35</td>\n",
       "      <td>United-States</td>\n",
       "      <td>&lt;=50K</td>\n",
       "    </tr>\n",
       "    <tr>\n",
       "      <th>9171</th>\n",
       "      <td>21</td>\n",
       "      <td>Private</td>\n",
       "      <td>250051</td>\n",
       "      <td>Some-college</td>\n",
       "      <td>10</td>\n",
       "      <td>Never-married</td>\n",
       "      <td>Prof-specialty</td>\n",
       "      <td>Own-child</td>\n",
       "      <td>White</td>\n",
       "      <td>Female</td>\n",
       "      <td>0</td>\n",
       "      <td>0</td>\n",
       "      <td>10</td>\n",
       "      <td>United-States</td>\n",
       "      <td>&lt;=50K</td>\n",
       "    </tr>\n",
       "    <tr>\n",
       "      <th>11631</th>\n",
       "      <td>20</td>\n",
       "      <td>Private</td>\n",
       "      <td>107658</td>\n",
       "      <td>Some-college</td>\n",
       "      <td>10</td>\n",
       "      <td>Never-married</td>\n",
       "      <td>Tech-support</td>\n",
       "      <td>Not-in-family</td>\n",
       "      <td>White</td>\n",
       "      <td>Female</td>\n",
       "      <td>0</td>\n",
       "      <td>0</td>\n",
       "      <td>10</td>\n",
       "      <td>United-States</td>\n",
       "      <td>&lt;=50K</td>\n",
       "    </tr>\n",
       "    <tr>\n",
       "      <th>13084</th>\n",
       "      <td>25</td>\n",
       "      <td>Private</td>\n",
       "      <td>195994</td>\n",
       "      <td>1st-4th</td>\n",
       "      <td>2</td>\n",
       "      <td>Never-married</td>\n",
       "      <td>Priv-house-serv</td>\n",
       "      <td>Not-in-family</td>\n",
       "      <td>White</td>\n",
       "      <td>Female</td>\n",
       "      <td>0</td>\n",
       "      <td>0</td>\n",
       "      <td>40</td>\n",
       "      <td>Guatemala</td>\n",
       "      <td>&lt;=50K</td>\n",
       "    </tr>\n",
       "    <tr>\n",
       "      <th>15059</th>\n",
       "      <td>21</td>\n",
       "      <td>Private</td>\n",
       "      <td>243368</td>\n",
       "      <td>Preschool</td>\n",
       "      <td>1</td>\n",
       "      <td>Never-married</td>\n",
       "      <td>Farming-fishing</td>\n",
       "      <td>Not-in-family</td>\n",
       "      <td>White</td>\n",
       "      <td>Male</td>\n",
       "      <td>0</td>\n",
       "      <td>0</td>\n",
       "      <td>50</td>\n",
       "      <td>Mexico</td>\n",
       "      <td>&lt;=50K</td>\n",
       "    </tr>\n",
       "    <tr>\n",
       "      <th>17040</th>\n",
       "      <td>46</td>\n",
       "      <td>Private</td>\n",
       "      <td>173243</td>\n",
       "      <td>HS-grad</td>\n",
       "      <td>9</td>\n",
       "      <td>Married-civ-spouse</td>\n",
       "      <td>Craft-repair</td>\n",
       "      <td>Husband</td>\n",
       "      <td>White</td>\n",
       "      <td>Male</td>\n",
       "      <td>0</td>\n",
       "      <td>0</td>\n",
       "      <td>40</td>\n",
       "      <td>United-States</td>\n",
       "      <td>&lt;=50K</td>\n",
       "    </tr>\n",
       "    <tr>\n",
       "      <th>18555</th>\n",
       "      <td>30</td>\n",
       "      <td>Private</td>\n",
       "      <td>144593</td>\n",
       "      <td>HS-grad</td>\n",
       "      <td>9</td>\n",
       "      <td>Never-married</td>\n",
       "      <td>Other-service</td>\n",
       "      <td>Not-in-family</td>\n",
       "      <td>Black</td>\n",
       "      <td>Male</td>\n",
       "      <td>0</td>\n",
       "      <td>0</td>\n",
       "      <td>40</td>\n",
       "      <td>Unknown</td>\n",
       "      <td>&lt;=50K</td>\n",
       "    </tr>\n",
       "    <tr>\n",
       "      <th>18698</th>\n",
       "      <td>19</td>\n",
       "      <td>Private</td>\n",
       "      <td>97261</td>\n",
       "      <td>HS-grad</td>\n",
       "      <td>9</td>\n",
       "      <td>Never-married</td>\n",
       "      <td>Farming-fishing</td>\n",
       "      <td>Not-in-family</td>\n",
       "      <td>White</td>\n",
       "      <td>Male</td>\n",
       "      <td>0</td>\n",
       "      <td>0</td>\n",
       "      <td>40</td>\n",
       "      <td>United-States</td>\n",
       "      <td>&lt;=50K</td>\n",
       "    </tr>\n",
       "    <tr>\n",
       "      <th>21318</th>\n",
       "      <td>19</td>\n",
       "      <td>Private</td>\n",
       "      <td>138153</td>\n",
       "      <td>Some-college</td>\n",
       "      <td>10</td>\n",
       "      <td>Never-married</td>\n",
       "      <td>Adm-clerical</td>\n",
       "      <td>Own-child</td>\n",
       "      <td>White</td>\n",
       "      <td>Female</td>\n",
       "      <td>0</td>\n",
       "      <td>0</td>\n",
       "      <td>10</td>\n",
       "      <td>United-States</td>\n",
       "      <td>&lt;=50K</td>\n",
       "    </tr>\n",
       "    <tr>\n",
       "      <th>21490</th>\n",
       "      <td>19</td>\n",
       "      <td>Private</td>\n",
       "      <td>146679</td>\n",
       "      <td>Some-college</td>\n",
       "      <td>10</td>\n",
       "      <td>Never-married</td>\n",
       "      <td>Exec-managerial</td>\n",
       "      <td>Own-child</td>\n",
       "      <td>Black</td>\n",
       "      <td>Male</td>\n",
       "      <td>0</td>\n",
       "      <td>0</td>\n",
       "      <td>30</td>\n",
       "      <td>United-States</td>\n",
       "      <td>&lt;=50K</td>\n",
       "    </tr>\n",
       "    <tr>\n",
       "      <th>21875</th>\n",
       "      <td>49</td>\n",
       "      <td>Private</td>\n",
       "      <td>31267</td>\n",
       "      <td>7th-8th</td>\n",
       "      <td>4</td>\n",
       "      <td>Married-civ-spouse</td>\n",
       "      <td>Craft-repair</td>\n",
       "      <td>Husband</td>\n",
       "      <td>White</td>\n",
       "      <td>Male</td>\n",
       "      <td>0</td>\n",
       "      <td>0</td>\n",
       "      <td>40</td>\n",
       "      <td>United-States</td>\n",
       "      <td>&lt;=50K</td>\n",
       "    </tr>\n",
       "    <tr>\n",
       "      <th>22300</th>\n",
       "      <td>25</td>\n",
       "      <td>Private</td>\n",
       "      <td>195994</td>\n",
       "      <td>1st-4th</td>\n",
       "      <td>2</td>\n",
       "      <td>Never-married</td>\n",
       "      <td>Priv-house-serv</td>\n",
       "      <td>Not-in-family</td>\n",
       "      <td>White</td>\n",
       "      <td>Female</td>\n",
       "      <td>0</td>\n",
       "      <td>0</td>\n",
       "      <td>40</td>\n",
       "      <td>Guatemala</td>\n",
       "      <td>&lt;=50K</td>\n",
       "    </tr>\n",
       "    <tr>\n",
       "      <th>22367</th>\n",
       "      <td>44</td>\n",
       "      <td>Private</td>\n",
       "      <td>367749</td>\n",
       "      <td>Bachelors</td>\n",
       "      <td>13</td>\n",
       "      <td>Never-married</td>\n",
       "      <td>Prof-specialty</td>\n",
       "      <td>Not-in-family</td>\n",
       "      <td>White</td>\n",
       "      <td>Female</td>\n",
       "      <td>0</td>\n",
       "      <td>0</td>\n",
       "      <td>45</td>\n",
       "      <td>Mexico</td>\n",
       "      <td>&lt;=50K</td>\n",
       "    </tr>\n",
       "    <tr>\n",
       "      <th>22494</th>\n",
       "      <td>49</td>\n",
       "      <td>Self-emp-not-inc</td>\n",
       "      <td>43479</td>\n",
       "      <td>Some-college</td>\n",
       "      <td>10</td>\n",
       "      <td>Married-civ-spouse</td>\n",
       "      <td>Craft-repair</td>\n",
       "      <td>Husband</td>\n",
       "      <td>White</td>\n",
       "      <td>Male</td>\n",
       "      <td>0</td>\n",
       "      <td>0</td>\n",
       "      <td>40</td>\n",
       "      <td>United-States</td>\n",
       "      <td>&lt;=50K</td>\n",
       "    </tr>\n",
       "    <tr>\n",
       "      <th>25872</th>\n",
       "      <td>23</td>\n",
       "      <td>Private</td>\n",
       "      <td>240137</td>\n",
       "      <td>5th-6th</td>\n",
       "      <td>3</td>\n",
       "      <td>Never-married</td>\n",
       "      <td>Handlers-cleaners</td>\n",
       "      <td>Not-in-family</td>\n",
       "      <td>White</td>\n",
       "      <td>Male</td>\n",
       "      <td>0</td>\n",
       "      <td>0</td>\n",
       "      <td>55</td>\n",
       "      <td>Mexico</td>\n",
       "      <td>&lt;=50K</td>\n",
       "    </tr>\n",
       "    <tr>\n",
       "      <th>26313</th>\n",
       "      <td>28</td>\n",
       "      <td>Private</td>\n",
       "      <td>274679</td>\n",
       "      <td>Masters</td>\n",
       "      <td>14</td>\n",
       "      <td>Never-married</td>\n",
       "      <td>Prof-specialty</td>\n",
       "      <td>Not-in-family</td>\n",
       "      <td>White</td>\n",
       "      <td>Male</td>\n",
       "      <td>0</td>\n",
       "      <td>0</td>\n",
       "      <td>50</td>\n",
       "      <td>United-States</td>\n",
       "      <td>&lt;=50K</td>\n",
       "    </tr>\n",
       "    <tr>\n",
       "      <th>28230</th>\n",
       "      <td>27</td>\n",
       "      <td>Private</td>\n",
       "      <td>255582</td>\n",
       "      <td>HS-grad</td>\n",
       "      <td>9</td>\n",
       "      <td>Never-married</td>\n",
       "      <td>Machine-op-inspct</td>\n",
       "      <td>Not-in-family</td>\n",
       "      <td>White</td>\n",
       "      <td>Female</td>\n",
       "      <td>0</td>\n",
       "      <td>0</td>\n",
       "      <td>40</td>\n",
       "      <td>United-States</td>\n",
       "      <td>&lt;=50K</td>\n",
       "    </tr>\n",
       "    <tr>\n",
       "      <th>28522</th>\n",
       "      <td>42</td>\n",
       "      <td>Private</td>\n",
       "      <td>204235</td>\n",
       "      <td>Some-college</td>\n",
       "      <td>10</td>\n",
       "      <td>Married-civ-spouse</td>\n",
       "      <td>Prof-specialty</td>\n",
       "      <td>Husband</td>\n",
       "      <td>White</td>\n",
       "      <td>Male</td>\n",
       "      <td>0</td>\n",
       "      <td>0</td>\n",
       "      <td>40</td>\n",
       "      <td>United-States</td>\n",
       "      <td>&gt;50K</td>\n",
       "    </tr>\n",
       "    <tr>\n",
       "      <th>28846</th>\n",
       "      <td>39</td>\n",
       "      <td>Private</td>\n",
       "      <td>30916</td>\n",
       "      <td>HS-grad</td>\n",
       "      <td>9</td>\n",
       "      <td>Married-civ-spouse</td>\n",
       "      <td>Craft-repair</td>\n",
       "      <td>Husband</td>\n",
       "      <td>White</td>\n",
       "      <td>Male</td>\n",
       "      <td>0</td>\n",
       "      <td>0</td>\n",
       "      <td>40</td>\n",
       "      <td>United-States</td>\n",
       "      <td>&lt;=50K</td>\n",
       "    </tr>\n",
       "    <tr>\n",
       "      <th>29157</th>\n",
       "      <td>38</td>\n",
       "      <td>Private</td>\n",
       "      <td>207202</td>\n",
       "      <td>HS-grad</td>\n",
       "      <td>9</td>\n",
       "      <td>Married-civ-spouse</td>\n",
       "      <td>Machine-op-inspct</td>\n",
       "      <td>Husband</td>\n",
       "      <td>White</td>\n",
       "      <td>Male</td>\n",
       "      <td>0</td>\n",
       "      <td>0</td>\n",
       "      <td>48</td>\n",
       "      <td>United-States</td>\n",
       "      <td>&gt;50K</td>\n",
       "    </tr>\n",
       "    <tr>\n",
       "      <th>30845</th>\n",
       "      <td>46</td>\n",
       "      <td>Private</td>\n",
       "      <td>133616</td>\n",
       "      <td>Some-college</td>\n",
       "      <td>10</td>\n",
       "      <td>Divorced</td>\n",
       "      <td>Adm-clerical</td>\n",
       "      <td>Unmarried</td>\n",
       "      <td>White</td>\n",
       "      <td>Female</td>\n",
       "      <td>0</td>\n",
       "      <td>0</td>\n",
       "      <td>40</td>\n",
       "      <td>United-States</td>\n",
       "      <td>&lt;=50K</td>\n",
       "    </tr>\n",
       "    <tr>\n",
       "      <th>31993</th>\n",
       "      <td>19</td>\n",
       "      <td>Private</td>\n",
       "      <td>251579</td>\n",
       "      <td>Some-college</td>\n",
       "      <td>10</td>\n",
       "      <td>Never-married</td>\n",
       "      <td>Other-service</td>\n",
       "      <td>Own-child</td>\n",
       "      <td>White</td>\n",
       "      <td>Male</td>\n",
       "      <td>0</td>\n",
       "      <td>0</td>\n",
       "      <td>14</td>\n",
       "      <td>United-States</td>\n",
       "      <td>&lt;=50K</td>\n",
       "    </tr>\n",
       "    <tr>\n",
       "      <th>32404</th>\n",
       "      <td>35</td>\n",
       "      <td>Private</td>\n",
       "      <td>379959</td>\n",
       "      <td>HS-grad</td>\n",
       "      <td>9</td>\n",
       "      <td>Divorced</td>\n",
       "      <td>Other-service</td>\n",
       "      <td>Not-in-family</td>\n",
       "      <td>White</td>\n",
       "      <td>Female</td>\n",
       "      <td>0</td>\n",
       "      <td>0</td>\n",
       "      <td>40</td>\n",
       "      <td>United-States</td>\n",
       "      <td>&lt;=50K</td>\n",
       "    </tr>\n",
       "  </tbody>\n",
       "</table>\n",
       "</div>"
      ],
      "text/plain": [
       "       AGE         WORKCLASS  FNLWGT     EDUCATION  EDUCATION_NUM  \\\n",
       "4881    25           Private  308144     Bachelors             13   \n",
       "5104    90           Private   52386  Some-college             10   \n",
       "9171    21           Private  250051  Some-college             10   \n",
       "11631   20           Private  107658  Some-college             10   \n",
       "13084   25           Private  195994       1st-4th              2   \n",
       "15059   21           Private  243368     Preschool              1   \n",
       "17040   46           Private  173243       HS-grad              9   \n",
       "18555   30           Private  144593       HS-grad              9   \n",
       "18698   19           Private   97261       HS-grad              9   \n",
       "21318   19           Private  138153  Some-college             10   \n",
       "21490   19           Private  146679  Some-college             10   \n",
       "21875   49           Private   31267       7th-8th              4   \n",
       "22300   25           Private  195994       1st-4th              2   \n",
       "22367   44           Private  367749     Bachelors             13   \n",
       "22494   49  Self-emp-not-inc   43479  Some-college             10   \n",
       "25872   23           Private  240137       5th-6th              3   \n",
       "26313   28           Private  274679       Masters             14   \n",
       "28230   27           Private  255582       HS-grad              9   \n",
       "28522   42           Private  204235  Some-college             10   \n",
       "28846   39           Private   30916       HS-grad              9   \n",
       "29157   38           Private  207202       HS-grad              9   \n",
       "30845   46           Private  133616  Some-college             10   \n",
       "31993   19           Private  251579  Some-college             10   \n",
       "32404   35           Private  379959       HS-grad              9   \n",
       "\n",
       "           MARITAL_STATUS         OCCUPATION   RELATIONSHIP  \\\n",
       "4881        Never-married       Craft-repair  Not-in-family   \n",
       "5104        Never-married      Other-service  Not-in-family   \n",
       "9171        Never-married     Prof-specialty      Own-child   \n",
       "11631       Never-married       Tech-support  Not-in-family   \n",
       "13084       Never-married    Priv-house-serv  Not-in-family   \n",
       "15059       Never-married    Farming-fishing  Not-in-family   \n",
       "17040  Married-civ-spouse       Craft-repair        Husband   \n",
       "18555       Never-married      Other-service  Not-in-family   \n",
       "18698       Never-married    Farming-fishing  Not-in-family   \n",
       "21318       Never-married       Adm-clerical      Own-child   \n",
       "21490       Never-married    Exec-managerial      Own-child   \n",
       "21875  Married-civ-spouse       Craft-repair        Husband   \n",
       "22300       Never-married    Priv-house-serv  Not-in-family   \n",
       "22367       Never-married     Prof-specialty  Not-in-family   \n",
       "22494  Married-civ-spouse       Craft-repair        Husband   \n",
       "25872       Never-married  Handlers-cleaners  Not-in-family   \n",
       "26313       Never-married     Prof-specialty  Not-in-family   \n",
       "28230       Never-married  Machine-op-inspct  Not-in-family   \n",
       "28522  Married-civ-spouse     Prof-specialty        Husband   \n",
       "28846  Married-civ-spouse       Craft-repair        Husband   \n",
       "29157  Married-civ-spouse  Machine-op-inspct        Husband   \n",
       "30845            Divorced       Adm-clerical      Unmarried   \n",
       "31993       Never-married      Other-service      Own-child   \n",
       "32404            Divorced      Other-service  Not-in-family   \n",
       "\n",
       "                     RACE     SEX  CAPITAL_GAIN  CAPITAL_LOSS  HOURS_PER_WEEK  \\\n",
       "4881                White    Male             0             0              40   \n",
       "5104   Asian-Pac-Islander    Male             0             0              35   \n",
       "9171                White  Female             0             0              10   \n",
       "11631               White  Female             0             0              10   \n",
       "13084               White  Female             0             0              40   \n",
       "15059               White    Male             0             0              50   \n",
       "17040               White    Male             0             0              40   \n",
       "18555               Black    Male             0             0              40   \n",
       "18698               White    Male             0             0              40   \n",
       "21318               White  Female             0             0              10   \n",
       "21490               Black    Male             0             0              30   \n",
       "21875               White    Male             0             0              40   \n",
       "22300               White  Female             0             0              40   \n",
       "22367               White  Female             0             0              45   \n",
       "22494               White    Male             0             0              40   \n",
       "25872               White    Male             0             0              55   \n",
       "26313               White    Male             0             0              50   \n",
       "28230               White  Female             0             0              40   \n",
       "28522               White    Male             0             0              40   \n",
       "28846               White    Male             0             0              40   \n",
       "29157               White    Male             0             0              48   \n",
       "30845               White  Female             0             0              40   \n",
       "31993               White    Male             0             0              14   \n",
       "32404               White  Female             0             0              40   \n",
       "\n",
       "      NATIVE_COUNTRY INCOME  \n",
       "4881          Mexico  <=50K  \n",
       "5104   United-States  <=50K  \n",
       "9171   United-States  <=50K  \n",
       "11631  United-States  <=50K  \n",
       "13084      Guatemala  <=50K  \n",
       "15059         Mexico  <=50K  \n",
       "17040  United-States  <=50K  \n",
       "18555        Unknown  <=50K  \n",
       "18698  United-States  <=50K  \n",
       "21318  United-States  <=50K  \n",
       "21490  United-States  <=50K  \n",
       "21875  United-States  <=50K  \n",
       "22300      Guatemala  <=50K  \n",
       "22367         Mexico  <=50K  \n",
       "22494  United-States  <=50K  \n",
       "25872         Mexico  <=50K  \n",
       "26313  United-States  <=50K  \n",
       "28230  United-States  <=50K  \n",
       "28522  United-States   >50K  \n",
       "28846  United-States  <=50K  \n",
       "29157  United-States   >50K  \n",
       "30845  United-States  <=50K  \n",
       "31993  United-States  <=50K  \n",
       "32404  United-States  <=50K  "
      ]
     },
     "execution_count": 20,
     "metadata": {},
     "output_type": "execute_result"
    }
   ],
   "source": [
    "data.loc[data.duplicated()]"
   ]
  },
  {
   "cell_type": "code",
   "execution_count": 21,
   "id": "d999519c",
   "metadata": {},
   "outputs": [
    {
     "data": {
      "text/html": [
       "<div>\n",
       "<style scoped>\n",
       "    .dataframe tbody tr th:only-of-type {\n",
       "        vertical-align: middle;\n",
       "    }\n",
       "\n",
       "    .dataframe tbody tr th {\n",
       "        vertical-align: top;\n",
       "    }\n",
       "\n",
       "    .dataframe thead th {\n",
       "        text-align: right;\n",
       "    }\n",
       "</style>\n",
       "<table border=\"1\" class=\"dataframe\">\n",
       "  <thead>\n",
       "    <tr style=\"text-align: right;\">\n",
       "      <th></th>\n",
       "      <th>AGE</th>\n",
       "      <th>WORKCLASS</th>\n",
       "      <th>FNLWGT</th>\n",
       "      <th>EDUCATION</th>\n",
       "      <th>EDUCATION_NUM</th>\n",
       "      <th>MARITAL_STATUS</th>\n",
       "      <th>OCCUPATION</th>\n",
       "      <th>RELATIONSHIP</th>\n",
       "      <th>RACE</th>\n",
       "      <th>SEX</th>\n",
       "      <th>CAPITAL_GAIN</th>\n",
       "      <th>CAPITAL_LOSS</th>\n",
       "      <th>HOURS_PER_WEEK</th>\n",
       "      <th>NATIVE_COUNTRY</th>\n",
       "      <th>INCOME</th>\n",
       "    </tr>\n",
       "  </thead>\n",
       "  <tbody>\n",
       "    <tr>\n",
       "      <th>4325</th>\n",
       "      <td>25</td>\n",
       "      <td>Private</td>\n",
       "      <td>308144</td>\n",
       "      <td>Bachelors</td>\n",
       "      <td>13</td>\n",
       "      <td>Never-married</td>\n",
       "      <td>Craft-repair</td>\n",
       "      <td>Not-in-family</td>\n",
       "      <td>White</td>\n",
       "      <td>Male</td>\n",
       "      <td>0</td>\n",
       "      <td>0</td>\n",
       "      <td>40</td>\n",
       "      <td>Mexico</td>\n",
       "      <td>&lt;=50K</td>\n",
       "    </tr>\n",
       "    <tr>\n",
       "      <th>4881</th>\n",
       "      <td>25</td>\n",
       "      <td>Private</td>\n",
       "      <td>308144</td>\n",
       "      <td>Bachelors</td>\n",
       "      <td>13</td>\n",
       "      <td>Never-married</td>\n",
       "      <td>Craft-repair</td>\n",
       "      <td>Not-in-family</td>\n",
       "      <td>White</td>\n",
       "      <td>Male</td>\n",
       "      <td>0</td>\n",
       "      <td>0</td>\n",
       "      <td>40</td>\n",
       "      <td>Mexico</td>\n",
       "      <td>&lt;=50K</td>\n",
       "    </tr>\n",
       "  </tbody>\n",
       "</table>\n",
       "</div>"
      ],
      "text/plain": [
       "      AGE WORKCLASS  FNLWGT  EDUCATION  EDUCATION_NUM MARITAL_STATUS  \\\n",
       "4325   25   Private  308144  Bachelors             13  Never-married   \n",
       "4881   25   Private  308144  Bachelors             13  Never-married   \n",
       "\n",
       "        OCCUPATION   RELATIONSHIP   RACE   SEX  CAPITAL_GAIN  CAPITAL_LOSS  \\\n",
       "4325  Craft-repair  Not-in-family  White  Male             0             0   \n",
       "4881  Craft-repair  Not-in-family  White  Male             0             0   \n",
       "\n",
       "      HOURS_PER_WEEK NATIVE_COUNTRY INCOME  \n",
       "4325              40         Mexico  <=50K  \n",
       "4881              40         Mexico  <=50K  "
      ]
     },
     "execution_count": 21,
     "metadata": {},
     "output_type": "execute_result"
    }
   ],
   "source": [
    "data[(data['AGE'] == 25) &( data['FNLWGT'] == 308144)]"
   ]
  },
  {
   "cell_type": "code",
   "execution_count": 22,
   "id": "6983658a",
   "metadata": {},
   "outputs": [],
   "source": [
    "data.drop_duplicates(inplace = True)"
   ]
  },
  {
   "cell_type": "markdown",
   "id": "eb744dce",
   "metadata": {},
   "source": [
    "## Statistical Analysis and Plotting"
   ]
  },
  {
   "cell_type": "code",
   "execution_count": 23,
   "id": "e61c3488",
   "metadata": {},
   "outputs": [
    {
     "data": {
      "text/html": [
       "<div>\n",
       "<style scoped>\n",
       "    .dataframe tbody tr th:only-of-type {\n",
       "        vertical-align: middle;\n",
       "    }\n",
       "\n",
       "    .dataframe tbody tr th {\n",
       "        vertical-align: top;\n",
       "    }\n",
       "\n",
       "    .dataframe thead th {\n",
       "        text-align: right;\n",
       "    }\n",
       "</style>\n",
       "<table border=\"1\" class=\"dataframe\">\n",
       "  <thead>\n",
       "    <tr style=\"text-align: right;\">\n",
       "      <th></th>\n",
       "      <th>count</th>\n",
       "      <th>mean</th>\n",
       "      <th>std</th>\n",
       "      <th>min</th>\n",
       "      <th>25%</th>\n",
       "      <th>50%</th>\n",
       "      <th>75%</th>\n",
       "      <th>max</th>\n",
       "    </tr>\n",
       "  </thead>\n",
       "  <tbody>\n",
       "    <tr>\n",
       "      <th>AGE</th>\n",
       "      <td>32537.0</td>\n",
       "      <td>38.585549</td>\n",
       "      <td>13.637984</td>\n",
       "      <td>17.0</td>\n",
       "      <td>28.0</td>\n",
       "      <td>37.0</td>\n",
       "      <td>48.0</td>\n",
       "      <td>90.0</td>\n",
       "    </tr>\n",
       "    <tr>\n",
       "      <th>FNLWGT</th>\n",
       "      <td>32537.0</td>\n",
       "      <td>189780.848511</td>\n",
       "      <td>105556.471009</td>\n",
       "      <td>12285.0</td>\n",
       "      <td>117827.0</td>\n",
       "      <td>178356.0</td>\n",
       "      <td>236993.0</td>\n",
       "      <td>1484705.0</td>\n",
       "    </tr>\n",
       "    <tr>\n",
       "      <th>EDUCATION_NUM</th>\n",
       "      <td>32537.0</td>\n",
       "      <td>10.081815</td>\n",
       "      <td>2.571633</td>\n",
       "      <td>1.0</td>\n",
       "      <td>9.0</td>\n",
       "      <td>10.0</td>\n",
       "      <td>12.0</td>\n",
       "      <td>16.0</td>\n",
       "    </tr>\n",
       "    <tr>\n",
       "      <th>CAPITAL_GAIN</th>\n",
       "      <td>32537.0</td>\n",
       "      <td>1078.443741</td>\n",
       "      <td>7387.957424</td>\n",
       "      <td>0.0</td>\n",
       "      <td>0.0</td>\n",
       "      <td>0.0</td>\n",
       "      <td>0.0</td>\n",
       "      <td>99999.0</td>\n",
       "    </tr>\n",
       "    <tr>\n",
       "      <th>CAPITAL_LOSS</th>\n",
       "      <td>32537.0</td>\n",
       "      <td>87.368227</td>\n",
       "      <td>403.101833</td>\n",
       "      <td>0.0</td>\n",
       "      <td>0.0</td>\n",
       "      <td>0.0</td>\n",
       "      <td>0.0</td>\n",
       "      <td>4356.0</td>\n",
       "    </tr>\n",
       "    <tr>\n",
       "      <th>HOURS_PER_WEEK</th>\n",
       "      <td>32537.0</td>\n",
       "      <td>40.440329</td>\n",
       "      <td>12.346889</td>\n",
       "      <td>1.0</td>\n",
       "      <td>40.0</td>\n",
       "      <td>40.0</td>\n",
       "      <td>45.0</td>\n",
       "      <td>99.0</td>\n",
       "    </tr>\n",
       "  </tbody>\n",
       "</table>\n",
       "</div>"
      ],
      "text/plain": [
       "                  count           mean            std      min       25%  \\\n",
       "AGE             32537.0      38.585549      13.637984     17.0      28.0   \n",
       "FNLWGT          32537.0  189780.848511  105556.471009  12285.0  117827.0   \n",
       "EDUCATION_NUM   32537.0      10.081815       2.571633      1.0       9.0   \n",
       "CAPITAL_GAIN    32537.0    1078.443741    7387.957424      0.0       0.0   \n",
       "CAPITAL_LOSS    32537.0      87.368227     403.101833      0.0       0.0   \n",
       "HOURS_PER_WEEK  32537.0      40.440329      12.346889      1.0      40.0   \n",
       "\n",
       "                     50%       75%        max  \n",
       "AGE                 37.0      48.0       90.0  \n",
       "FNLWGT          178356.0  236993.0  1484705.0  \n",
       "EDUCATION_NUM       10.0      12.0       16.0  \n",
       "CAPITAL_GAIN         0.0       0.0    99999.0  \n",
       "CAPITAL_LOSS         0.0       0.0     4356.0  \n",
       "HOURS_PER_WEEK      40.0      45.0       99.0  "
      ]
     },
     "execution_count": 23,
     "metadata": {},
     "output_type": "execute_result"
    }
   ],
   "source": [
    "data.describe().T"
   ]
  },
  {
   "cell_type": "code",
   "execution_count": 24,
   "id": "dbfe0b15",
   "metadata": {},
   "outputs": [
    {
     "data": {
      "text/html": [
       "<div>\n",
       "<style scoped>\n",
       "    .dataframe tbody tr th:only-of-type {\n",
       "        vertical-align: middle;\n",
       "    }\n",
       "\n",
       "    .dataframe tbody tr th {\n",
       "        vertical-align: top;\n",
       "    }\n",
       "\n",
       "    .dataframe thead th {\n",
       "        text-align: right;\n",
       "    }\n",
       "</style>\n",
       "<table border=\"1\" class=\"dataframe\">\n",
       "  <thead>\n",
       "    <tr style=\"text-align: right;\">\n",
       "      <th></th>\n",
       "      <th>count</th>\n",
       "      <th>unique</th>\n",
       "      <th>top</th>\n",
       "      <th>freq</th>\n",
       "    </tr>\n",
       "  </thead>\n",
       "  <tbody>\n",
       "    <tr>\n",
       "      <th>WORKCLASS</th>\n",
       "      <td>32537</td>\n",
       "      <td>9</td>\n",
       "      <td>Private</td>\n",
       "      <td>22673</td>\n",
       "    </tr>\n",
       "    <tr>\n",
       "      <th>EDUCATION</th>\n",
       "      <td>32537</td>\n",
       "      <td>16</td>\n",
       "      <td>HS-grad</td>\n",
       "      <td>10494</td>\n",
       "    </tr>\n",
       "    <tr>\n",
       "      <th>MARITAL_STATUS</th>\n",
       "      <td>32537</td>\n",
       "      <td>7</td>\n",
       "      <td>Married-civ-spouse</td>\n",
       "      <td>14970</td>\n",
       "    </tr>\n",
       "    <tr>\n",
       "      <th>OCCUPATION</th>\n",
       "      <td>32537</td>\n",
       "      <td>15</td>\n",
       "      <td>Prof-specialty</td>\n",
       "      <td>4136</td>\n",
       "    </tr>\n",
       "    <tr>\n",
       "      <th>RELATIONSHIP</th>\n",
       "      <td>32537</td>\n",
       "      <td>6</td>\n",
       "      <td>Husband</td>\n",
       "      <td>13187</td>\n",
       "    </tr>\n",
       "    <tr>\n",
       "      <th>RACE</th>\n",
       "      <td>32537</td>\n",
       "      <td>5</td>\n",
       "      <td>White</td>\n",
       "      <td>27795</td>\n",
       "    </tr>\n",
       "    <tr>\n",
       "      <th>SEX</th>\n",
       "      <td>32537</td>\n",
       "      <td>2</td>\n",
       "      <td>Male</td>\n",
       "      <td>21775</td>\n",
       "    </tr>\n",
       "    <tr>\n",
       "      <th>NATIVE_COUNTRY</th>\n",
       "      <td>32537</td>\n",
       "      <td>42</td>\n",
       "      <td>United-States</td>\n",
       "      <td>29153</td>\n",
       "    </tr>\n",
       "    <tr>\n",
       "      <th>INCOME</th>\n",
       "      <td>32537</td>\n",
       "      <td>2</td>\n",
       "      <td>&lt;=50K</td>\n",
       "      <td>24698</td>\n",
       "    </tr>\n",
       "  </tbody>\n",
       "</table>\n",
       "</div>"
      ],
      "text/plain": [
       "                count unique                 top   freq\n",
       "WORKCLASS       32537      9             Private  22673\n",
       "EDUCATION       32537     16             HS-grad  10494\n",
       "MARITAL_STATUS  32537      7  Married-civ-spouse  14970\n",
       "OCCUPATION      32537     15      Prof-specialty   4136\n",
       "RELATIONSHIP    32537      6             Husband  13187\n",
       "RACE            32537      5               White  27795\n",
       "SEX             32537      2                Male  21775\n",
       "NATIVE_COUNTRY  32537     42       United-States  29153\n",
       "INCOME          32537      2               <=50K  24698"
      ]
     },
     "execution_count": 24,
     "metadata": {},
     "output_type": "execute_result"
    }
   ],
   "source": [
    "data.describe(include = ['object']).T"
   ]
  },
  {
   "cell_type": "markdown",
   "id": "b0dc1b7c",
   "metadata": {},
   "source": [
    "### Univariate plots"
   ]
  },
  {
   "cell_type": "markdown",
   "id": "0b74b37c",
   "metadata": {},
   "source": [
    "**NOTE: The data represents the number of people (FNLWGT) falling under same set of characterstics (remaining independent variables in the data). We can explore the actual number of people as well as the occurace of a given independent variable in our dataset**"
   ]
  },
  {
   "cell_type": "markdown",
   "id": "f30c2e29",
   "metadata": {},
   "source": [
    "**Executive Summary**"
   ]
  },
  {
   "cell_type": "markdown",
   "id": "716fa859",
   "metadata": {},
   "source": [
    "1. The data has more than 6.1 Billion people out of which 4.37 billion people work in the private sector\n",
    "2. EDUCATION_NUM column in the data gives us the order of education levels\n",
    "3. The data has highest people from HS-grad education level, followed by Some-college and Bachelors covering 71% of the data\n",
    "4. People with marital status Married-civ-spouse anf Never-married cover more than 80% of the data\n",
    "5. The data has more than 5 billion people from White Race\n",
    "6. Almost half of the people work for 40 hours per week\n",
    "7. 5.5 billion people in the data are from the United States"
   ]
  },
  {
   "cell_type": "markdown",
   "id": "a8253340",
   "metadata": {},
   "source": [
    "**1. WORKCLASS: Bar Chart**\n",
    "\n",
    "**Insight:** The data has more than 6.1 Billion people out of which 4.37 billion people work in the private sector"
   ]
  },
  {
   "cell_type": "code",
   "execution_count": 26,
   "id": "b560c86b",
   "metadata": {},
   "outputs": [],
   "source": [
    "workclass_data = data.groupby(['WORKCLASS'])[['FNLWGT']].agg('sum').reset_index()"
   ]
  },
  {
   "cell_type": "code",
   "execution_count": 27,
   "id": "0644279f",
   "metadata": {},
   "outputs": [
    {
     "data": {
      "text/plain": [
       "<AxesSubplot:xlabel='FNLWGT', ylabel='WORKCLASS'>"
      ]
     },
     "execution_count": 27,
     "metadata": {},
     "output_type": "execute_result"
    },
    {
     "data": {
      "image/png": "[encoded data removed]",
      "text/plain": [
       "<Figure size 432x288 with 1 Axes>"
      ]
     },
     "metadata": {
      "needs_background": "light"
     },
     "output_type": "display_data"
    }
   ],
   "source": [
    "plt.ticklabel_format(style = 'plain', axis = 'x')\n",
    "ax = plt.gca()\n",
    "ax.xaxis.set_major_formatter(tick.FuncFormatter(reformat_large_tick_values))\n",
    "\n",
    "sns.barplot(y = 'WORKCLASS', x = 'FNLWGT', data = workclass_data, order = workclass_data.sort_values(by = ['FNLWGT'])['WORKCLASS'])"
   ]
  },
  {
   "cell_type": "markdown",
   "id": "342c0f49",
   "metadata": {},
   "source": [
    "**2. EDUCATION & EDUCATION_NUM: Bar Chart**\n",
    "\n",
    "**Insights:** The data has highest people from HS-grad education level, followed by Some-college and Bachelors covering 71% of the data\n",
    "\n",
    "Note: EDUCATION_NUM column in the data gives us the order of education levels"
   ]
  },
  {
   "cell_type": "markdown",
   "id": "8374dbd2",
   "metadata": {},
   "source": [
    "**EDUCATION_NUM column is numerical representation of the ordering of the EDUCATION column**"
   ]
  },
  {
   "cell_type": "code",
   "execution_count": 28,
   "id": "c88ae882",
   "metadata": {},
   "outputs": [],
   "source": [
    "order_list = ['Preschool', '1st-4th', '5th-6th', '7th-8th', '9th', '10th', '11th', '12th', 'HS-grad', 'Some-college',\n",
    "              'Assoc-voc', 'Assoc-acdm', 'Bachelors', 'Masters', 'Prof-school', 'Doctorate']"
   ]
  },
  {
   "cell_type": "code",
   "execution_count": 29,
   "id": "8a4d082b",
   "metadata": {},
   "outputs": [],
   "source": [
    "custom_dict = {order_list[i]: i for i in range(len(order_list))}"
   ]
  },
  {
   "cell_type": "code",
   "execution_count": 30,
   "id": "01c4db50",
   "metadata": {},
   "outputs": [],
   "source": [
    "education_df = pd.DataFrame(data.groupby(['EDUCATION'])['FNLWGT'].agg('sum')).reset_index().\\\n",
    "               sort_values(by = ['EDUCATION'], key = lambda x: x.map(custom_dict)).reset_index(drop = True)"
   ]
  },
  {
   "cell_type": "markdown",
   "id": "595e8ff9",
   "metadata": {},
   "source": [
    "**Actual number of poeple in our dataset**"
   ]
  },
  {
   "cell_type": "code",
   "execution_count": 31,
   "id": "58c106b7",
   "metadata": {},
   "outputs": [
    {
     "data": {
      "text/plain": [
       "<AxesSubplot:xlabel='FNLWGT', ylabel='EDUCATION'>"
      ]
     },
     "execution_count": 31,
     "metadata": {},
     "output_type": "execute_result"
    },
    {
     "data": {
      "image/png": "[encoded data removed]",
      "text/plain": [
       "<Figure size 432x288 with 1 Axes>"
      ]
     },
     "metadata": {
      "needs_background": "light"
     },
     "output_type": "display_data"
    }
   ],
   "source": [
    "plt.ticklabel_format(style = 'plain', axis = 'x')\n",
    "ax = plt.gca()\n",
    "ax.xaxis.set_major_formatter(tick.FuncFormatter(reformat_large_tick_values))\n",
    "sns.barplot(y = 'EDUCATION', x = 'FNLWGT', data = education_df, order = order_list)"
   ]
  },
  {
   "cell_type": "markdown",
   "id": "0c553345",
   "metadata": {},
   "source": [
    "**The column EDUCATION_NUM gives us the hierarchy of categories in EDUCATION column**"
   ]
  },
  {
   "cell_type": "code",
   "execution_count": 32,
   "id": "0f342e18",
   "metadata": {},
   "outputs": [
    {
     "data": {
      "text/plain": [
       "<AxesSubplot:xlabel='count', ylabel='EDUCATION_NUM'>"
      ]
     },
     "execution_count": 32,
     "metadata": {},
     "output_type": "execute_result"
    },
    {
     "data": {
      "image/png": "[encoded data removed]",
      "text/plain": [
       "<Figure size 432x288 with 1 Axes>"
      ]
     },
     "metadata": {
      "needs_background": "light"
     },
     "output_type": "display_data"
    }
   ],
   "source": [
    "ax = plt.gca()\n",
    "ax.xaxis.set_major_formatter(tick.FuncFormatter(reformat_large_tick_values))\n",
    "sns.countplot(y = data['EDUCATION_NUM'], order = sorted(data['EDUCATION_NUM'].unique()))"
   ]
  },
  {
   "cell_type": "markdown",
   "id": "dd155613",
   "metadata": {},
   "source": [
    "**3. Marital Status: Bar Chart**\n",
    "\n",
    "**Insights:** People with marital status Married-civ-spouse anf Never-married cover more than 80% of the data"
   ]
  },
  {
   "cell_type": "code",
   "execution_count": 33,
   "id": "80eeb347",
   "metadata": {},
   "outputs": [],
   "source": [
    "marital_status_df = pd.DataFrame(data.groupby(['MARITAL_STATUS'])['FNLWGT'].agg('sum')).reset_index().\\\n",
    "               sort_values(by = ['MARITAL_STATUS']).reset_index(drop = True)"
   ]
  },
  {
   "cell_type": "code",
   "execution_count": 34,
   "id": "1e12f621",
   "metadata": {},
   "outputs": [
    {
     "data": {
      "text/plain": [
       "<AxesSubplot:xlabel='FNLWGT', ylabel='MARITAL_STATUS'>"
      ]
     },
     "execution_count": 34,
     "metadata": {},
     "output_type": "execute_result"
    },
    {
     "data": {
      "image/png": "[encoded data removed]",
      "text/plain": [
       "<Figure size 432x288 with 1 Axes>"
      ]
     },
     "metadata": {
      "needs_background": "light"
     },
     "output_type": "display_data"
    }
   ],
   "source": [
    "plt.ticklabel_format(style = 'plain', axis = 'x')\n",
    "ax = plt.gca()\n",
    "ax.xaxis.set_major_formatter(tick.FuncFormatter(reformat_large_tick_values))\n",
    "\n",
    "sns.barplot(y = 'MARITAL_STATUS', x = 'FNLWGT', data = marital_status_df, order = marital_status_df.sort_values(by = ['FNLWGT'])['MARITAL_STATUS'])"
   ]
  },
  {
   "cell_type": "markdown",
   "id": "fac149fb",
   "metadata": {},
   "source": [
    "**4. Race: Bar Chart**\n",
    "\n",
    "**Insights:** The data has more than 5 billion people from White Race"
   ]
  },
  {
   "cell_type": "code",
   "execution_count": 35,
   "id": "ae645637",
   "metadata": {},
   "outputs": [],
   "source": [
    "race_df = pd.DataFrame(data.groupby(['RACE'])['FNLWGT'].agg('sum')).reset_index().\\\n",
    "               sort_values(by = ['RACE']).reset_index(drop = True)"
   ]
  },
  {
   "cell_type": "code",
   "execution_count": 36,
   "id": "457b7a1a",
   "metadata": {},
   "outputs": [
    {
     "data": {
      "text/plain": [
       "<AxesSubplot:xlabel='FNLWGT', ylabel='RACE'>"
      ]
     },
     "execution_count": 36,
     "metadata": {},
     "output_type": "execute_result"
    },
    {
     "data": {
      "image/png": "[encoded data removed]",
      "text/plain": [
       "<Figure size 432x288 with 1 Axes>"
      ]
     },
     "metadata": {
      "needs_background": "light"
     },
     "output_type": "display_data"
    }
   ],
   "source": [
    "plt.ticklabel_format(style = 'plain', axis = 'x')\n",
    "ax = plt.gca()\n",
    "ax.xaxis.set_major_formatter(tick.FuncFormatter(reformat_large_tick_values))\n",
    "\n",
    "sns.barplot(y = 'RACE', x = 'FNLWGT', data = race_df, order = race_df.sort_values(by = ['FNLWGT'])['RACE'])"
   ]
  },
  {
   "cell_type": "markdown",
   "id": "0aa648c3",
   "metadata": {},
   "source": [
    "**5. Work-hours per week: Bar Chart**\n",
    "\n",
    "**Insights:** Almost half of the people work for 40 hours per week"
   ]
  },
  {
   "cell_type": "code",
   "execution_count": 37,
   "id": "ac3943f4",
   "metadata": {},
   "outputs": [],
   "source": [
    "hours_per_week_df = pd.DataFrame(data.groupby(['HOURS_PER_WEEK'])['FNLWGT'].agg('sum')).reset_index().\\\n",
    "               sort_values(by = ['HOURS_PER_WEEK']).reset_index(drop = True)"
   ]
  },
  {
   "cell_type": "code",
   "execution_count": 38,
   "id": "6f4a7206",
   "metadata": {},
   "outputs": [
    {
     "data": {
      "text/plain": [
       "<AxesSubplot:xlabel='HOURS_PER_WEEK', ylabel='FNLWGT'>"
      ]
     },
     "execution_count": 38,
     "metadata": {},
     "output_type": "execute_result"
    },
    {
     "data": {
      "image/png": "[encoded data removed]",
      "text/plain": [
       "<Figure size 1008x720 with 1 Axes>"
      ]
     },
     "metadata": {
      "needs_background": "light"
     },
     "output_type": "display_data"
    }
   ],
   "source": [
    "plt.figure(figsize = (14, 10))\n",
    "plt.ticklabel_format(style = 'plain', axis = 'y')\n",
    "ax = plt.gca()\n",
    "ax.yaxis.set_major_formatter(tick.FuncFormatter(reformat_large_tick_values))\n",
    "\n",
    "sns.barplot(x = 'HOURS_PER_WEEK', y = 'FNLWGT', data = hours_per_week_df, order = hours_per_week_df.sort_values(by = ['HOURS_PER_WEEK']).head(50)['HOURS_PER_WEEK'])"
   ]
  },
  {
   "cell_type": "markdown",
   "id": "bf42ace5",
   "metadata": {},
   "source": [
    "**6. Native countries: Bar Chart**\n",
    "\n",
    "**Insights:** 5.5 billion people in the data are from the United States"
   ]
  },
  {
   "cell_type": "code",
   "execution_count": 39,
   "id": "36ed044a",
   "metadata": {},
   "outputs": [],
   "source": [
    "native_country_df = pd.DataFrame(data.groupby(['NATIVE_COUNTRY'])['FNLWGT'].agg('sum')).reset_index().\\\n",
    "               sort_values(by = ['NATIVE_COUNTRY']).reset_index(drop = True)"
   ]
  },
  {
   "cell_type": "code",
   "execution_count": 40,
   "id": "d18fdd73",
   "metadata": {},
   "outputs": [
    {
     "data": {
      "text/plain": [
       "<AxesSubplot:xlabel='FNLWGT', ylabel='NATIVE_COUNTRY'>"
      ]
     },
     "execution_count": 40,
     "metadata": {},
     "output_type": "execute_result"
    },
    {
     "data": {
      "image/png": "[encoded data removed]",
      "text/plain": [
       "<Figure size 1008x720 with 1 Axes>"
      ]
     },
     "metadata": {
      "needs_background": "light"
     },
     "output_type": "display_data"
    }
   ],
   "source": [
    "plt.figure(figsize = (14, 10))\n",
    "plt.ticklabel_format(style = 'plain', axis = 'x')\n",
    "ax = plt.gca()\n",
    "ax.xaxis.set_major_formatter(tick.FuncFormatter(reformat_large_tick_values))\n",
    "\n",
    "sns.barplot(y = 'NATIVE_COUNTRY', x = 'FNLWGT', data = native_country_df, order = native_country_df.sort_values(by = ['FNLWGT']).head(50)['NATIVE_COUNTRY'])"
   ]
  },
  {
   "cell_type": "markdown",
   "id": "2e3e0984",
   "metadata": {},
   "source": [
    "**7. Income: target column**\n",
    "\n",
    "**Insight:** The classes of target column are not imbalanced"
   ]
  },
  {
   "cell_type": "code",
   "execution_count": 41,
   "id": "e3ee726a",
   "metadata": {},
   "outputs": [
    {
     "data": {
      "text/plain": [
       "INCOME\n",
       "<=50K    4701163700\n",
       ">50K     1473735768\n",
       "Name: FNLWGT, dtype: int64"
      ]
     },
     "execution_count": 41,
     "metadata": {},
     "output_type": "execute_result"
    }
   ],
   "source": [
    "data.groupby('INCOME')['FNLWGT'].agg('sum')"
   ]
  },
  {
   "cell_type": "code",
   "execution_count": 42,
   "id": "c04bdcd1",
   "metadata": {},
   "outputs": [
    {
     "data": {
      "text/plain": [
       "<AxesSubplot:ylabel='FNLWGT'>"
      ]
     },
     "execution_count": 42,
     "metadata": {},
     "output_type": "execute_result"
    },
    {
     "data": {
      "image/png": "[encoded data removed]",
      "text/plain": [
       "<Figure size 432x288 with 1 Axes>"
      ]
     },
     "metadata": {},
     "output_type": "display_data"
    }
   ],
   "source": [
    "data.groupby('INCOME')['FNLWGT'].agg('sum').plot(kind ='pie')"
   ]
  },
  {
   "cell_type": "markdown",
   "id": "6a717316",
   "metadata": {},
   "source": [
    "**8. Plotting the population size for each type of record**"
   ]
  },
  {
   "cell_type": "code",
   "execution_count": 43,
   "id": "fdaddd91",
   "metadata": {},
   "outputs": [
    {
     "data": {
      "image/png": "[encoded data removed]",
      "text/plain": [
       "<Figure size 1008x432 with 1 Axes>"
      ]
     },
     "metadata": {
      "needs_background": "light"
     },
     "output_type": "display_data"
    }
   ],
   "source": [
    "bin_values = np.arange(start = 0, stop = 1500000, step = 20000)\n",
    "data['FNLWGT'].hist(bins = bin_values, figsize = [14, 6])\n",
    "\n",
    "ax = plt.gca()\n",
    "ax.xaxis.set_major_formatter(tick.FuncFormatter(reformat_large_tick_values))"
   ]
  },
  {
   "cell_type": "markdown",
   "id": "4f10b213",
   "metadata": {},
   "source": [
    "### Bivariate plots"
   ]
  },
  {
   "cell_type": "markdown",
   "id": "baf6308e",
   "metadata": {},
   "source": [
    "**Executive Summary**\n",
    "\n",
    "1. Only 11% of the females earn more than 50K USD as compared to the 30% of males\n",
    "2. 58% of the people working under WORKCLASS Self-emp-inc are earning more than 50K USD\n",
    "3. As expected, with better the education, the % of people earning more than 50K USD increases\n",
    "4. A good proportion of Married-civ-spouse and Married-AF-spouse earn more than 50K USD\n",
    "5. There are no females in the armed forces (present in the data)"
   ]
  },
  {
   "cell_type": "markdown",
   "id": "bf9867e1",
   "metadata": {},
   "source": [
    "**1. Distribution across Gender**\n",
    "\n",
    "**Insights:** Only 11% of the females earn more than 50K USD as compared to the 30% of males"
   ]
  },
  {
   "cell_type": "code",
   "execution_count": 44,
   "id": "9e7c0f56",
   "metadata": {},
   "outputs": [
    {
     "data": {
      "image/png": "[encoded data removed]",
      "text/plain": [
       "<Figure size 432x288 with 1 Axes>"
      ]
     },
     "metadata": {
      "needs_background": "light"
     },
     "output_type": "display_data"
    }
   ],
   "source": [
    "data.groupby(['SEX', 'INCOME'])['FNLWGT'].agg('sum').unstack().plot(kind = 'bar')\n",
    "\n",
    "plt.ticklabel_format(style = 'plain', axis = 'y')\n",
    "ax = plt.gca()\n",
    "ax.yaxis.set_major_formatter(tick.FuncFormatter(reformat_large_tick_values))"
   ]
  },
  {
   "cell_type": "code",
   "execution_count": 45,
   "id": "4fd7ae5a",
   "metadata": {},
   "outputs": [
    {
     "data": {
      "text/html": [
       "<div>\n",
       "<style scoped>\n",
       "    .dataframe tbody tr th:only-of-type {\n",
       "        vertical-align: middle;\n",
       "    }\n",
       "\n",
       "    .dataframe tbody tr th {\n",
       "        vertical-align: top;\n",
       "    }\n",
       "\n",
       "    .dataframe thead tr th {\n",
       "        text-align: left;\n",
       "    }\n",
       "\n",
       "    .dataframe thead tr:last-of-type th {\n",
       "        text-align: right;\n",
       "    }\n",
       "</style>\n",
       "<table border=\"1\" class=\"dataframe\">\n",
       "  <thead>\n",
       "    <tr>\n",
       "      <th></th>\n",
       "      <th colspan=\"2\" halign=\"left\">PERC</th>\n",
       "    </tr>\n",
       "    <tr>\n",
       "      <th>INCOME</th>\n",
       "      <th>&lt;=50K</th>\n",
       "      <th>&gt;50K</th>\n",
       "    </tr>\n",
       "    <tr>\n",
       "      <th>SEX</th>\n",
       "      <th></th>\n",
       "      <th></th>\n",
       "    </tr>\n",
       "  </thead>\n",
       "  <tbody>\n",
       "    <tr>\n",
       "      <th>Female</th>\n",
       "      <td>89.164307</td>\n",
       "      <td>10.835693</td>\n",
       "    </tr>\n",
       "    <tr>\n",
       "      <th>Male</th>\n",
       "      <td>69.897202</td>\n",
       "      <td>30.102798</td>\n",
       "    </tr>\n",
       "  </tbody>\n",
       "</table>\n",
       "</div>"
      ],
      "text/plain": [
       "             PERC           \n",
       "INCOME      <=50K       >50K\n",
       "SEX                         \n",
       "Female  89.164307  10.835693\n",
       "Male    69.897202  30.102798"
      ]
     },
     "execution_count": 45,
     "metadata": {},
     "output_type": "execute_result"
    }
   ],
   "source": [
    "pd.DataFrame((data.groupby(['SEX', 'INCOME'])['FNLWGT'].agg('sum') / data.groupby('SEX')['FNLWGT'].agg('sum') * 100)).rename(columns = {'FNLWGT': 'PERC'}).unstack()"
   ]
  },
  {
   "cell_type": "markdown",
   "id": "5d4f718f",
   "metadata": {},
   "source": [
    "**2. Distribution across WORKCLASS**\n",
    "\n",
    "**Insights:** 58% of the people working under WORKCLASS Self-emp-inc are earning more than 50K USD"
   ]
  },
  {
   "cell_type": "code",
   "execution_count": 46,
   "id": "77a8c1ca",
   "metadata": {},
   "outputs": [
    {
     "data": {
      "image/png": "[encoded data removed]",
      "text/plain": [
       "<Figure size 432x288 with 1 Axes>"
      ]
     },
     "metadata": {
      "needs_background": "light"
     },
     "output_type": "display_data"
    }
   ],
   "source": [
    "data.groupby(['WORKCLASS', 'INCOME'])['FNLWGT'].agg('sum').unstack().plot(kind = 'barh')\n",
    "\n",
    "plt.ticklabel_format(style = 'plain', axis = 'x')\n",
    "ax = plt.gca()\n",
    "ax.xaxis.set_major_formatter(tick.FuncFormatter(reformat_large_tick_values))"
   ]
  },
  {
   "cell_type": "code",
   "execution_count": 47,
   "id": "c7c97a18",
   "metadata": {},
   "outputs": [
    {
     "data": {
      "text/html": [
       "<div>\n",
       "<style scoped>\n",
       "    .dataframe tbody tr th:only-of-type {\n",
       "        vertical-align: middle;\n",
       "    }\n",
       "\n",
       "    .dataframe tbody tr th {\n",
       "        vertical-align: top;\n",
       "    }\n",
       "\n",
       "    .dataframe thead tr th {\n",
       "        text-align: left;\n",
       "    }\n",
       "\n",
       "    .dataframe thead tr:last-of-type th {\n",
       "        text-align: right;\n",
       "    }\n",
       "</style>\n",
       "<table border=\"1\" class=\"dataframe\">\n",
       "  <thead>\n",
       "    <tr>\n",
       "      <th></th>\n",
       "      <th colspan=\"2\" halign=\"left\">PERC</th>\n",
       "    </tr>\n",
       "    <tr>\n",
       "      <th>INCOME</th>\n",
       "      <th>&lt;=50K</th>\n",
       "      <th>&gt;50K</th>\n",
       "    </tr>\n",
       "    <tr>\n",
       "      <th>WORKCLASS</th>\n",
       "      <th></th>\n",
       "      <th></th>\n",
       "    </tr>\n",
       "  </thead>\n",
       "  <tbody>\n",
       "    <tr>\n",
       "      <th>Federal-gov</th>\n",
       "      <td>60.901368</td>\n",
       "      <td>39.098632</td>\n",
       "    </tr>\n",
       "    <tr>\n",
       "      <th>Local-gov</th>\n",
       "      <td>69.812039</td>\n",
       "      <td>30.187961</td>\n",
       "    </tr>\n",
       "    <tr>\n",
       "      <th>Never-worked</th>\n",
       "      <td>100.000000</td>\n",
       "      <td>NaN</td>\n",
       "    </tr>\n",
       "    <tr>\n",
       "      <th>Private</th>\n",
       "      <td>78.539451</td>\n",
       "      <td>21.460549</td>\n",
       "    </tr>\n",
       "    <tr>\n",
       "      <th>Self-emp-inc</th>\n",
       "      <td>42.019110</td>\n",
       "      <td>57.980890</td>\n",
       "    </tr>\n",
       "    <tr>\n",
       "      <th>Self-emp-not-inc</th>\n",
       "      <td>70.308503</td>\n",
       "      <td>29.691497</td>\n",
       "    </tr>\n",
       "    <tr>\n",
       "      <th>State-gov</th>\n",
       "      <td>72.523279</td>\n",
       "      <td>27.476721</td>\n",
       "    </tr>\n",
       "    <tr>\n",
       "      <th>Unknown</th>\n",
       "      <td>89.870070</td>\n",
       "      <td>10.129930</td>\n",
       "    </tr>\n",
       "    <tr>\n",
       "      <th>Without-pay</th>\n",
       "      <td>100.000000</td>\n",
       "      <td>NaN</td>\n",
       "    </tr>\n",
       "  </tbody>\n",
       "</table>\n",
       "</div>"
      ],
      "text/plain": [
       "                        PERC           \n",
       "INCOME                 <=50K       >50K\n",
       "WORKCLASS                              \n",
       "Federal-gov        60.901368  39.098632\n",
       "Local-gov          69.812039  30.187961\n",
       "Never-worked      100.000000        NaN\n",
       "Private            78.539451  21.460549\n",
       "Self-emp-inc       42.019110  57.980890\n",
       "Self-emp-not-inc   70.308503  29.691497\n",
       "State-gov          72.523279  27.476721\n",
       "Unknown            89.870070  10.129930\n",
       "Without-pay       100.000000        NaN"
      ]
     },
     "execution_count": 47,
     "metadata": {},
     "output_type": "execute_result"
    }
   ],
   "source": [
    "pd.DataFrame((data.groupby(['WORKCLASS', 'INCOME'])['FNLWGT'].agg('sum') / data.groupby('WORKCLASS')['FNLWGT'].agg('sum') * 100)).rename(columns = {'FNLWGT': 'PERC'}).unstack()"
   ]
  },
  {
   "cell_type": "markdown",
   "id": "300b98d8",
   "metadata": {},
   "source": [
    "**3. Distribution across EDUCATION**\n",
    "\n",
    "**Insights:** As expected, with better the education, the % of people earning more than 50K USD increases"
   ]
  },
  {
   "cell_type": "code",
   "execution_count": 48,
   "id": "b14b3628",
   "metadata": {},
   "outputs": [
    {
     "data": {
      "image/png": "[encoded data removed]",
      "text/plain": [
       "<Figure size 432x288 with 1 Axes>"
      ]
     },
     "metadata": {
      "needs_background": "light"
     },
     "output_type": "display_data"
    }
   ],
   "source": [
    "data.groupby(['EDUCATION', 'INCOME'])['FNLWGT'].agg('sum').unstack().loc[order_list].plot(kind = \"bar\")\n",
    "\n",
    "plt.ticklabel_format(style = 'plain', axis = 'y')\n",
    "ax = plt.gca()\n",
    "ax.yaxis.set_major_formatter(tick.FuncFormatter(reformat_large_tick_values))"
   ]
  },
  {
   "cell_type": "code",
   "execution_count": 49,
   "id": "f1e9269a",
   "metadata": {},
   "outputs": [
    {
     "data": {
      "text/html": [
       "<div>\n",
       "<style scoped>\n",
       "    .dataframe tbody tr th:only-of-type {\n",
       "        vertical-align: middle;\n",
       "    }\n",
       "\n",
       "    .dataframe tbody tr th {\n",
       "        vertical-align: top;\n",
       "    }\n",
       "\n",
       "    .dataframe thead tr th {\n",
       "        text-align: left;\n",
       "    }\n",
       "\n",
       "    .dataframe thead tr:last-of-type th {\n",
       "        text-align: right;\n",
       "    }\n",
       "</style>\n",
       "<table border=\"1\" class=\"dataframe\">\n",
       "  <thead>\n",
       "    <tr>\n",
       "      <th></th>\n",
       "      <th colspan=\"2\" halign=\"left\">PERC</th>\n",
       "    </tr>\n",
       "    <tr>\n",
       "      <th>INCOME</th>\n",
       "      <th>&lt;=50K</th>\n",
       "      <th>&gt;50K</th>\n",
       "    </tr>\n",
       "    <tr>\n",
       "      <th>EDUCATION</th>\n",
       "      <th></th>\n",
       "      <th></th>\n",
       "    </tr>\n",
       "  </thead>\n",
       "  <tbody>\n",
       "    <tr>\n",
       "      <th>10th</th>\n",
       "      <td>93.318085</td>\n",
       "      <td>6.681915</td>\n",
       "    </tr>\n",
       "    <tr>\n",
       "      <th>11th</th>\n",
       "      <td>95.585630</td>\n",
       "      <td>4.414370</td>\n",
       "    </tr>\n",
       "    <tr>\n",
       "      <th>12th</th>\n",
       "      <td>91.940573</td>\n",
       "      <td>8.059427</td>\n",
       "    </tr>\n",
       "    <tr>\n",
       "      <th>1st-4th</th>\n",
       "      <td>96.537565</td>\n",
       "      <td>3.462435</td>\n",
       "    </tr>\n",
       "    <tr>\n",
       "      <th>5th-6th</th>\n",
       "      <td>96.509252</td>\n",
       "      <td>3.490748</td>\n",
       "    </tr>\n",
       "    <tr>\n",
       "      <th>7th-8th</th>\n",
       "      <td>94.229805</td>\n",
       "      <td>5.770195</td>\n",
       "    </tr>\n",
       "    <tr>\n",
       "      <th>9th</th>\n",
       "      <td>95.692993</td>\n",
       "      <td>4.307007</td>\n",
       "    </tr>\n",
       "    <tr>\n",
       "      <th>Assoc-acdm</th>\n",
       "      <td>75.423184</td>\n",
       "      <td>24.576816</td>\n",
       "    </tr>\n",
       "    <tr>\n",
       "      <th>Assoc-voc</th>\n",
       "      <td>73.831950</td>\n",
       "      <td>26.168050</td>\n",
       "    </tr>\n",
       "    <tr>\n",
       "      <th>Bachelors</th>\n",
       "      <td>58.082132</td>\n",
       "      <td>41.917868</td>\n",
       "    </tr>\n",
       "    <tr>\n",
       "      <th>Doctorate</th>\n",
       "      <td>24.868719</td>\n",
       "      <td>75.131281</td>\n",
       "    </tr>\n",
       "    <tr>\n",
       "      <th>HS-grad</th>\n",
       "      <td>84.432371</td>\n",
       "      <td>15.567629</td>\n",
       "    </tr>\n",
       "    <tr>\n",
       "      <th>Masters</th>\n",
       "      <td>43.756778</td>\n",
       "      <td>56.243222</td>\n",
       "    </tr>\n",
       "    <tr>\n",
       "      <th>Preschool</th>\n",
       "      <td>100.000000</td>\n",
       "      <td>NaN</td>\n",
       "    </tr>\n",
       "    <tr>\n",
       "      <th>Prof-school</th>\n",
       "      <td>26.783482</td>\n",
       "      <td>73.216518</td>\n",
       "    </tr>\n",
       "    <tr>\n",
       "      <th>Some-college</th>\n",
       "      <td>80.327040</td>\n",
       "      <td>19.672960</td>\n",
       "    </tr>\n",
       "  </tbody>\n",
       "</table>\n",
       "</div>"
      ],
      "text/plain": [
       "                    PERC           \n",
       "INCOME             <=50K       >50K\n",
       "EDUCATION                          \n",
       "10th           93.318085   6.681915\n",
       "11th           95.585630   4.414370\n",
       "12th           91.940573   8.059427\n",
       "1st-4th        96.537565   3.462435\n",
       "5th-6th        96.509252   3.490748\n",
       "7th-8th        94.229805   5.770195\n",
       "9th            95.692993   4.307007\n",
       "Assoc-acdm     75.423184  24.576816\n",
       "Assoc-voc      73.831950  26.168050\n",
       "Bachelors      58.082132  41.917868\n",
       "Doctorate      24.868719  75.131281\n",
       "HS-grad        84.432371  15.567629\n",
       "Masters        43.756778  56.243222\n",
       "Preschool     100.000000        NaN\n",
       "Prof-school    26.783482  73.216518\n",
       "Some-college   80.327040  19.672960"
      ]
     },
     "execution_count": 49,
     "metadata": {},
     "output_type": "execute_result"
    }
   ],
   "source": [
    "pd.DataFrame((data.groupby(['EDUCATION', 'INCOME'])['FNLWGT'].agg('sum') / data.groupby('EDUCATION')['FNLWGT'].agg('sum') * 100)).rename(columns = {'FNLWGT': 'PERC'}).unstack()"
   ]
  },
  {
   "cell_type": "markdown",
   "id": "1b2601e2",
   "metadata": {},
   "source": [
    "**4. Distribution across Marital Status**\n",
    "\n",
    "**Insights:** A good proportion of Married-civ-spouse and Married-AF-spouse earn more than 50K USD. Also, there are no females in the armed forces (present in the data)"
   ]
  },
  {
   "cell_type": "code",
   "execution_count": 50,
   "id": "889b2835",
   "metadata": {},
   "outputs": [
    {
     "data": {
      "image/png": "[encoded data removed]",
      "text/plain": [
       "<Figure size 432x288 with 1 Axes>"
      ]
     },
     "metadata": {
      "needs_background": "light"
     },
     "output_type": "display_data"
    }
   ],
   "source": [
    "data.groupby(['MARITAL_STATUS', 'INCOME'])['FNLWGT'].agg('sum').unstack().plot(kind = \"bar\")\n",
    "\n",
    "plt.ticklabel_format(style = 'plain', axis = 'y')\n",
    "ax = plt.gca()\n",
    "ax.yaxis.set_major_formatter(tick.FuncFormatter(reformat_large_tick_values))"
   ]
  },
  {
   "cell_type": "code",
   "execution_count": 51,
   "id": "facf6435",
   "metadata": {},
   "outputs": [
    {
     "data": {
      "text/html": [
       "<div>\n",
       "<style scoped>\n",
       "    .dataframe tbody tr th:only-of-type {\n",
       "        vertical-align: middle;\n",
       "    }\n",
       "\n",
       "    .dataframe tbody tr th {\n",
       "        vertical-align: top;\n",
       "    }\n",
       "\n",
       "    .dataframe thead tr th {\n",
       "        text-align: left;\n",
       "    }\n",
       "\n",
       "    .dataframe thead tr:last-of-type th {\n",
       "        text-align: right;\n",
       "    }\n",
       "</style>\n",
       "<table border=\"1\" class=\"dataframe\">\n",
       "  <thead>\n",
       "    <tr>\n",
       "      <th></th>\n",
       "      <th colspan=\"2\" halign=\"left\">PERC</th>\n",
       "    </tr>\n",
       "    <tr>\n",
       "      <th>INCOME</th>\n",
       "      <th>&lt;=50K</th>\n",
       "      <th>&gt;50K</th>\n",
       "    </tr>\n",
       "    <tr>\n",
       "      <th>MARITAL_STATUS</th>\n",
       "      <th></th>\n",
       "      <th></th>\n",
       "    </tr>\n",
       "  </thead>\n",
       "  <tbody>\n",
       "    <tr>\n",
       "      <th>Divorced</th>\n",
       "      <td>89.593789</td>\n",
       "      <td>10.406211</td>\n",
       "    </tr>\n",
       "    <tr>\n",
       "      <th>Married-AF-spouse</th>\n",
       "      <td>61.548387</td>\n",
       "      <td>38.451613</td>\n",
       "    </tr>\n",
       "    <tr>\n",
       "      <th>Married-civ-spouse</th>\n",
       "      <td>55.048278</td>\n",
       "      <td>44.951722</td>\n",
       "    </tr>\n",
       "    <tr>\n",
       "      <th>Married-spouse-absent</th>\n",
       "      <td>93.293989</td>\n",
       "      <td>6.706011</td>\n",
       "    </tr>\n",
       "    <tr>\n",
       "      <th>Never-married</th>\n",
       "      <td>95.376090</td>\n",
       "      <td>4.623910</td>\n",
       "    </tr>\n",
       "    <tr>\n",
       "      <th>Separated</th>\n",
       "      <td>93.429049</td>\n",
       "      <td>6.570951</td>\n",
       "    </tr>\n",
       "    <tr>\n",
       "      <th>Widowed</th>\n",
       "      <td>92.156459</td>\n",
       "      <td>7.843541</td>\n",
       "    </tr>\n",
       "  </tbody>\n",
       "</table>\n",
       "</div>"
      ],
      "text/plain": [
       "                            PERC           \n",
       "INCOME                     <=50K       >50K\n",
       "MARITAL_STATUS                             \n",
       "Divorced               89.593789  10.406211\n",
       "Married-AF-spouse      61.548387  38.451613\n",
       "Married-civ-spouse     55.048278  44.951722\n",
       "Married-spouse-absent  93.293989   6.706011\n",
       "Never-married          95.376090   4.623910\n",
       "Separated              93.429049   6.570951\n",
       "Widowed                92.156459   7.843541"
      ]
     },
     "execution_count": 51,
     "metadata": {},
     "output_type": "execute_result"
    }
   ],
   "source": [
    "pd.DataFrame((data.groupby(['MARITAL_STATUS', 'INCOME'])['FNLWGT'].agg('sum') / data.groupby('MARITAL_STATUS')['FNLWGT'].agg('sum') * 100)).rename(columns = {'FNLWGT': 'PERC'}).unstack()"
   ]
  },
  {
   "cell_type": "markdown",
   "id": "0f653860",
   "metadata": {},
   "source": [
    "### Other checks"
   ]
  },
  {
   "cell_type": "markdown",
   "id": "45d1c4d8",
   "metadata": {},
   "source": [
    "None of the columns are highly correlated"
   ]
  },
  {
   "cell_type": "code",
   "execution_count": 54,
   "id": "c8d0c5f7",
   "metadata": {},
   "outputs": [],
   "source": [
    "corr_output = compute_correlation(data)"
   ]
  },
  {
   "cell_type": "code",
   "execution_count": 55,
   "id": "17bcef41",
   "metadata": {},
   "outputs": [
    {
     "data": {
      "image/png": "[encoded data removed]",
      "text/plain": [
       "<Figure size 1152x1152 with 2 Axes>"
      ]
     },
     "metadata": {
      "needs_background": "light"
     },
     "output_type": "display_data"
    }
   ],
   "source": [
    "fig, ax = plt.subplots(figsize=(16,16))\n",
    "sns.heatmap(corr_output, annot=True)\n",
    "plt.show()"
   ]
  },
  {
   "cell_type": "markdown",
   "id": "2b214da2",
   "metadata": {},
   "source": [
    "#### Outlier identification and treatment"
   ]
  },
  {
   "cell_type": "markdown",
   "id": "78835c09",
   "metadata": {},
   "source": [
    "Since each row in the data represents x number of people (FNLWGT column), we cannot obtain the outliers as they represent "
   ]
  },
  {
   "cell_type": "code",
   "execution_count": null,
   "id": "1140880d",
   "metadata": {},
   "outputs": [],
   "source": []
  },
  {
   "cell_type": "code",
   "execution_count": null,
   "id": "ffa0f494",
   "metadata": {},
   "outputs": [],
   "source": []
  }
 ],
 "metadata": {
  "kernelspec": {
   "display_name": "Python 3",
   "language": "python",
   "name": "python3"
  },
  "language_info": {
   "codemirror_mode": {
    "name": "ipython",
    "version": 3
   },
   "file_extension": ".py",
   "mimetype": "text/x-python",
   "name": "python",
   "nbconvert_exporter": "python",
   "pygments_lexer": "ipython3",
   "version": "3.8.8"
  },
  "toc": {
   "base_numbering": 1,
   "nav_menu": {},
   "number_sections": true,
   "sideBar": true,
   "skip_h1_title": false,
   "title_cell": "Table of Contents",
   "title_sidebar": "Contents",
   "toc_cell": false,
   "toc_position": {},
   "toc_section_display": true,
   "toc_window_display": false
  },
  "varInspector": {
   "cols": {
    "lenName": 16,
    "lenType": 16,
    "lenVar": 40
   },
   "kernels_config": {
    "python": {
     "delete_cmd_postfix": "",
     "delete_cmd_prefix": "del ",
     "library": "var_list.py",
     "varRefreshCmd": "print(var_dic_list())"
    },
    "r": {
     "delete_cmd_postfix": ") ",
     "delete_cmd_prefix": "rm(",
     "library": "var_list.r",
     "varRefreshCmd": "cat(var_dic_list()) "
    }
   },
   "types_to_exclude": [
    "module",
    "function",
    "builtin_function_or_method",
    "instance",
    "_Feature"
   ],
   "window_display": false
  }
 },
 "nbformat": 4,
 "nbformat_minor": 5
}
