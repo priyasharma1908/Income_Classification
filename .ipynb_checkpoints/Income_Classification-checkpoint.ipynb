{
 "cells": [
  {
   "cell_type": "markdown",
   "id": "e29393dc",
   "metadata": {},
   "source": [
    "# Imports and Reading the data"
   ]
  },
  {
   "cell_type": "code",
   "execution_count": 2,
   "id": "a62bc875",
   "metadata": {},
   "outputs": [],
   "source": [
    "# Loading required packages\n",
    "import numpy as np\n",
    "import pandas as pd\n",
    "import seaborn as sns\n",
    "import matplotlib.pyplot as plt # pyplot as plt\n",
    "import itertools\n",
    "import shap\n",
    "\n",
    "from dython.nominal import theils_u, correlation_ratio\n",
    "import category_encoders as ce\n",
    "from sklearn.preprocessing import RobustScaler\n",
    "\n",
    "from sklearn.model_selection import train_test_split\n",
    "from sklearn.model_selection import cross_validate\n",
    "from sklearn.model_selection import GridSearchCV\n",
    "from sklearn.metrics import accuracy_score, precision_score, recall_score, f1_score, auc, roc_curve, roc_auc_score, precision_recall_curve\n",
    "\n",
    "from sklearn import datasets, linear_model\n",
    "from sklearn.linear_model import LogisticRegression\n",
    "from sklearn.tree import DecisionTreeClassifier\n",
    "from sklearn.ensemble import RandomForestClassifier\n",
    "\n",
    "from pandas.api.types import is_numeric_dtype\n",
    "from IPython.display import display, HTML\n",
    "import matplotlib.ticker as tick\n",
    "import warnings\n",
    "warnings.filterwarnings(\"ignore\")\n",
    "%matplotlib inline"
   ]
  },
  {
   "cell_type": "code",
   "execution_count": 4,
   "id": "ca2727d8",
   "metadata": {},
   "outputs": [
    {
     "name": "stdout",
     "output_type": "stream",
     "text": [
      "shape of the data: (32561, 15)\n"
     ]
    },
    {
     "data": {
      "text/html": [
       "<div>\n",
       "<style scoped>\n",
       "    .dataframe tbody tr th:only-of-type {\n",
       "        vertical-align: middle;\n",
       "    }\n",
       "\n",
       "    .dataframe tbody tr th {\n",
       "        vertical-align: top;\n",
       "    }\n",
       "\n",
       "    .dataframe thead th {\n",
       "        text-align: right;\n",
       "    }\n",
       "</style>\n",
       "<table border=\"1\" class=\"dataframe\">\n",
       "  <thead>\n",
       "    <tr style=\"text-align: right;\">\n",
       "      <th></th>\n",
       "      <th>age</th>\n",
       "      <th>workclass</th>\n",
       "      <th>fnlwgt</th>\n",
       "      <th>education</th>\n",
       "      <th>education-num</th>\n",
       "      <th>marital-status</th>\n",
       "      <th>occupation</th>\n",
       "      <th>relationship</th>\n",
       "      <th>race</th>\n",
       "      <th>sex</th>\n",
       "      <th>capital-gain</th>\n",
       "      <th>capital-loss</th>\n",
       "      <th>hours-per-week</th>\n",
       "      <th>native-country</th>\n",
       "      <th>income</th>\n",
       "    </tr>\n",
       "  </thead>\n",
       "  <tbody>\n",
       "    <tr>\n",
       "      <th>0</th>\n",
       "      <td>39</td>\n",
       "      <td>State-gov</td>\n",
       "      <td>77516</td>\n",
       "      <td>Bachelors</td>\n",
       "      <td>13</td>\n",
       "      <td>Never-married</td>\n",
       "      <td>Adm-clerical</td>\n",
       "      <td>Not-in-family</td>\n",
       "      <td>White</td>\n",
       "      <td>Male</td>\n",
       "      <td>2174</td>\n",
       "      <td>0</td>\n",
       "      <td>40</td>\n",
       "      <td>United-States</td>\n",
       "      <td>&lt;=50K</td>\n",
       "    </tr>\n",
       "    <tr>\n",
       "      <th>1</th>\n",
       "      <td>50</td>\n",
       "      <td>Self-emp-not-inc</td>\n",
       "      <td>83311</td>\n",
       "      <td>Bachelors</td>\n",
       "      <td>13</td>\n",
       "      <td>Married-civ-spouse</td>\n",
       "      <td>Exec-managerial</td>\n",
       "      <td>Husband</td>\n",
       "      <td>White</td>\n",
       "      <td>Male</td>\n",
       "      <td>0</td>\n",
       "      <td>0</td>\n",
       "      <td>13</td>\n",
       "      <td>United-States</td>\n",
       "      <td>&lt;=50K</td>\n",
       "    </tr>\n",
       "    <tr>\n",
       "      <th>2</th>\n",
       "      <td>38</td>\n",
       "      <td>Private</td>\n",
       "      <td>215646</td>\n",
       "      <td>HS-grad</td>\n",
       "      <td>9</td>\n",
       "      <td>Divorced</td>\n",
       "      <td>Handlers-cleaners</td>\n",
       "      <td>Not-in-family</td>\n",
       "      <td>White</td>\n",
       "      <td>Male</td>\n",
       "      <td>0</td>\n",
       "      <td>0</td>\n",
       "      <td>40</td>\n",
       "      <td>United-States</td>\n",
       "      <td>&lt;=50K</td>\n",
       "    </tr>\n",
       "    <tr>\n",
       "      <th>3</th>\n",
       "      <td>53</td>\n",
       "      <td>Private</td>\n",
       "      <td>234721</td>\n",
       "      <td>11th</td>\n",
       "      <td>7</td>\n",
       "      <td>Married-civ-spouse</td>\n",
       "      <td>Handlers-cleaners</td>\n",
       "      <td>Husband</td>\n",
       "      <td>Black</td>\n",
       "      <td>Male</td>\n",
       "      <td>0</td>\n",
       "      <td>0</td>\n",
       "      <td>40</td>\n",
       "      <td>United-States</td>\n",
       "      <td>&lt;=50K</td>\n",
       "    </tr>\n",
       "    <tr>\n",
       "      <th>4</th>\n",
       "      <td>28</td>\n",
       "      <td>Private</td>\n",
       "      <td>338409</td>\n",
       "      <td>Bachelors</td>\n",
       "      <td>13</td>\n",
       "      <td>Married-civ-spouse</td>\n",
       "      <td>Prof-specialty</td>\n",
       "      <td>Wife</td>\n",
       "      <td>Black</td>\n",
       "      <td>Female</td>\n",
       "      <td>0</td>\n",
       "      <td>0</td>\n",
       "      <td>40</td>\n",
       "      <td>Cuba</td>\n",
       "      <td>&lt;=50K</td>\n",
       "    </tr>\n",
       "  </tbody>\n",
       "</table>\n",
       "</div>"
      ],
      "text/plain": [
       "   age          workclass   fnlwgt   education   education-num  \\\n",
       "0   39          State-gov    77516   Bachelors              13   \n",
       "1   50   Self-emp-not-inc    83311   Bachelors              13   \n",
       "2   38            Private   215646     HS-grad               9   \n",
       "3   53            Private   234721        11th               7   \n",
       "4   28            Private   338409   Bachelors              13   \n",
       "\n",
       "        marital-status          occupation    relationship    race      sex  \\\n",
       "0        Never-married        Adm-clerical   Not-in-family   White     Male   \n",
       "1   Married-civ-spouse     Exec-managerial         Husband   White     Male   \n",
       "2             Divorced   Handlers-cleaners   Not-in-family   White     Male   \n",
       "3   Married-civ-spouse   Handlers-cleaners         Husband   Black     Male   \n",
       "4   Married-civ-spouse      Prof-specialty            Wife   Black   Female   \n",
       "\n",
       "    capital-gain   capital-loss   hours-per-week  native-country  income  \n",
       "0           2174              0               40   United-States   <=50K  \n",
       "1              0              0               13   United-States   <=50K  \n",
       "2              0              0               40   United-States   <=50K  \n",
       "3              0              0               40   United-States   <=50K  \n",
       "4              0              0               40            Cuba   <=50K  "
      ]
     },
     "execution_count": 4,
     "metadata": {},
     "output_type": "execute_result"
    }
   ],
   "source": [
    "# load the dataset\n",
    "data = pd.read_csv(r\"C:\\Users\\Priya  Sharma\\OneDrive\\Desktop\\Practise\\Datasets\\Income_Classification\\income_evaluation.csv\")\n",
    "\n",
    "# check shape of dataset\n",
    "print(\"shape of the data:\", data.shape)\n",
    "data.head()"
   ]
  },
  {
   "cell_type": "markdown",
   "id": "e820430c",
   "metadata": {},
   "source": [
    "# Research"
   ]
  },
  {
   "cell_type": "markdown",
   "id": "dd03c000",
   "metadata": {},
   "source": [
    "**Each entry contains the following information about an individual:**\n",
    "\n",
    "1.\t**age**: the age of an individual: Integer greater than 0\n",
    "    \n",
    "2.\t**workclass**: a general term to represent the employment status of an individual: Private, Self¬emp¬not¬inc, Self¬emp¬inc, Federal¬gov, Local¬gov, State¬gov, Without¬pay, Never¬worked.\n",
    "    \n",
    "3.\t**fnlwgt**: final weight. In other words, this is the number of people the census believes the entry represents: Integer greater than 0 \n",
    "    \n",
    "4.\t**education**: the highest level of education achieved by an individual: Bachelors, Some¬college, 11th, HS¬grad, Prof¬school, Assoc¬acdm, Assoc¬voc, 9th, 7th¬8th, 12th, Masters, 1st¬4th, 10th, Doctorate, 5th¬6th, Preschool.\n",
    "    \n",
    "5.\t**education¬num**: the highest level of education achieved in numerical form: Integer greater than 0\n",
    "    \n",
    "6.\t**marital¬status**: marital status of an individual. Married¬civ¬spouse corresponds to a civilian spouse while Married¬AF¬spouse is a spouse in the Armed Forces: Married¬civ¬spouse, Divorced, Never¬married, Separated, Widowed, Married¬spouse-absent, Married¬AF¬spouse.\n",
    "    \n",
    "7.\t**occupation**: the general type of occupation of an individual: Tech¬support, Craft¬repair, Other¬service, Sales, Exec¬managerial, Prof¬specialty, Handlers¬cleaners, Machine¬op¬inspct, Adm¬clerical, Farming¬fishing, Transport¬moving, Priv¬house¬serv, Protective¬serv, Armed¬Forces.\n",
    "    \n",
    "8.\t**relationship**: represents what this individual is relative to others. For example an individual could be a Husband. Each entry only has one relationship attribute and is somewhat redundant with marital status. We might not make use of this attribute: Wife, Own¬child, Husband, Not¬in¬family, Other¬relative, Unmarried.\n",
    "    \n",
    "9.\t**race**: Descriptions of an individual’s race: White, Asian¬Pac¬Islander, Amer¬Indian¬Eskimo, Other, Black.\n",
    "    \n",
    "10.\t**sex**: the biological sex of the individual: Male, Female\n",
    "    \n",
    "11.\t**capital¬gain**: capital gains for an individual: Integer greater than or equal to 0 \n",
    "    \n",
    "12.\t**capital¬loss**: capital loss for an individual: Integer greater than or equal to 0 \n",
    "    \n",
    "13.\t**hours¬per¬week**: the hours an individual has reported to work per week: continuous\n",
    "    \n",
    "14.\t**country of origin for an individual**: United¬States, Cambodia, England, Puerto¬Rico, Canada, Germany, Outlying¬US(Guam-USVI¬etc), India, Japan, Greece, South, China, Cuba, Iran, Honduras, Philippines, Italy, Poland, Jamaica, Vietnam, Mexico, Portugal, Ireland, France, Dominican¬Republic, Laos, Ecuador, Taiwan, Haiti, Columbia, Hungary, Guatemala, Nicaragua, Scotland, Thailand, Yugoslavia, El¬Salvador, Trinadad &Tobago, Peru, Hong, Holand¬Netherlands.\n",
    "    \n",
    "15.\t**the label**: whether or not an individual makes more than USD 50,000 annually: <=50k, >50k\n"
   ]
  },
  {
   "cell_type": "markdown",
   "id": "d01cb005",
   "metadata": {},
   "source": [
    "For column name reference , check http://cseweb.ucsd.edu/classes/sp15/cse190-c/reports/sp15/048.pdf"
   ]
  },
  {
   "cell_type": "markdown",
   "id": "6b79bddd",
   "metadata": {},
   "source": [
    "# Functions"
   ]
  },
  {
   "cell_type": "code",
   "execution_count": 3,
   "id": "5c8b578c",
   "metadata": {},
   "outputs": [],
   "source": [
    "def clean_column_names(df):\n",
    "    df.columns = df.columns.str.upper()\n",
    "    df.columns = df.columns.str.replace('-', '_')\n",
    "    df.columns = df.columns.str.strip()\n",
    "    return df.columns"
   ]
  },
  {
   "cell_type": "code",
   "execution_count": 4,
   "id": "1f901556",
   "metadata": {},
   "outputs": [],
   "source": [
    "def reformat_large_tick_values(tick_val, pos):\n",
    "    \"\"\"\n",
    "    Turns large tick values (in the billions, millions and thousands) such as 4500 into 4.5K and also appropriately \n",
    "    turns 4000 into 4K (no zero after the decimal).\n",
    "    \"\"\"\n",
    "    if tick_val >= 1000000000:\n",
    "        val = round(tick_val/1000000000, 1)\n",
    "        new_tick_format = '{:}B'.format(val)\n",
    "        \n",
    "    elif tick_val >= 1000000:\n",
    "        val = round(tick_val/1000000, 1)\n",
    "        new_tick_format = '{:}M'.format(val)\n",
    "        \n",
    "    elif tick_val >= 1000:\n",
    "        val = round(tick_val/1000, 1)\n",
    "        new_tick_format = '{:}K'.format(val)\n",
    "        \n",
    "    elif tick_val < 1000:\n",
    "        new_tick_format = round(tick_val, 1)\n",
    "        \n",
    "    else:\n",
    "        new_tick_format = tick_val\n",
    "\n",
    "    # make new_tick_format into a string value\n",
    "    new_tick_format = str(new_tick_format)\n",
    "    \n",
    "    # code below will keep 4.5M as is but change values such as 4.0M to 4M since that zero after the decimal isn't needed\n",
    "    index_of_decimal = new_tick_format.find(\".\")\n",
    "    \n",
    "    if index_of_decimal != -1:\n",
    "        value_after_decimal = new_tick_format[index_of_decimal + 1]\n",
    "        if value_after_decimal == \"0\":\n",
    "            # remove the 0 after the decimal point since it's not needed\n",
    "            new_tick_format = new_tick_format[0: index_of_decimal] + new_tick_format[index_of_decimal + 2:]\n",
    "            \n",
    "    return new_tick_format"
   ]
  },
  {
   "cell_type": "code",
   "execution_count": 5,
   "id": "2d9af967",
   "metadata": {},
   "outputs": [],
   "source": [
    "def compute_correlation(df:'pd.DataFrame')->'pd.DataFrame':\n",
    "    \"\"\"\n",
    "    Function to compute correlation values as follows:\n",
    "    - Pearson correlation (numeric-numeric)\n",
    "    - Correlation Ratio (numeric-categorical)\n",
    "    - Theil's U (categorical-categorical)\n",
    "    \n",
    "    Args:\n",
    "        df: Dataset for which to compute correlation matrix\n",
    "        \n",
    "    Returns:\n",
    "        Correlation matrix as dataframe\n",
    "    \"\"\"\n",
    "    # Get list of columns\n",
    "    list_of_columns = df.columns\n",
    "    \n",
    "    # Initialize empty dataframe for correlation matrix\n",
    "    corr_df = pd.DataFrame(index=list_of_columns, columns=list_of_columns)\n",
    "    \n",
    "    # Iterate over each column\n",
    "    for i in range(len(list_of_columns)):\n",
    "        # For each column, iterate over list of columns again to get pair-wise columns\n",
    "        # Note: We are iterating over (i, j) and (j, i) separately as Theil's U is not symmetric\n",
    "        for j in range(len(list_of_columns)):\n",
    "            if is_numeric_dtype(df[list_of_columns[i]]):\n",
    "                if is_numeric_dtype(df[list_of_columns[j]]):\n",
    "                    # Case 1: Both are numeric\n",
    "                    corr_value = np.corrcoef(df[list_of_columns[i]], df[list_of_columns[j]])\n",
    "                    corr_df.loc[list_of_columns[i], list_of_columns[j]] = corr_value[0][1]\n",
    "                else:\n",
    "                    # Case 2: One is categorical\n",
    "                    corr_value = correlation_ratio(df[list_of_columns[j]], df[list_of_columns[i]])\n",
    "                    corr_df.loc[list_of_columns[i], list_of_columns[j]] = corr_value\n",
    "            elif is_numeric_dtype(df[list_of_columns[j]]):\n",
    "                if is_numeric_dtype(df[list_of_columns[i]]):\n",
    "                    # Case 1: Both are numeric\n",
    "                    corr_value = np.corrcoef(df[list_of_columns[i]], df[list_of_columns[j]])\n",
    "                    corr_df.loc[list_of_columns[i], list_of_columns[j]] = corr_value[0][1]\n",
    "                else:\n",
    "                    # Case 2: One is categorical\n",
    "                    corr_value = correlation_ratio(df[list_of_columns[i]], df[list_of_columns[j]])\n",
    "                    corr_df.loc[list_of_columns[i], list_of_columns[j]] = corr_value\n",
    "            else:\n",
    "                # Case 3: Both are categorical\n",
    "                corr_value = theils_u(df[list_of_columns[i]], df[list_of_columns[j]])\n",
    "                corr_df.loc[list_of_columns[i], list_of_columns[j]] = corr_value\n",
    "    return(pd.DataFrame(corr_df.astype('float64').round(2)))\n"
   ]
  },
  {
   "cell_type": "markdown",
   "id": "86d5fc00",
   "metadata": {},
   "source": [
    "# Data Analysis and EDA"
   ]
  },
  {
   "cell_type": "markdown",
   "id": "e7bbae01",
   "metadata": {},
   "source": [
    "## Data Exploration"
   ]
  },
  {
   "cell_type": "markdown",
   "id": "7a422124",
   "metadata": {},
   "source": [
    "### Column name cleaning"
   ]
  },
  {
   "cell_type": "code",
   "execution_count": 6,
   "id": "897474f2",
   "metadata": {},
   "outputs": [],
   "source": [
    "data.columns = clean_column_names(data)"
   ]
  },
  {
   "cell_type": "code",
   "execution_count": 7,
   "id": "638224b5",
   "metadata": {},
   "outputs": [
    {
     "data": {
      "text/html": [
       "<div>\n",
       "<style scoped>\n",
       "    .dataframe tbody tr th:only-of-type {\n",
       "        vertical-align: middle;\n",
       "    }\n",
       "\n",
       "    .dataframe tbody tr th {\n",
       "        vertical-align: top;\n",
       "    }\n",
       "\n",
       "    .dataframe thead th {\n",
       "        text-align: right;\n",
       "    }\n",
       "</style>\n",
       "<table border=\"1\" class=\"dataframe\">\n",
       "  <thead>\n",
       "    <tr style=\"text-align: right;\">\n",
       "      <th></th>\n",
       "      <th>AGE</th>\n",
       "      <th>WORKCLASS</th>\n",
       "      <th>FNLWGT</th>\n",
       "      <th>EDUCATION</th>\n",
       "      <th>EDUCATION_NUM</th>\n",
       "      <th>MARITAL_STATUS</th>\n",
       "      <th>OCCUPATION</th>\n",
       "      <th>RELATIONSHIP</th>\n",
       "      <th>RACE</th>\n",
       "      <th>SEX</th>\n",
       "      <th>CAPITAL_GAIN</th>\n",
       "      <th>CAPITAL_LOSS</th>\n",
       "      <th>HOURS_PER_WEEK</th>\n",
       "      <th>NATIVE_COUNTRY</th>\n",
       "      <th>INCOME</th>\n",
       "    </tr>\n",
       "  </thead>\n",
       "  <tbody>\n",
       "    <tr>\n",
       "      <th>0</th>\n",
       "      <td>39</td>\n",
       "      <td>State-gov</td>\n",
       "      <td>77516</td>\n",
       "      <td>Bachelors</td>\n",
       "      <td>13</td>\n",
       "      <td>Never-married</td>\n",
       "      <td>Adm-clerical</td>\n",
       "      <td>Not-in-family</td>\n",
       "      <td>White</td>\n",
       "      <td>Male</td>\n",
       "      <td>2174</td>\n",
       "      <td>0</td>\n",
       "      <td>40</td>\n",
       "      <td>United-States</td>\n",
       "      <td>&lt;=50K</td>\n",
       "    </tr>\n",
       "    <tr>\n",
       "      <th>1</th>\n",
       "      <td>50</td>\n",
       "      <td>Self-emp-not-inc</td>\n",
       "      <td>83311</td>\n",
       "      <td>Bachelors</td>\n",
       "      <td>13</td>\n",
       "      <td>Married-civ-spouse</td>\n",
       "      <td>Exec-managerial</td>\n",
       "      <td>Husband</td>\n",
       "      <td>White</td>\n",
       "      <td>Male</td>\n",
       "      <td>0</td>\n",
       "      <td>0</td>\n",
       "      <td>13</td>\n",
       "      <td>United-States</td>\n",
       "      <td>&lt;=50K</td>\n",
       "    </tr>\n",
       "    <tr>\n",
       "      <th>2</th>\n",
       "      <td>38</td>\n",
       "      <td>Private</td>\n",
       "      <td>215646</td>\n",
       "      <td>HS-grad</td>\n",
       "      <td>9</td>\n",
       "      <td>Divorced</td>\n",
       "      <td>Handlers-cleaners</td>\n",
       "      <td>Not-in-family</td>\n",
       "      <td>White</td>\n",
       "      <td>Male</td>\n",
       "      <td>0</td>\n",
       "      <td>0</td>\n",
       "      <td>40</td>\n",
       "      <td>United-States</td>\n",
       "      <td>&lt;=50K</td>\n",
       "    </tr>\n",
       "    <tr>\n",
       "      <th>3</th>\n",
       "      <td>53</td>\n",
       "      <td>Private</td>\n",
       "      <td>234721</td>\n",
       "      <td>11th</td>\n",
       "      <td>7</td>\n",
       "      <td>Married-civ-spouse</td>\n",
       "      <td>Handlers-cleaners</td>\n",
       "      <td>Husband</td>\n",
       "      <td>Black</td>\n",
       "      <td>Male</td>\n",
       "      <td>0</td>\n",
       "      <td>0</td>\n",
       "      <td>40</td>\n",
       "      <td>United-States</td>\n",
       "      <td>&lt;=50K</td>\n",
       "    </tr>\n",
       "    <tr>\n",
       "      <th>4</th>\n",
       "      <td>28</td>\n",
       "      <td>Private</td>\n",
       "      <td>338409</td>\n",
       "      <td>Bachelors</td>\n",
       "      <td>13</td>\n",
       "      <td>Married-civ-spouse</td>\n",
       "      <td>Prof-specialty</td>\n",
       "      <td>Wife</td>\n",
       "      <td>Black</td>\n",
       "      <td>Female</td>\n",
       "      <td>0</td>\n",
       "      <td>0</td>\n",
       "      <td>40</td>\n",
       "      <td>Cuba</td>\n",
       "      <td>&lt;=50K</td>\n",
       "    </tr>\n",
       "  </tbody>\n",
       "</table>\n",
       "</div>"
      ],
      "text/plain": [
       "   AGE          WORKCLASS  FNLWGT   EDUCATION  EDUCATION_NUM  \\\n",
       "0   39          State-gov   77516   Bachelors             13   \n",
       "1   50   Self-emp-not-inc   83311   Bachelors             13   \n",
       "2   38            Private  215646     HS-grad              9   \n",
       "3   53            Private  234721        11th              7   \n",
       "4   28            Private  338409   Bachelors             13   \n",
       "\n",
       "        MARITAL_STATUS          OCCUPATION    RELATIONSHIP    RACE      SEX  \\\n",
       "0        Never-married        Adm-clerical   Not-in-family   White     Male   \n",
       "1   Married-civ-spouse     Exec-managerial         Husband   White     Male   \n",
       "2             Divorced   Handlers-cleaners   Not-in-family   White     Male   \n",
       "3   Married-civ-spouse   Handlers-cleaners         Husband   Black     Male   \n",
       "4   Married-civ-spouse      Prof-specialty            Wife   Black   Female   \n",
       "\n",
       "   CAPITAL_GAIN  CAPITAL_LOSS  HOURS_PER_WEEK  NATIVE_COUNTRY  INCOME  \n",
       "0          2174             0              40   United-States   <=50K  \n",
       "1             0             0              13   United-States   <=50K  \n",
       "2             0             0              40   United-States   <=50K  \n",
       "3             0             0              40   United-States   <=50K  \n",
       "4             0             0              40            Cuba   <=50K  "
      ]
     },
     "execution_count": 7,
     "metadata": {},
     "output_type": "execute_result"
    }
   ],
   "source": [
    "data.head()"
   ]
  },
  {
   "cell_type": "markdown",
   "id": "654685fd",
   "metadata": {},
   "source": [
    "### Identifying format differences if any"
   ]
  },
  {
   "cell_type": "code",
   "execution_count": 8,
   "id": "ad414333",
   "metadata": {},
   "outputs": [
    {
     "data": {
      "text/plain": [
       "AGE                int64\n",
       "WORKCLASS         object\n",
       "FNLWGT             int64\n",
       "EDUCATION         object\n",
       "EDUCATION_NUM      int64\n",
       "MARITAL_STATUS    object\n",
       "OCCUPATION        object\n",
       "RELATIONSHIP      object\n",
       "RACE              object\n",
       "SEX               object\n",
       "CAPITAL_GAIN       int64\n",
       "CAPITAL_LOSS       int64\n",
       "HOURS_PER_WEEK     int64\n",
       "NATIVE_COUNTRY    object\n",
       "INCOME            object\n",
       "dtype: object"
      ]
     },
     "execution_count": 8,
     "metadata": {},
     "output_type": "execute_result"
    }
   ],
   "source": [
    "data.dtypes"
   ]
  },
  {
   "cell_type": "code",
   "execution_count": 9,
   "id": "4d3f0a9a",
   "metadata": {},
   "outputs": [
    {
     "data": {
      "text/plain": [
       "AGE                  73\n",
       "WORKCLASS             9\n",
       "FNLWGT            21648\n",
       "EDUCATION            16\n",
       "EDUCATION_NUM        16\n",
       "MARITAL_STATUS        7\n",
       "OCCUPATION           15\n",
       "RELATIONSHIP          6\n",
       "RACE                  5\n",
       "SEX                   2\n",
       "CAPITAL_GAIN        119\n",
       "CAPITAL_LOSS         92\n",
       "HOURS_PER_WEEK       94\n",
       "NATIVE_COUNTRY       42\n",
       "INCOME                2\n",
       "dtype: int64"
      ]
     },
     "execution_count": 9,
     "metadata": {},
     "output_type": "execute_result"
    }
   ],
   "source": [
    "data.nunique()"
   ]
  },
  {
   "cell_type": "code",
   "execution_count": 10,
   "id": "898a44df",
   "metadata": {
    "scrolled": true
   },
   "outputs": [
    {
     "name": "stdout",
     "output_type": "stream",
     "text": [
      "WORKCLASS has following unique values: \n",
      "[' State-gov' ' Self-emp-not-inc' ' Private' ' Federal-gov' ' Local-gov'\n",
      " ' ?' ' Self-emp-inc' ' Without-pay' ' Never-worked']\n",
      "\n",
      "\n",
      "EDUCATION has following unique values: \n",
      "[' Bachelors' ' HS-grad' ' 11th' ' Masters' ' 9th' ' Some-college'\n",
      " ' Assoc-acdm' ' Assoc-voc' ' 7th-8th' ' Doctorate' ' Prof-school'\n",
      " ' 5th-6th' ' 10th' ' 1st-4th' ' Preschool' ' 12th']\n",
      "\n",
      "\n",
      "EDUCATION_NUM has following unique values: \n",
      "[13  9  7 14  5 10 12 11  4 16 15  3  6  2  1  8]\n",
      "\n",
      "\n",
      "MARITAL_STATUS has following unique values: \n",
      "[' Never-married' ' Married-civ-spouse' ' Divorced'\n",
      " ' Married-spouse-absent' ' Separated' ' Married-AF-spouse' ' Widowed']\n",
      "\n",
      "\n",
      "OCCUPATION has following unique values: \n",
      "[' Adm-clerical' ' Exec-managerial' ' Handlers-cleaners' ' Prof-specialty'\n",
      " ' Other-service' ' Sales' ' Craft-repair' ' Transport-moving'\n",
      " ' Farming-fishing' ' Machine-op-inspct' ' Tech-support' ' ?'\n",
      " ' Protective-serv' ' Armed-Forces' ' Priv-house-serv']\n",
      "\n",
      "\n",
      "RELATIONSHIP has following unique values: \n",
      "[' Not-in-family' ' Husband' ' Wife' ' Own-child' ' Unmarried'\n",
      " ' Other-relative']\n",
      "\n",
      "\n",
      "RACE has following unique values: \n",
      "[' White' ' Black' ' Asian-Pac-Islander' ' Amer-Indian-Eskimo' ' Other']\n",
      "\n",
      "\n",
      "SEX has following unique values: \n",
      "[' Male' ' Female']\n",
      "\n",
      "\n",
      "NATIVE_COUNTRY has following unique values: \n",
      "[' United-States' ' Cuba' ' Jamaica' ' India' ' ?' ' Mexico' ' South'\n",
      " ' Puerto-Rico' ' Honduras' ' England' ' Canada' ' Germany' ' Iran'\n",
      " ' Philippines' ' Italy' ' Poland' ' Columbia' ' Cambodia' ' Thailand'\n",
      " ' Ecuador' ' Laos' ' Taiwan' ' Haiti' ' Portugal' ' Dominican-Republic'\n",
      " ' El-Salvador' ' France' ' Guatemala' ' China' ' Japan' ' Yugoslavia'\n",
      " ' Peru' ' Outlying-US(Guam-USVI-etc)' ' Scotland' ' Trinadad&Tobago'\n",
      " ' Greece' ' Nicaragua' ' Vietnam' ' Hong' ' Ireland' ' Hungary'\n",
      " ' Holand-Netherlands']\n",
      "\n",
      "\n",
      "INCOME has following unique values: \n",
      "[' <=50K' ' >50K']\n",
      "\n",
      "\n"
     ]
    }
   ],
   "source": [
    "for col in data.columns:\n",
    "    if data[col].nunique() < 50:\n",
    "        print(col + ' has following unique values: ' + '\\n' + str(data[col].unique()) + '\\n\\n')"
   ]
  },
  {
   "cell_type": "code",
   "execution_count": 11,
   "id": "edfb260a",
   "metadata": {},
   "outputs": [
    {
     "data": {
      "text/plain": [
       "AGE               0\n",
       "WORKCLASS         0\n",
       "FNLWGT            0\n",
       "EDUCATION         0\n",
       "EDUCATION_NUM     0\n",
       "MARITAL_STATUS    0\n",
       "OCCUPATION        0\n",
       "RELATIONSHIP      0\n",
       "RACE              0\n",
       "SEX               0\n",
       "CAPITAL_GAIN      0\n",
       "CAPITAL_LOSS      0\n",
       "HOURS_PER_WEEK    0\n",
       "NATIVE_COUNTRY    0\n",
       "INCOME            0\n",
       "dtype: int64"
      ]
     },
     "execution_count": 11,
     "metadata": {},
     "output_type": "execute_result"
    }
   ],
   "source": [
    "data.isna().sum()"
   ]
  },
  {
   "cell_type": "markdown",
   "id": "58d37573",
   "metadata": {},
   "source": [
    "### Missing values"
   ]
  },
  {
   "cell_type": "markdown",
   "id": "4d910006",
   "metadata": {},
   "source": [
    "1. The data has whitespaces and ? in place of na/unknown, replacing ? with unknown\n",
    "2. Stripping whitespaces from the data"
   ]
  },
  {
   "cell_type": "code",
   "execution_count": 12,
   "id": "a7d354f6",
   "metadata": {},
   "outputs": [],
   "source": [
    "dict_datatypes = {col: str(data[col].dtypes) for col in data.columns}"
   ]
  },
  {
   "cell_type": "code",
   "execution_count": 13,
   "id": "dff0c5c8",
   "metadata": {},
   "outputs": [
    {
     "data": {
      "text/plain": [
       "{'AGE': 'int64',\n",
       " 'WORKCLASS': 'object',\n",
       " 'FNLWGT': 'int64',\n",
       " 'EDUCATION': 'object',\n",
       " 'EDUCATION_NUM': 'int64',\n",
       " 'MARITAL_STATUS': 'object',\n",
       " 'OCCUPATION': 'object',\n",
       " 'RELATIONSHIP': 'object',\n",
       " 'RACE': 'object',\n",
       " 'SEX': 'object',\n",
       " 'CAPITAL_GAIN': 'int64',\n",
       " 'CAPITAL_LOSS': 'int64',\n",
       " 'HOURS_PER_WEEK': 'int64',\n",
       " 'NATIVE_COUNTRY': 'object',\n",
       " 'INCOME': 'object'}"
      ]
     },
     "execution_count": 13,
     "metadata": {},
     "output_type": "execute_result"
    }
   ],
   "source": [
    "dict_datatypes"
   ]
  },
  {
   "cell_type": "code",
   "execution_count": 14,
   "id": "c2448ec8",
   "metadata": {},
   "outputs": [],
   "source": [
    "for col in dict_datatypes.keys():\n",
    "    if dict_datatypes[col] == 'object':\n",
    "        data[col] = data[col].str.strip()\n",
    "        data[col] = data[col].replace('?', 'Unknown')\n",
    "        data[col] = data[col].replace('', 'Unknown')"
   ]
  },
  {
   "cell_type": "code",
   "execution_count": 15,
   "id": "6f8993cb",
   "metadata": {
    "scrolled": true
   },
   "outputs": [
    {
     "name": "stdout",
     "output_type": "stream",
     "text": [
      "WORKCLASS has following unique values: \n",
      "['State-gov' 'Self-emp-not-inc' 'Private' 'Federal-gov' 'Local-gov'\n",
      " 'Unknown' 'Self-emp-inc' 'Without-pay' 'Never-worked']\n",
      "\n",
      "\n",
      "EDUCATION has following unique values: \n",
      "['Bachelors' 'HS-grad' '11th' 'Masters' '9th' 'Some-college' 'Assoc-acdm'\n",
      " 'Assoc-voc' '7th-8th' 'Doctorate' 'Prof-school' '5th-6th' '10th'\n",
      " '1st-4th' 'Preschool' '12th']\n",
      "\n",
      "\n",
      "EDUCATION_NUM has following unique values: \n",
      "[13  9  7 14  5 10 12 11  4 16 15  3  6  2  1  8]\n",
      "\n",
      "\n",
      "MARITAL_STATUS has following unique values: \n",
      "['Never-married' 'Married-civ-spouse' 'Divorced' 'Married-spouse-absent'\n",
      " 'Separated' 'Married-AF-spouse' 'Widowed']\n",
      "\n",
      "\n",
      "OCCUPATION has following unique values: \n",
      "['Adm-clerical' 'Exec-managerial' 'Handlers-cleaners' 'Prof-specialty'\n",
      " 'Other-service' 'Sales' 'Craft-repair' 'Transport-moving'\n",
      " 'Farming-fishing' 'Machine-op-inspct' 'Tech-support' 'Unknown'\n",
      " 'Protective-serv' 'Armed-Forces' 'Priv-house-serv']\n",
      "\n",
      "\n",
      "RELATIONSHIP has following unique values: \n",
      "['Not-in-family' 'Husband' 'Wife' 'Own-child' 'Unmarried' 'Other-relative']\n",
      "\n",
      "\n",
      "RACE has following unique values: \n",
      "['White' 'Black' 'Asian-Pac-Islander' 'Amer-Indian-Eskimo' 'Other']\n",
      "\n",
      "\n",
      "SEX has following unique values: \n",
      "['Male' 'Female']\n",
      "\n",
      "\n",
      "NATIVE_COUNTRY has following unique values: \n",
      "['United-States' 'Cuba' 'Jamaica' 'India' 'Unknown' 'Mexico' 'South'\n",
      " 'Puerto-Rico' 'Honduras' 'England' 'Canada' 'Germany' 'Iran'\n",
      " 'Philippines' 'Italy' 'Poland' 'Columbia' 'Cambodia' 'Thailand' 'Ecuador'\n",
      " 'Laos' 'Taiwan' 'Haiti' 'Portugal' 'Dominican-Republic' 'El-Salvador'\n",
      " 'France' 'Guatemala' 'China' 'Japan' 'Yugoslavia' 'Peru'\n",
      " 'Outlying-US(Guam-USVI-etc)' 'Scotland' 'Trinadad&Tobago' 'Greece'\n",
      " 'Nicaragua' 'Vietnam' 'Hong' 'Ireland' 'Hungary' 'Holand-Netherlands']\n",
      "\n",
      "\n",
      "INCOME has following unique values: \n",
      "['<=50K' '>50K']\n",
      "\n",
      "\n"
     ]
    }
   ],
   "source": [
    "for col in data.columns:\n",
    "    if data[col].nunique() < 50:\n",
    "        print(col + ' has following unique values: ' + '\\n' + str(data[col].unique()) + '\\n\\n')"
   ]
  },
  {
   "cell_type": "code",
   "execution_count": 16,
   "id": "0e9540a1",
   "metadata": {},
   "outputs": [
    {
     "data": {
      "text/plain": [
       "AGE               0\n",
       "WORKCLASS         0\n",
       "FNLWGT            0\n",
       "EDUCATION         0\n",
       "EDUCATION_NUM     0\n",
       "MARITAL_STATUS    0\n",
       "OCCUPATION        0\n",
       "RELATIONSHIP      0\n",
       "RACE              0\n",
       "SEX               0\n",
       "CAPITAL_GAIN      0\n",
       "CAPITAL_LOSS      0\n",
       "HOURS_PER_WEEK    0\n",
       "NATIVE_COUNTRY    0\n",
       "INCOME            0\n",
       "dtype: int64"
      ]
     },
     "execution_count": 16,
     "metadata": {},
     "output_type": "execute_result"
    }
   ],
   "source": [
    "data.isna().sum()"
   ]
  },
  {
   "cell_type": "code",
   "execution_count": 17,
   "id": "842c0ed5",
   "metadata": {},
   "outputs": [
    {
     "data": {
      "text/plain": [
       "(32561, 15)"
      ]
     },
     "execution_count": 17,
     "metadata": {},
     "output_type": "execute_result"
    }
   ],
   "source": [
    "data.shape"
   ]
  },
  {
   "cell_type": "markdown",
   "id": "6af69035",
   "metadata": {},
   "source": [
    "### Checking duplicates\n",
    "\n",
    "**Insights:** There are 24 duplicates rows in the data\n",
    "\n",
    "**Action:** Eliminate duplicate records"
   ]
  },
  {
   "cell_type": "code",
   "execution_count": 18,
   "id": "92013204",
   "metadata": {},
   "outputs": [
    {
     "data": {
      "text/plain": [
       "(32561, 15)"
      ]
     },
     "execution_count": 18,
     "metadata": {},
     "output_type": "execute_result"
    }
   ],
   "source": [
    "data.shape"
   ]
  },
  {
   "cell_type": "code",
   "execution_count": 19,
   "id": "a6d5775e",
   "metadata": {},
   "outputs": [
    {
     "data": {
      "text/plain": [
       "(32537, 15)"
      ]
     },
     "execution_count": 19,
     "metadata": {},
     "output_type": "execute_result"
    }
   ],
   "source": [
    "data.drop_duplicates().shape"
   ]
  },
  {
   "cell_type": "code",
   "execution_count": 20,
   "id": "3b92c67c",
   "metadata": {
    "scrolled": true
   },
   "outputs": [
    {
     "data": {
      "text/html": [
       "<div>\n",
       "<style scoped>\n",
       "    .dataframe tbody tr th:only-of-type {\n",
       "        vertical-align: middle;\n",
       "    }\n",
       "\n",
       "    .dataframe tbody tr th {\n",
       "        vertical-align: top;\n",
       "    }\n",
       "\n",
       "    .dataframe thead th {\n",
       "        text-align: right;\n",
       "    }\n",
       "</style>\n",
       "<table border=\"1\" class=\"dataframe\">\n",
       "  <thead>\n",
       "    <tr style=\"text-align: right;\">\n",
       "      <th></th>\n",
       "      <th>AGE</th>\n",
       "      <th>WORKCLASS</th>\n",
       "      <th>FNLWGT</th>\n",
       "      <th>EDUCATION</th>\n",
       "      <th>EDUCATION_NUM</th>\n",
       "      <th>MARITAL_STATUS</th>\n",
       "      <th>OCCUPATION</th>\n",
       "      <th>RELATIONSHIP</th>\n",
       "      <th>RACE</th>\n",
       "      <th>SEX</th>\n",
       "      <th>CAPITAL_GAIN</th>\n",
       "      <th>CAPITAL_LOSS</th>\n",
       "      <th>HOURS_PER_WEEK</th>\n",
       "      <th>NATIVE_COUNTRY</th>\n",
       "      <th>INCOME</th>\n",
       "    </tr>\n",
       "  </thead>\n",
       "  <tbody>\n",
       "    <tr>\n",
       "      <th>4881</th>\n",
       "      <td>25</td>\n",
       "      <td>Private</td>\n",
       "      <td>308144</td>\n",
       "      <td>Bachelors</td>\n",
       "      <td>13</td>\n",
       "      <td>Never-married</td>\n",
       "      <td>Craft-repair</td>\n",
       "      <td>Not-in-family</td>\n",
       "      <td>White</td>\n",
       "      <td>Male</td>\n",
       "      <td>0</td>\n",
       "      <td>0</td>\n",
       "      <td>40</td>\n",
       "      <td>Mexico</td>\n",
       "      <td>&lt;=50K</td>\n",
       "    </tr>\n",
       "    <tr>\n",
       "      <th>5104</th>\n",
       "      <td>90</td>\n",
       "      <td>Private</td>\n",
       "      <td>52386</td>\n",
       "      <td>Some-college</td>\n",
       "      <td>10</td>\n",
       "      <td>Never-married</td>\n",
       "      <td>Other-service</td>\n",
       "      <td>Not-in-family</td>\n",
       "      <td>Asian-Pac-Islander</td>\n",
       "      <td>Male</td>\n",
       "      <td>0</td>\n",
       "      <td>0</td>\n",
       "      <td>35</td>\n",
       "      <td>United-States</td>\n",
       "      <td>&lt;=50K</td>\n",
       "    </tr>\n",
       "    <tr>\n",
       "      <th>9171</th>\n",
       "      <td>21</td>\n",
       "      <td>Private</td>\n",
       "      <td>250051</td>\n",
       "      <td>Some-college</td>\n",
       "      <td>10</td>\n",
       "      <td>Never-married</td>\n",
       "      <td>Prof-specialty</td>\n",
       "      <td>Own-child</td>\n",
       "      <td>White</td>\n",
       "      <td>Female</td>\n",
       "      <td>0</td>\n",
       "      <td>0</td>\n",
       "      <td>10</td>\n",
       "      <td>United-States</td>\n",
       "      <td>&lt;=50K</td>\n",
       "    </tr>\n",
       "    <tr>\n",
       "      <th>11631</th>\n",
       "      <td>20</td>\n",
       "      <td>Private</td>\n",
       "      <td>107658</td>\n",
       "      <td>Some-college</td>\n",
       "      <td>10</td>\n",
       "      <td>Never-married</td>\n",
       "      <td>Tech-support</td>\n",
       "      <td>Not-in-family</td>\n",
       "      <td>White</td>\n",
       "      <td>Female</td>\n",
       "      <td>0</td>\n",
       "      <td>0</td>\n",
       "      <td>10</td>\n",
       "      <td>United-States</td>\n",
       "      <td>&lt;=50K</td>\n",
       "    </tr>\n",
       "    <tr>\n",
       "      <th>13084</th>\n",
       "      <td>25</td>\n",
       "      <td>Private</td>\n",
       "      <td>195994</td>\n",
       "      <td>1st-4th</td>\n",
       "      <td>2</td>\n",
       "      <td>Never-married</td>\n",
       "      <td>Priv-house-serv</td>\n",
       "      <td>Not-in-family</td>\n",
       "      <td>White</td>\n",
       "      <td>Female</td>\n",
       "      <td>0</td>\n",
       "      <td>0</td>\n",
       "      <td>40</td>\n",
       "      <td>Guatemala</td>\n",
       "      <td>&lt;=50K</td>\n",
       "    </tr>\n",
       "    <tr>\n",
       "      <th>15059</th>\n",
       "      <td>21</td>\n",
       "      <td>Private</td>\n",
       "      <td>243368</td>\n",
       "      <td>Preschool</td>\n",
       "      <td>1</td>\n",
       "      <td>Never-married</td>\n",
       "      <td>Farming-fishing</td>\n",
       "      <td>Not-in-family</td>\n",
       "      <td>White</td>\n",
       "      <td>Male</td>\n",
       "      <td>0</td>\n",
       "      <td>0</td>\n",
       "      <td>50</td>\n",
       "      <td>Mexico</td>\n",
       "      <td>&lt;=50K</td>\n",
       "    </tr>\n",
       "    <tr>\n",
       "      <th>17040</th>\n",
       "      <td>46</td>\n",
       "      <td>Private</td>\n",
       "      <td>173243</td>\n",
       "      <td>HS-grad</td>\n",
       "      <td>9</td>\n",
       "      <td>Married-civ-spouse</td>\n",
       "      <td>Craft-repair</td>\n",
       "      <td>Husband</td>\n",
       "      <td>White</td>\n",
       "      <td>Male</td>\n",
       "      <td>0</td>\n",
       "      <td>0</td>\n",
       "      <td>40</td>\n",
       "      <td>United-States</td>\n",
       "      <td>&lt;=50K</td>\n",
       "    </tr>\n",
       "    <tr>\n",
       "      <th>18555</th>\n",
       "      <td>30</td>\n",
       "      <td>Private</td>\n",
       "      <td>144593</td>\n",
       "      <td>HS-grad</td>\n",
       "      <td>9</td>\n",
       "      <td>Never-married</td>\n",
       "      <td>Other-service</td>\n",
       "      <td>Not-in-family</td>\n",
       "      <td>Black</td>\n",
       "      <td>Male</td>\n",
       "      <td>0</td>\n",
       "      <td>0</td>\n",
       "      <td>40</td>\n",
       "      <td>Unknown</td>\n",
       "      <td>&lt;=50K</td>\n",
       "    </tr>\n",
       "    <tr>\n",
       "      <th>18698</th>\n",
       "      <td>19</td>\n",
       "      <td>Private</td>\n",
       "      <td>97261</td>\n",
       "      <td>HS-grad</td>\n",
       "      <td>9</td>\n",
       "      <td>Never-married</td>\n",
       "      <td>Farming-fishing</td>\n",
       "      <td>Not-in-family</td>\n",
       "      <td>White</td>\n",
       "      <td>Male</td>\n",
       "      <td>0</td>\n",
       "      <td>0</td>\n",
       "      <td>40</td>\n",
       "      <td>United-States</td>\n",
       "      <td>&lt;=50K</td>\n",
       "    </tr>\n",
       "    <tr>\n",
       "      <th>21318</th>\n",
       "      <td>19</td>\n",
       "      <td>Private</td>\n",
       "      <td>138153</td>\n",
       "      <td>Some-college</td>\n",
       "      <td>10</td>\n",
       "      <td>Never-married</td>\n",
       "      <td>Adm-clerical</td>\n",
       "      <td>Own-child</td>\n",
       "      <td>White</td>\n",
       "      <td>Female</td>\n",
       "      <td>0</td>\n",
       "      <td>0</td>\n",
       "      <td>10</td>\n",
       "      <td>United-States</td>\n",
       "      <td>&lt;=50K</td>\n",
       "    </tr>\n",
       "    <tr>\n",
       "      <th>21490</th>\n",
       "      <td>19</td>\n",
       "      <td>Private</td>\n",
       "      <td>146679</td>\n",
       "      <td>Some-college</td>\n",
       "      <td>10</td>\n",
       "      <td>Never-married</td>\n",
       "      <td>Exec-managerial</td>\n",
       "      <td>Own-child</td>\n",
       "      <td>Black</td>\n",
       "      <td>Male</td>\n",
       "      <td>0</td>\n",
       "      <td>0</td>\n",
       "      <td>30</td>\n",
       "      <td>United-States</td>\n",
       "      <td>&lt;=50K</td>\n",
       "    </tr>\n",
       "    <tr>\n",
       "      <th>21875</th>\n",
       "      <td>49</td>\n",
       "      <td>Private</td>\n",
       "      <td>31267</td>\n",
       "      <td>7th-8th</td>\n",
       "      <td>4</td>\n",
       "      <td>Married-civ-spouse</td>\n",
       "      <td>Craft-repair</td>\n",
       "      <td>Husband</td>\n",
       "      <td>White</td>\n",
       "      <td>Male</td>\n",
       "      <td>0</td>\n",
       "      <td>0</td>\n",
       "      <td>40</td>\n",
       "      <td>United-States</td>\n",
       "      <td>&lt;=50K</td>\n",
       "    </tr>\n",
       "    <tr>\n",
       "      <th>22300</th>\n",
       "      <td>25</td>\n",
       "      <td>Private</td>\n",
       "      <td>195994</td>\n",
       "      <td>1st-4th</td>\n",
       "      <td>2</td>\n",
       "      <td>Never-married</td>\n",
       "      <td>Priv-house-serv</td>\n",
       "      <td>Not-in-family</td>\n",
       "      <td>White</td>\n",
       "      <td>Female</td>\n",
       "      <td>0</td>\n",
       "      <td>0</td>\n",
       "      <td>40</td>\n",
       "      <td>Guatemala</td>\n",
       "      <td>&lt;=50K</td>\n",
       "    </tr>\n",
       "    <tr>\n",
       "      <th>22367</th>\n",
       "      <td>44</td>\n",
       "      <td>Private</td>\n",
       "      <td>367749</td>\n",
       "      <td>Bachelors</td>\n",
       "      <td>13</td>\n",
       "      <td>Never-married</td>\n",
       "      <td>Prof-specialty</td>\n",
       "      <td>Not-in-family</td>\n",
       "      <td>White</td>\n",
       "      <td>Female</td>\n",
       "      <td>0</td>\n",
       "      <td>0</td>\n",
       "      <td>45</td>\n",
       "      <td>Mexico</td>\n",
       "      <td>&lt;=50K</td>\n",
       "    </tr>\n",
       "    <tr>\n",
       "      <th>22494</th>\n",
       "      <td>49</td>\n",
       "      <td>Self-emp-not-inc</td>\n",
       "      <td>43479</td>\n",
       "      <td>Some-college</td>\n",
       "      <td>10</td>\n",
       "      <td>Married-civ-spouse</td>\n",
       "      <td>Craft-repair</td>\n",
       "      <td>Husband</td>\n",
       "      <td>White</td>\n",
       "      <td>Male</td>\n",
       "      <td>0</td>\n",
       "      <td>0</td>\n",
       "      <td>40</td>\n",
       "      <td>United-States</td>\n",
       "      <td>&lt;=50K</td>\n",
       "    </tr>\n",
       "    <tr>\n",
       "      <th>25872</th>\n",
       "      <td>23</td>\n",
       "      <td>Private</td>\n",
       "      <td>240137</td>\n",
       "      <td>5th-6th</td>\n",
       "      <td>3</td>\n",
       "      <td>Never-married</td>\n",
       "      <td>Handlers-cleaners</td>\n",
       "      <td>Not-in-family</td>\n",
       "      <td>White</td>\n",
       "      <td>Male</td>\n",
       "      <td>0</td>\n",
       "      <td>0</td>\n",
       "      <td>55</td>\n",
       "      <td>Mexico</td>\n",
       "      <td>&lt;=50K</td>\n",
       "    </tr>\n",
       "    <tr>\n",
       "      <th>26313</th>\n",
       "      <td>28</td>\n",
       "      <td>Private</td>\n",
       "      <td>274679</td>\n",
       "      <td>Masters</td>\n",
       "      <td>14</td>\n",
       "      <td>Never-married</td>\n",
       "      <td>Prof-specialty</td>\n",
       "      <td>Not-in-family</td>\n",
       "      <td>White</td>\n",
       "      <td>Male</td>\n",
       "      <td>0</td>\n",
       "      <td>0</td>\n",
       "      <td>50</td>\n",
       "      <td>United-States</td>\n",
       "      <td>&lt;=50K</td>\n",
       "    </tr>\n",
       "    <tr>\n",
       "      <th>28230</th>\n",
       "      <td>27</td>\n",
       "      <td>Private</td>\n",
       "      <td>255582</td>\n",
       "      <td>HS-grad</td>\n",
       "      <td>9</td>\n",
       "      <td>Never-married</td>\n",
       "      <td>Machine-op-inspct</td>\n",
       "      <td>Not-in-family</td>\n",
       "      <td>White</td>\n",
       "      <td>Female</td>\n",
       "      <td>0</td>\n",
       "      <td>0</td>\n",
       "      <td>40</td>\n",
       "      <td>United-States</td>\n",
       "      <td>&lt;=50K</td>\n",
       "    </tr>\n",
       "    <tr>\n",
       "      <th>28522</th>\n",
       "      <td>42</td>\n",
       "      <td>Private</td>\n",
       "      <td>204235</td>\n",
       "      <td>Some-college</td>\n",
       "      <td>10</td>\n",
       "      <td>Married-civ-spouse</td>\n",
       "      <td>Prof-specialty</td>\n",
       "      <td>Husband</td>\n",
       "      <td>White</td>\n",
       "      <td>Male</td>\n",
       "      <td>0</td>\n",
       "      <td>0</td>\n",
       "      <td>40</td>\n",
       "      <td>United-States</td>\n",
       "      <td>&gt;50K</td>\n",
       "    </tr>\n",
       "    <tr>\n",
       "      <th>28846</th>\n",
       "      <td>39</td>\n",
       "      <td>Private</td>\n",
       "      <td>30916</td>\n",
       "      <td>HS-grad</td>\n",
       "      <td>9</td>\n",
       "      <td>Married-civ-spouse</td>\n",
       "      <td>Craft-repair</td>\n",
       "      <td>Husband</td>\n",
       "      <td>White</td>\n",
       "      <td>Male</td>\n",
       "      <td>0</td>\n",
       "      <td>0</td>\n",
       "      <td>40</td>\n",
       "      <td>United-States</td>\n",
       "      <td>&lt;=50K</td>\n",
       "    </tr>\n",
       "    <tr>\n",
       "      <th>29157</th>\n",
       "      <td>38</td>\n",
       "      <td>Private</td>\n",
       "      <td>207202</td>\n",
       "      <td>HS-grad</td>\n",
       "      <td>9</td>\n",
       "      <td>Married-civ-spouse</td>\n",
       "      <td>Machine-op-inspct</td>\n",
       "      <td>Husband</td>\n",
       "      <td>White</td>\n",
       "      <td>Male</td>\n",
       "      <td>0</td>\n",
       "      <td>0</td>\n",
       "      <td>48</td>\n",
       "      <td>United-States</td>\n",
       "      <td>&gt;50K</td>\n",
       "    </tr>\n",
       "    <tr>\n",
       "      <th>30845</th>\n",
       "      <td>46</td>\n",
       "      <td>Private</td>\n",
       "      <td>133616</td>\n",
       "      <td>Some-college</td>\n",
       "      <td>10</td>\n",
       "      <td>Divorced</td>\n",
       "      <td>Adm-clerical</td>\n",
       "      <td>Unmarried</td>\n",
       "      <td>White</td>\n",
       "      <td>Female</td>\n",
       "      <td>0</td>\n",
       "      <td>0</td>\n",
       "      <td>40</td>\n",
       "      <td>United-States</td>\n",
       "      <td>&lt;=50K</td>\n",
       "    </tr>\n",
       "    <tr>\n",
       "      <th>31993</th>\n",
       "      <td>19</td>\n",
       "      <td>Private</td>\n",
       "      <td>251579</td>\n",
       "      <td>Some-college</td>\n",
       "      <td>10</td>\n",
       "      <td>Never-married</td>\n",
       "      <td>Other-service</td>\n",
       "      <td>Own-child</td>\n",
       "      <td>White</td>\n",
       "      <td>Male</td>\n",
       "      <td>0</td>\n",
       "      <td>0</td>\n",
       "      <td>14</td>\n",
       "      <td>United-States</td>\n",
       "      <td>&lt;=50K</td>\n",
       "    </tr>\n",
       "    <tr>\n",
       "      <th>32404</th>\n",
       "      <td>35</td>\n",
       "      <td>Private</td>\n",
       "      <td>379959</td>\n",
       "      <td>HS-grad</td>\n",
       "      <td>9</td>\n",
       "      <td>Divorced</td>\n",
       "      <td>Other-service</td>\n",
       "      <td>Not-in-family</td>\n",
       "      <td>White</td>\n",
       "      <td>Female</td>\n",
       "      <td>0</td>\n",
       "      <td>0</td>\n",
       "      <td>40</td>\n",
       "      <td>United-States</td>\n",
       "      <td>&lt;=50K</td>\n",
       "    </tr>\n",
       "  </tbody>\n",
       "</table>\n",
       "</div>"
      ],
      "text/plain": [
       "       AGE         WORKCLASS  FNLWGT     EDUCATION  EDUCATION_NUM  \\\n",
       "4881    25           Private  308144     Bachelors             13   \n",
       "5104    90           Private   52386  Some-college             10   \n",
       "9171    21           Private  250051  Some-college             10   \n",
       "11631   20           Private  107658  Some-college             10   \n",
       "13084   25           Private  195994       1st-4th              2   \n",
       "15059   21           Private  243368     Preschool              1   \n",
       "17040   46           Private  173243       HS-grad              9   \n",
       "18555   30           Private  144593       HS-grad              9   \n",
       "18698   19           Private   97261       HS-grad              9   \n",
       "21318   19           Private  138153  Some-college             10   \n",
       "21490   19           Private  146679  Some-college             10   \n",
       "21875   49           Private   31267       7th-8th              4   \n",
       "22300   25           Private  195994       1st-4th              2   \n",
       "22367   44           Private  367749     Bachelors             13   \n",
       "22494   49  Self-emp-not-inc   43479  Some-college             10   \n",
       "25872   23           Private  240137       5th-6th              3   \n",
       "26313   28           Private  274679       Masters             14   \n",
       "28230   27           Private  255582       HS-grad              9   \n",
       "28522   42           Private  204235  Some-college             10   \n",
       "28846   39           Private   30916       HS-grad              9   \n",
       "29157   38           Private  207202       HS-grad              9   \n",
       "30845   46           Private  133616  Some-college             10   \n",
       "31993   19           Private  251579  Some-college             10   \n",
       "32404   35           Private  379959       HS-grad              9   \n",
       "\n",
       "           MARITAL_STATUS         OCCUPATION   RELATIONSHIP  \\\n",
       "4881        Never-married       Craft-repair  Not-in-family   \n",
       "5104        Never-married      Other-service  Not-in-family   \n",
       "9171        Never-married     Prof-specialty      Own-child   \n",
       "11631       Never-married       Tech-support  Not-in-family   \n",
       "13084       Never-married    Priv-house-serv  Not-in-family   \n",
       "15059       Never-married    Farming-fishing  Not-in-family   \n",
       "17040  Married-civ-spouse       Craft-repair        Husband   \n",
       "18555       Never-married      Other-service  Not-in-family   \n",
       "18698       Never-married    Farming-fishing  Not-in-family   \n",
       "21318       Never-married       Adm-clerical      Own-child   \n",
       "21490       Never-married    Exec-managerial      Own-child   \n",
       "21875  Married-civ-spouse       Craft-repair        Husband   \n",
       "22300       Never-married    Priv-house-serv  Not-in-family   \n",
       "22367       Never-married     Prof-specialty  Not-in-family   \n",
       "22494  Married-civ-spouse       Craft-repair        Husband   \n",
       "25872       Never-married  Handlers-cleaners  Not-in-family   \n",
       "26313       Never-married     Prof-specialty  Not-in-family   \n",
       "28230       Never-married  Machine-op-inspct  Not-in-family   \n",
       "28522  Married-civ-spouse     Prof-specialty        Husband   \n",
       "28846  Married-civ-spouse       Craft-repair        Husband   \n",
       "29157  Married-civ-spouse  Machine-op-inspct        Husband   \n",
       "30845            Divorced       Adm-clerical      Unmarried   \n",
       "31993       Never-married      Other-service      Own-child   \n",
       "32404            Divorced      Other-service  Not-in-family   \n",
       "\n",
       "                     RACE     SEX  CAPITAL_GAIN  CAPITAL_LOSS  HOURS_PER_WEEK  \\\n",
       "4881                White    Male             0             0              40   \n",
       "5104   Asian-Pac-Islander    Male             0             0              35   \n",
       "9171                White  Female             0             0              10   \n",
       "11631               White  Female             0             0              10   \n",
       "13084               White  Female             0             0              40   \n",
       "15059               White    Male             0             0              50   \n",
       "17040               White    Male             0             0              40   \n",
       "18555               Black    Male             0             0              40   \n",
       "18698               White    Male             0             0              40   \n",
       "21318               White  Female             0             0              10   \n",
       "21490               Black    Male             0             0              30   \n",
       "21875               White    Male             0             0              40   \n",
       "22300               White  Female             0             0              40   \n",
       "22367               White  Female             0             0              45   \n",
       "22494               White    Male             0             0              40   \n",
       "25872               White    Male             0             0              55   \n",
       "26313               White    Male             0             0              50   \n",
       "28230               White  Female             0             0              40   \n",
       "28522               White    Male             0             0              40   \n",
       "28846               White    Male             0             0              40   \n",
       "29157               White    Male             0             0              48   \n",
       "30845               White  Female             0             0              40   \n",
       "31993               White    Male             0             0              14   \n",
       "32404               White  Female             0             0              40   \n",
       "\n",
       "      NATIVE_COUNTRY INCOME  \n",
       "4881          Mexico  <=50K  \n",
       "5104   United-States  <=50K  \n",
       "9171   United-States  <=50K  \n",
       "11631  United-States  <=50K  \n",
       "13084      Guatemala  <=50K  \n",
       "15059         Mexico  <=50K  \n",
       "17040  United-States  <=50K  \n",
       "18555        Unknown  <=50K  \n",
       "18698  United-States  <=50K  \n",
       "21318  United-States  <=50K  \n",
       "21490  United-States  <=50K  \n",
       "21875  United-States  <=50K  \n",
       "22300      Guatemala  <=50K  \n",
       "22367         Mexico  <=50K  \n",
       "22494  United-States  <=50K  \n",
       "25872         Mexico  <=50K  \n",
       "26313  United-States  <=50K  \n",
       "28230  United-States  <=50K  \n",
       "28522  United-States   >50K  \n",
       "28846  United-States  <=50K  \n",
       "29157  United-States   >50K  \n",
       "30845  United-States  <=50K  \n",
       "31993  United-States  <=50K  \n",
       "32404  United-States  <=50K  "
      ]
     },
     "execution_count": 20,
     "metadata": {},
     "output_type": "execute_result"
    }
   ],
   "source": [
    "data.loc[data.duplicated()]"
   ]
  },
  {
   "cell_type": "code",
   "execution_count": 21,
   "id": "d999519c",
   "metadata": {},
   "outputs": [
    {
     "data": {
      "text/html": [
       "<div>\n",
       "<style scoped>\n",
       "    .dataframe tbody tr th:only-of-type {\n",
       "        vertical-align: middle;\n",
       "    }\n",
       "\n",
       "    .dataframe tbody tr th {\n",
       "        vertical-align: top;\n",
       "    }\n",
       "\n",
       "    .dataframe thead th {\n",
       "        text-align: right;\n",
       "    }\n",
       "</style>\n",
       "<table border=\"1\" class=\"dataframe\">\n",
       "  <thead>\n",
       "    <tr style=\"text-align: right;\">\n",
       "      <th></th>\n",
       "      <th>AGE</th>\n",
       "      <th>WORKCLASS</th>\n",
       "      <th>FNLWGT</th>\n",
       "      <th>EDUCATION</th>\n",
       "      <th>EDUCATION_NUM</th>\n",
       "      <th>MARITAL_STATUS</th>\n",
       "      <th>OCCUPATION</th>\n",
       "      <th>RELATIONSHIP</th>\n",
       "      <th>RACE</th>\n",
       "      <th>SEX</th>\n",
       "      <th>CAPITAL_GAIN</th>\n",
       "      <th>CAPITAL_LOSS</th>\n",
       "      <th>HOURS_PER_WEEK</th>\n",
       "      <th>NATIVE_COUNTRY</th>\n",
       "      <th>INCOME</th>\n",
       "    </tr>\n",
       "  </thead>\n",
       "  <tbody>\n",
       "    <tr>\n",
       "      <th>4325</th>\n",
       "      <td>25</td>\n",
       "      <td>Private</td>\n",
       "      <td>308144</td>\n",
       "      <td>Bachelors</td>\n",
       "      <td>13</td>\n",
       "      <td>Never-married</td>\n",
       "      <td>Craft-repair</td>\n",
       "      <td>Not-in-family</td>\n",
       "      <td>White</td>\n",
       "      <td>Male</td>\n",
       "      <td>0</td>\n",
       "      <td>0</td>\n",
       "      <td>40</td>\n",
       "      <td>Mexico</td>\n",
       "      <td>&lt;=50K</td>\n",
       "    </tr>\n",
       "    <tr>\n",
       "      <th>4881</th>\n",
       "      <td>25</td>\n",
       "      <td>Private</td>\n",
       "      <td>308144</td>\n",
       "      <td>Bachelors</td>\n",
       "      <td>13</td>\n",
       "      <td>Never-married</td>\n",
       "      <td>Craft-repair</td>\n",
       "      <td>Not-in-family</td>\n",
       "      <td>White</td>\n",
       "      <td>Male</td>\n",
       "      <td>0</td>\n",
       "      <td>0</td>\n",
       "      <td>40</td>\n",
       "      <td>Mexico</td>\n",
       "      <td>&lt;=50K</td>\n",
       "    </tr>\n",
       "  </tbody>\n",
       "</table>\n",
       "</div>"
      ],
      "text/plain": [
       "      AGE WORKCLASS  FNLWGT  EDUCATION  EDUCATION_NUM MARITAL_STATUS  \\\n",
       "4325   25   Private  308144  Bachelors             13  Never-married   \n",
       "4881   25   Private  308144  Bachelors             13  Never-married   \n",
       "\n",
       "        OCCUPATION   RELATIONSHIP   RACE   SEX  CAPITAL_GAIN  CAPITAL_LOSS  \\\n",
       "4325  Craft-repair  Not-in-family  White  Male             0             0   \n",
       "4881  Craft-repair  Not-in-family  White  Male             0             0   \n",
       "\n",
       "      HOURS_PER_WEEK NATIVE_COUNTRY INCOME  \n",
       "4325              40         Mexico  <=50K  \n",
       "4881              40         Mexico  <=50K  "
      ]
     },
     "execution_count": 21,
     "metadata": {},
     "output_type": "execute_result"
    }
   ],
   "source": [
    "data[(data['AGE'] == 25) &( data['FNLWGT'] == 308144)]"
   ]
  },
  {
   "cell_type": "code",
   "execution_count": 22,
   "id": "6983658a",
   "metadata": {},
   "outputs": [],
   "source": [
    "data.drop_duplicates(inplace = True)"
   ]
  },
  {
   "cell_type": "markdown",
   "id": "eb744dce",
   "metadata": {},
   "source": [
    "## Statistical Analysis and Plotting"
   ]
  },
  {
   "cell_type": "code",
   "execution_count": 23,
   "id": "e61c3488",
   "metadata": {},
   "outputs": [
    {
     "data": {
      "text/html": [
       "<div>\n",
       "<style scoped>\n",
       "    .dataframe tbody tr th:only-of-type {\n",
       "        vertical-align: middle;\n",
       "    }\n",
       "\n",
       "    .dataframe tbody tr th {\n",
       "        vertical-align: top;\n",
       "    }\n",
       "\n",
       "    .dataframe thead th {\n",
       "        text-align: right;\n",
       "    }\n",
       "</style>\n",
       "<table border=\"1\" class=\"dataframe\">\n",
       "  <thead>\n",
       "    <tr style=\"text-align: right;\">\n",
       "      <th></th>\n",
       "      <th>count</th>\n",
       "      <th>mean</th>\n",
       "      <th>std</th>\n",
       "      <th>min</th>\n",
       "      <th>25%</th>\n",
       "      <th>50%</th>\n",
       "      <th>75%</th>\n",
       "      <th>max</th>\n",
       "    </tr>\n",
       "  </thead>\n",
       "  <tbody>\n",
       "    <tr>\n",
       "      <th>AGE</th>\n",
       "      <td>32537.0</td>\n",
       "      <td>38.585549</td>\n",
       "      <td>13.637984</td>\n",
       "      <td>17.0</td>\n",
       "      <td>28.0</td>\n",
       "      <td>37.0</td>\n",
       "      <td>48.0</td>\n",
       "      <td>90.0</td>\n",
       "    </tr>\n",
       "    <tr>\n",
       "      <th>FNLWGT</th>\n",
       "      <td>32537.0</td>\n",
       "      <td>189780.848511</td>\n",
       "      <td>105556.471009</td>\n",
       "      <td>12285.0</td>\n",
       "      <td>117827.0</td>\n",
       "      <td>178356.0</td>\n",
       "      <td>236993.0</td>\n",
       "      <td>1484705.0</td>\n",
       "    </tr>\n",
       "    <tr>\n",
       "      <th>EDUCATION_NUM</th>\n",
       "      <td>32537.0</td>\n",
       "      <td>10.081815</td>\n",
       "      <td>2.571633</td>\n",
       "      <td>1.0</td>\n",
       "      <td>9.0</td>\n",
       "      <td>10.0</td>\n",
       "      <td>12.0</td>\n",
       "      <td>16.0</td>\n",
       "    </tr>\n",
       "    <tr>\n",
       "      <th>CAPITAL_GAIN</th>\n",
       "      <td>32537.0</td>\n",
       "      <td>1078.443741</td>\n",
       "      <td>7387.957424</td>\n",
       "      <td>0.0</td>\n",
       "      <td>0.0</td>\n",
       "      <td>0.0</td>\n",
       "      <td>0.0</td>\n",
       "      <td>99999.0</td>\n",
       "    </tr>\n",
       "    <tr>\n",
       "      <th>CAPITAL_LOSS</th>\n",
       "      <td>32537.0</td>\n",
       "      <td>87.368227</td>\n",
       "      <td>403.101833</td>\n",
       "      <td>0.0</td>\n",
       "      <td>0.0</td>\n",
       "      <td>0.0</td>\n",
       "      <td>0.0</td>\n",
       "      <td>4356.0</td>\n",
       "    </tr>\n",
       "    <tr>\n",
       "      <th>HOURS_PER_WEEK</th>\n",
       "      <td>32537.0</td>\n",
       "      <td>40.440329</td>\n",
       "      <td>12.346889</td>\n",
       "      <td>1.0</td>\n",
       "      <td>40.0</td>\n",
       "      <td>40.0</td>\n",
       "      <td>45.0</td>\n",
       "      <td>99.0</td>\n",
       "    </tr>\n",
       "  </tbody>\n",
       "</table>\n",
       "</div>"
      ],
      "text/plain": [
       "                  count           mean            std      min       25%  \\\n",
       "AGE             32537.0      38.585549      13.637984     17.0      28.0   \n",
       "FNLWGT          32537.0  189780.848511  105556.471009  12285.0  117827.0   \n",
       "EDUCATION_NUM   32537.0      10.081815       2.571633      1.0       9.0   \n",
       "CAPITAL_GAIN    32537.0    1078.443741    7387.957424      0.0       0.0   \n",
       "CAPITAL_LOSS    32537.0      87.368227     403.101833      0.0       0.0   \n",
       "HOURS_PER_WEEK  32537.0      40.440329      12.346889      1.0      40.0   \n",
       "\n",
       "                     50%       75%        max  \n",
       "AGE                 37.0      48.0       90.0  \n",
       "FNLWGT          178356.0  236993.0  1484705.0  \n",
       "EDUCATION_NUM       10.0      12.0       16.0  \n",
       "CAPITAL_GAIN         0.0       0.0    99999.0  \n",
       "CAPITAL_LOSS         0.0       0.0     4356.0  \n",
       "HOURS_PER_WEEK      40.0      45.0       99.0  "
      ]
     },
     "execution_count": 23,
     "metadata": {},
     "output_type": "execute_result"
    }
   ],
   "source": [
    "data.describe().T"
   ]
  },
  {
   "cell_type": "code",
   "execution_count": 24,
   "id": "dbfe0b15",
   "metadata": {},
   "outputs": [
    {
     "data": {
      "text/html": [
       "<div>\n",
       "<style scoped>\n",
       "    .dataframe tbody tr th:only-of-type {\n",
       "        vertical-align: middle;\n",
       "    }\n",
       "\n",
       "    .dataframe tbody tr th {\n",
       "        vertical-align: top;\n",
       "    }\n",
       "\n",
       "    .dataframe thead th {\n",
       "        text-align: right;\n",
       "    }\n",
       "</style>\n",
       "<table border=\"1\" class=\"dataframe\">\n",
       "  <thead>\n",
       "    <tr style=\"text-align: right;\">\n",
       "      <th></th>\n",
       "      <th>count</th>\n",
       "      <th>unique</th>\n",
       "      <th>top</th>\n",
       "      <th>freq</th>\n",
       "    </tr>\n",
       "  </thead>\n",
       "  <tbody>\n",
       "    <tr>\n",
       "      <th>WORKCLASS</th>\n",
       "      <td>32537</td>\n",
       "      <td>9</td>\n",
       "      <td>Private</td>\n",
       "      <td>22673</td>\n",
       "    </tr>\n",
       "    <tr>\n",
       "      <th>EDUCATION</th>\n",
       "      <td>32537</td>\n",
       "      <td>16</td>\n",
       "      <td>HS-grad</td>\n",
       "      <td>10494</td>\n",
       "    </tr>\n",
       "    <tr>\n",
       "      <th>MARITAL_STATUS</th>\n",
       "      <td>32537</td>\n",
       "      <td>7</td>\n",
       "      <td>Married-civ-spouse</td>\n",
       "      <td>14970</td>\n",
       "    </tr>\n",
       "    <tr>\n",
       "      <th>OCCUPATION</th>\n",
       "      <td>32537</td>\n",
       "      <td>15</td>\n",
       "      <td>Prof-specialty</td>\n",
       "      <td>4136</td>\n",
       "    </tr>\n",
       "    <tr>\n",
       "      <th>RELATIONSHIP</th>\n",
       "      <td>32537</td>\n",
       "      <td>6</td>\n",
       "      <td>Husband</td>\n",
       "      <td>13187</td>\n",
       "    </tr>\n",
       "    <tr>\n",
       "      <th>RACE</th>\n",
       "      <td>32537</td>\n",
       "      <td>5</td>\n",
       "      <td>White</td>\n",
       "      <td>27795</td>\n",
       "    </tr>\n",
       "    <tr>\n",
       "      <th>SEX</th>\n",
       "      <td>32537</td>\n",
       "      <td>2</td>\n",
       "      <td>Male</td>\n",
       "      <td>21775</td>\n",
       "    </tr>\n",
       "    <tr>\n",
       "      <th>NATIVE_COUNTRY</th>\n",
       "      <td>32537</td>\n",
       "      <td>42</td>\n",
       "      <td>United-States</td>\n",
       "      <td>29153</td>\n",
       "    </tr>\n",
       "    <tr>\n",
       "      <th>INCOME</th>\n",
       "      <td>32537</td>\n",
       "      <td>2</td>\n",
       "      <td>&lt;=50K</td>\n",
       "      <td>24698</td>\n",
       "    </tr>\n",
       "  </tbody>\n",
       "</table>\n",
       "</div>"
      ],
      "text/plain": [
       "                count unique                 top   freq\n",
       "WORKCLASS       32537      9             Private  22673\n",
       "EDUCATION       32537     16             HS-grad  10494\n",
       "MARITAL_STATUS  32537      7  Married-civ-spouse  14970\n",
       "OCCUPATION      32537     15      Prof-specialty   4136\n",
       "RELATIONSHIP    32537      6             Husband  13187\n",
       "RACE            32537      5               White  27795\n",
       "SEX             32537      2                Male  21775\n",
       "NATIVE_COUNTRY  32537     42       United-States  29153\n",
       "INCOME          32537      2               <=50K  24698"
      ]
     },
     "execution_count": 24,
     "metadata": {},
     "output_type": "execute_result"
    }
   ],
   "source": [
    "data.describe(include = ['object']).T"
   ]
  },
  {
   "cell_type": "markdown",
   "id": "b0dc1b7c",
   "metadata": {},
   "source": [
    "### Univariate plots"
   ]
  },
  {
   "cell_type": "markdown",
   "id": "0b74b37c",
   "metadata": {},
   "source": [
    "**NOTE: The data represents the number of people (FNLWGT) falling under same set of characterstics (remaining independent variables in the data). We can explore the actual number of people as well as the occurace of a given independent variable in our dataset**"
   ]
  },
  {
   "cell_type": "markdown",
   "id": "f30c2e29",
   "metadata": {},
   "source": [
    "**Executive Summary**"
   ]
  },
  {
   "cell_type": "markdown",
   "id": "716fa859",
   "metadata": {},
   "source": [
    "1. The data has more than 6.1 Billion people out of which 4.37 billion people work in the private sector\n",
    "2. EDUCATION_NUM column in the data gives us the order of education levels\n",
    "3. The data has highest people from HS-grad education level, followed by Some-college and Bachelors covering 71% of the data\n",
    "4. People with marital status Married-civ-spouse anf Never-married cover more than 80% of the data\n",
    "5. The data has more than 5 billion people from White Race\n",
    "6. Almost half of the people work for 40 hours per week\n",
    "7. 5.5 billion people in the data are from the United States"
   ]
  },
  {
   "cell_type": "markdown",
   "id": "a8253340",
   "metadata": {},
   "source": [
    "**1. WORKCLASS: Bar Chart**\n",
    "\n",
    "**Insight:** The data has more than 6.1 Billion people out of which 4.37 billion people work in the private sector"
   ]
  },
  {
   "cell_type": "code",
   "execution_count": 26,
   "id": "b560c86b",
   "metadata": {},
   "outputs": [],
   "source": [
    "workclass_data = data.groupby(['WORKCLASS'])[['FNLWGT']].agg('sum').reset_index()"
   ]
  },
  {
   "cell_type": "code",
   "execution_count": 27,
   "id": "0644279f",
   "metadata": {},
   "outputs": [
    {
     "data": {
      "text/plain": [
       "<AxesSubplot:xlabel='FNLWGT', ylabel='WORKCLASS'>"
      ]
     },
     "execution_count": 27,
     "metadata": {},
     "output_type": "execute_result"
    },
    {
     "data": {
      "image/png": "[encoded data removed]",
      "text/plain": [
       "<Figure size 432x288 with 1 Axes>"
      ]
     },
     "metadata": {
      "needs_background": "light"
     },
     "output_type": "display_data"
    }
   ],
   "source": [
    "plt.ticklabel_format(style = 'plain', axis = 'x')\n",
    "ax = plt.gca()\n",
    "ax.xaxis.set_major_formatter(tick.FuncFormatter(reformat_large_tick_values))\n",
    "\n",
    "sns.barplot(y = 'WORKCLASS', x = 'FNLWGT', data = workclass_data, order = workclass_data.sort_values(by = ['FNLWGT'])['WORKCLASS'])"
   ]
  },
  {
   "cell_type": "markdown",
   "id": "342c0f49",
   "metadata": {},
   "source": [
    "**2. EDUCATION & EDUCATION_NUM: Bar Chart**\n",
    "\n",
    "**Insights:** The data has highest people from HS-grad education level, followed by Some-college and Bachelors covering 71% of the data\n",
    "\n",
    "Note: EDUCATION_NUM column in the data gives us the order of education levels"
   ]
  },
  {
   "cell_type": "markdown",
   "id": "8374dbd2",
   "metadata": {},
   "source": [
    "**EDUCATION_NUM column is numerical representation of the ordering of the EDUCATION column**"
   ]
  },
  {
   "cell_type": "code",
   "execution_count": 28,
   "id": "c88ae882",
   "metadata": {},
   "outputs": [],
   "source": [
    "order_list = ['Preschool', '1st-4th', '5th-6th', '7th-8th', '9th', '10th', '11th', '12th', 'HS-grad', 'Some-college',\n",
    "              'Assoc-voc', 'Assoc-acdm', 'Bachelors', 'Masters', 'Prof-school', 'Doctorate']"
   ]
  },
  {
   "cell_type": "code",
   "execution_count": 29,
   "id": "8a4d082b",
   "metadata": {},
   "outputs": [],
   "source": [
    "custom_dict = {order_list[i]: i for i in range(len(order_list))}"
   ]
  },
  {
   "cell_type": "code",
   "execution_count": 30,
   "id": "01c4db50",
   "metadata": {},
   "outputs": [],
   "source": [
    "education_df = pd.DataFrame(data.groupby(['EDUCATION'])['FNLWGT'].agg('sum')).reset_index().\\\n",
    "               sort_values(by = ['EDUCATION'], key = lambda x: x.map(custom_dict)).reset_index(drop = True)"
   ]
  },
  {
   "cell_type": "markdown",
   "id": "595e8ff9",
   "metadata": {},
   "source": [
    "**Actual number of poeple in our dataset**"
   ]
  },
  {
   "cell_type": "code",
   "execution_count": 31,
   "id": "58c106b7",
   "metadata": {},
   "outputs": [
    {
     "data": {
      "text/plain": [
       "<AxesSubplot:xlabel='FNLWGT', ylabel='EDUCATION'>"
      ]
     },
     "execution_count": 31,
     "metadata": {},
     "output_type": "execute_result"
    },
    {
     "data": {
      "image/png": "[encoded data removed]",
      "text/plain": [
       "<Figure size 432x288 with 1 Axes>"
      ]
     },
     "metadata": {
      "needs_background": "light"
     },
     "output_type": "display_data"
    }
   ],
   "source": [
    "plt.ticklabel_format(style = 'plain', axis = 'x')\n",
    "ax = plt.gca()\n",
    "ax.xaxis.set_major_formatter(tick.FuncFormatter(reformat_large_tick_values))\n",
    "sns.barplot(y = 'EDUCATION', x = 'FNLWGT', data = education_df, order = order_list)"
   ]
  },
  {
   "cell_type": "markdown",
   "id": "0c553345",
   "metadata": {},
   "source": [
    "**The column EDUCATION_NUM gives us the hierarchy of categories in EDUCATION column**"
   ]
  },
  {
   "cell_type": "code",
   "execution_count": 32,
   "id": "0f342e18",
   "metadata": {},
   "outputs": [
    {
     "data": {
      "text/plain": [
       "<AxesSubplot:xlabel='count', ylabel='EDUCATION_NUM'>"
      ]
     },
     "execution_count": 32,
     "metadata": {},
     "output_type": "execute_result"
    },
    {
     "data": {
      "image/png": "[encoded data removed]",
      "text/plain": [
       "<Figure size 432x288 with 1 Axes>"
      ]
     },
     "metadata": {
      "needs_background": "light"
     },
     "output_type": "display_data"
    }
   ],
   "source": [
    "ax = plt.gca()\n",
    "ax.xaxis.set_major_formatter(tick.FuncFormatter(reformat_large_tick_values))\n",
    "sns.countplot(y = data['EDUCATION_NUM'], order = sorted(data['EDUCATION_NUM'].unique()))"
   ]
  },
  {
   "cell_type": "markdown",
   "id": "dd155613",
   "metadata": {},
   "source": [
    "**3. Marital Status: Bar Chart**\n",
    "\n",
    "**Insights:** People with marital status Married-civ-spouse anf Never-married cover more than 80% of the data"
   ]
  },
  {
   "cell_type": "code",
   "execution_count": 33,
   "id": "80eeb347",
   "metadata": {},
   "outputs": [],
   "source": [
    "marital_status_df = pd.DataFrame(data.groupby(['MARITAL_STATUS'])['FNLWGT'].agg('sum')).reset_index().\\\n",
    "               sort_values(by = ['MARITAL_STATUS']).reset_index(drop = True)"
   ]
  },
  {
   "cell_type": "code",
   "execution_count": 34,
   "id": "1e12f621",
   "metadata": {},
   "outputs": [
    {
     "data": {
      "text/plain": [
       "<AxesSubplot:xlabel='FNLWGT', ylabel='MARITAL_STATUS'>"
      ]
     },
     "execution_count": 34,
     "metadata": {},
     "output_type": "execute_result"
    },
    {
     "data": {
      "image/png": "[encoded data removed]",
      "text/plain": [
       "<Figure size 432x288 with 1 Axes>"
      ]
     },
     "metadata": {
      "needs_background": "light"
     },
     "output_type": "display_data"
    }
   ],
   "source": [
    "plt.ticklabel_format(style = 'plain', axis = 'x')\n",
    "ax = plt.gca()\n",
    "ax.xaxis.set_major_formatter(tick.FuncFormatter(reformat_large_tick_values))\n",
    "\n",
    "sns.barplot(y = 'MARITAL_STATUS', x = 'FNLWGT', data = marital_status_df, order = marital_status_df.sort_values(by = ['FNLWGT'])['MARITAL_STATUS'])"
   ]
  },
  {
   "cell_type": "markdown",
   "id": "fac149fb",
   "metadata": {},
   "source": [
    "**4. Race: Bar Chart**\n",
    "\n",
    "**Insights:** The data has more than 5 billion people from White Race"
   ]
  },
  {
   "cell_type": "code",
   "execution_count": 35,
   "id": "ae645637",
   "metadata": {},
   "outputs": [],
   "source": [
    "race_df = pd.DataFrame(data.groupby(['RACE'])['FNLWGT'].agg('sum')).reset_index().\\\n",
    "               sort_values(by = ['RACE']).reset_index(drop = True)"
   ]
  },
  {
   "cell_type": "code",
   "execution_count": 36,
   "id": "457b7a1a",
   "metadata": {},
   "outputs": [
    {
     "data": {
      "text/plain": [
       "<AxesSubplot:xlabel='FNLWGT', ylabel='RACE'>"
      ]
     },
     "execution_count": 36,
     "metadata": {},
     "output_type": "execute_result"
    },
    {
     "data": {
      "image/png": "[encoded data removed]",
      "text/plain": [
       "<Figure size 432x288 with 1 Axes>"
      ]
     },
     "metadata": {
      "needs_background": "light"
     },
     "output_type": "display_data"
    }
   ],
   "source": [
    "plt.ticklabel_format(style = 'plain', axis = 'x')\n",
    "ax = plt.gca()\n",
    "ax.xaxis.set_major_formatter(tick.FuncFormatter(reformat_large_tick_values))\n",
    "\n",
    "sns.barplot(y = 'RACE', x = 'FNLWGT', data = race_df, order = race_df.sort_values(by = ['FNLWGT'])['RACE'])"
   ]
  },
  {
   "cell_type": "markdown",
   "id": "0aa648c3",
   "metadata": {},
   "source": [
    "**5. Work-hours per week: Bar Chart**\n",
    "\n",
    "**Insights:** Almost half of the people work for 40 hours per week"
   ]
  },
  {
   "cell_type": "code",
   "execution_count": 37,
   "id": "ac3943f4",
   "metadata": {},
   "outputs": [],
   "source": [
    "hours_per_week_df = pd.DataFrame(data.groupby(['HOURS_PER_WEEK'])['FNLWGT'].agg('sum')).reset_index().\\\n",
    "               sort_values(by = ['HOURS_PER_WEEK']).reset_index(drop = True)"
   ]
  },
  {
   "cell_type": "code",
   "execution_count": 38,
   "id": "6f4a7206",
   "metadata": {},
   "outputs": [
    {
     "data": {
      "text/plain": [
       "<AxesSubplot:xlabel='HOURS_PER_WEEK', ylabel='FNLWGT'>"
      ]
     },
     "execution_count": 38,
     "metadata": {},
     "output_type": "execute_result"
    },
    {
     "data": {
      "image/png": "[encoded data removed]",
      "text/plain": [
       "<Figure size 1008x720 with 1 Axes>"
      ]
     },
     "metadata": {
      "needs_background": "light"
     },
     "output_type": "display_data"
    }
   ],
   "source": [
    "plt.figure(figsize = (14, 10))\n",
    "plt.ticklabel_format(style = 'plain', axis = 'y')\n",
    "ax = plt.gca()\n",
    "ax.yaxis.set_major_formatter(tick.FuncFormatter(reformat_large_tick_values))\n",
    "\n",
    "sns.barplot(x = 'HOURS_PER_WEEK', y = 'FNLWGT', data = hours_per_week_df, order = hours_per_week_df.sort_values(by = ['HOURS_PER_WEEK']).head(50)['HOURS_PER_WEEK'])"
   ]
  },
  {
   "cell_type": "markdown",
   "id": "bf42ace5",
   "metadata": {},
   "source": [
    "**6. Native countries: Bar Chart**\n",
    "\n",
    "**Insights:** 5.5 billion people in the data are from the United States"
   ]
  },
  {
   "cell_type": "code",
   "execution_count": 39,
   "id": "36ed044a",
   "metadata": {},
   "outputs": [],
   "source": [
    "native_country_df = pd.DataFrame(data.groupby(['NATIVE_COUNTRY'])['FNLWGT'].agg('sum')).reset_index().\\\n",
    "               sort_values(by = ['NATIVE_COUNTRY']).reset_index(drop = True)"
   ]
  },
  {
   "cell_type": "code",
   "execution_count": 40,
   "id": "d18fdd73",
   "metadata": {},
   "outputs": [
    {
     "data": {
      "text/plain": [
       "<AxesSubplot:xlabel='FNLWGT', ylabel='NATIVE_COUNTRY'>"
      ]
     },
     "execution_count": 40,
     "metadata": {},
     "output_type": "execute_result"
    },
    {
     "data": {
      "image/png": "[encoded data removed]",
      "text/plain": [
       "<Figure size 1008x720 with 1 Axes>"
      ]
     },
     "metadata": {
      "needs_background": "light"
     },
     "output_type": "display_data"
    }
   ],
   "source": [
    "plt.figure(figsize = (14, 10))\n",
    "plt.ticklabel_format(style = 'plain', axis = 'x')\n",
    "ax = plt.gca()\n",
    "ax.xaxis.set_major_formatter(tick.FuncFormatter(reformat_large_tick_values))\n",
    "\n",
    "sns.barplot(y = 'NATIVE_COUNTRY', x = 'FNLWGT', data = native_country_df, order = native_country_df.sort_values(by = ['FNLWGT']).head(50)['NATIVE_COUNTRY'])"
   ]
  },
  {
   "cell_type": "markdown",
   "id": "2e3e0984",
   "metadata": {},
   "source": [
    "**7. Income: target column**\n",
    "\n",
    "**Insight:** The classes of target column are not imbalanced"
   ]
  },
  {
   "cell_type": "code",
   "execution_count": 41,
   "id": "e3ee726a",
   "metadata": {},
   "outputs": [
    {
     "data": {
      "text/plain": [
       "INCOME\n",
       "<=50K    4701163700\n",
       ">50K     1473735768\n",
       "Name: FNLWGT, dtype: int64"
      ]
     },
     "execution_count": 41,
     "metadata": {},
     "output_type": "execute_result"
    }
   ],
   "source": [
    "data.groupby('INCOME')['FNLWGT'].agg('sum')"
   ]
  },
  {
   "cell_type": "code",
   "execution_count": 42,
   "id": "c04bdcd1",
   "metadata": {},
   "outputs": [
    {
     "data": {
      "text/plain": [
       "<AxesSubplot:ylabel='FNLWGT'>"
      ]
     },
     "execution_count": 42,
     "metadata": {},
     "output_type": "execute_result"
    },
    {
     "data": {
      "image/png": "[encoded data removed]",
      "text/plain": [
       "<Figure size 432x288 with 1 Axes>"
      ]
     },
     "metadata": {},
     "output_type": "display_data"
    }
   ],
   "source": [
    "data.groupby('INCOME')['FNLWGT'].agg('sum').plot(kind ='pie')"
   ]
  },
  {
   "cell_type": "markdown",
   "id": "6a717316",
   "metadata": {},
   "source": [
    "**8. Plotting the population size for each type of record**"
   ]
  },
  {
   "cell_type": "code",
   "execution_count": 43,
   "id": "fdaddd91",
   "metadata": {},
   "outputs": [
    {
     "data": {
      "image/png": "[encoded data removed]",
      "text/plain": [
       "<Figure size 1008x432 with 1 Axes>"
      ]
     },
     "metadata": {
      "needs_background": "light"
     },
     "output_type": "display_data"
    }
   ],
   "source": [
    "bin_values = np.arange(start = 0, stop = 1500000, step = 20000)\n",
    "data['FNLWGT'].hist(bins = bin_values, figsize = [14, 6])\n",
    "\n",
    "ax = plt.gca()\n",
    "ax.xaxis.set_major_formatter(tick.FuncFormatter(reformat_large_tick_values))"
   ]
  },
  {
   "cell_type": "markdown",
   "id": "4f10b213",
   "metadata": {},
   "source": [
    "### Bivariate plots"
   ]
  },
  {
   "cell_type": "markdown",
   "id": "baf6308e",
   "metadata": {},
   "source": [
    "**Executive Summary**\n",
    "\n",
    "1. Only 11% of the females earn more than 50K USD as compared to the 30% of males\n",
    "2. 58% of the people working under WORKCLASS Self-emp-inc are earning more than 50K USD\n",
    "3. As expected, with better the education, the % of people earning more than 50K USD increases\n",
    "4. A good proportion of Married-civ-spouse and Married-AF-spouse earn more than 50K USD\n",
    "5. There are no females in the armed forces (present in the data)"
   ]
  },
  {
   "cell_type": "markdown",
   "id": "bf9867e1",
   "metadata": {},
   "source": [
    "**1. Distribution across Gender**\n",
    "\n",
    "**Insights:** Only 11% of the females earn more than 50K USD as compared to the 30% of males"
   ]
  },
  {
   "cell_type": "code",
   "execution_count": 44,
   "id": "9e7c0f56",
   "metadata": {},
   "outputs": [
    {
     "data": {
      "image/png": "[encoded data removed]",
      "text/plain": [
       "<Figure size 432x288 with 1 Axes>"
      ]
     },
     "metadata": {
      "needs_background": "light"
     },
     "output_type": "display_data"
    }
   ],
   "source": [
    "data.groupby(['SEX', 'INCOME'])['FNLWGT'].agg('sum').unstack().plot(kind = 'bar')\n",
    "\n",
    "plt.ticklabel_format(style = 'plain', axis = 'y')\n",
    "ax = plt.gca()\n",
    "ax.yaxis.set_major_formatter(tick.FuncFormatter(reformat_large_tick_values))"
   ]
  },
  {
   "cell_type": "code",
   "execution_count": 45,
   "id": "4fd7ae5a",
   "metadata": {},
   "outputs": [
    {
     "data": {
      "text/html": [
       "<div>\n",
       "<style scoped>\n",
       "    .dataframe tbody tr th:only-of-type {\n",
       "        vertical-align: middle;\n",
       "    }\n",
       "\n",
       "    .dataframe tbody tr th {\n",
       "        vertical-align: top;\n",
       "    }\n",
       "\n",
       "    .dataframe thead tr th {\n",
       "        text-align: left;\n",
       "    }\n",
       "\n",
       "    .dataframe thead tr:last-of-type th {\n",
       "        text-align: right;\n",
       "    }\n",
       "</style>\n",
       "<table border=\"1\" class=\"dataframe\">\n",
       "  <thead>\n",
       "    <tr>\n",
       "      <th></th>\n",
       "      <th colspan=\"2\" halign=\"left\">PERC</th>\n",
       "    </tr>\n",
       "    <tr>\n",
       "      <th>INCOME</th>\n",
       "      <th>&lt;=50K</th>\n",
       "      <th>&gt;50K</th>\n",
       "    </tr>\n",
       "    <tr>\n",
       "      <th>SEX</th>\n",
       "      <th></th>\n",
       "      <th></th>\n",
       "    </tr>\n",
       "  </thead>\n",
       "  <tbody>\n",
       "    <tr>\n",
       "      <th>Female</th>\n",
       "      <td>89.164307</td>\n",
       "      <td>10.835693</td>\n",
       "    </tr>\n",
       "    <tr>\n",
       "      <th>Male</th>\n",
       "      <td>69.897202</td>\n",
       "      <td>30.102798</td>\n",
       "    </tr>\n",
       "  </tbody>\n",
       "</table>\n",
       "</div>"
      ],
      "text/plain": [
       "             PERC           \n",
       "INCOME      <=50K       >50K\n",
       "SEX                         \n",
       "Female  89.164307  10.835693\n",
       "Male    69.897202  30.102798"
      ]
     },
     "execution_count": 45,
     "metadata": {},
     "output_type": "execute_result"
    }
   ],
   "source": [
    "pd.DataFrame((data.groupby(['SEX', 'INCOME'])['FNLWGT'].agg('sum') / data.groupby('SEX')['FNLWGT'].agg('sum') * 100)).rename(columns = {'FNLWGT': 'PERC'}).unstack()"
   ]
  },
  {
   "cell_type": "markdown",
   "id": "5d4f718f",
   "metadata": {},
   "source": [
    "**2. Distribution across WORKCLASS**\n",
    "\n",
    "**Insights:** 58% of the people working under WORKCLASS Self-emp-inc are earning more than 50K USD"
   ]
  },
  {
   "cell_type": "code",
   "execution_count": 46,
   "id": "77a8c1ca",
   "metadata": {},
   "outputs": [
    {
     "data": {
      "image/png": "[encoded data removed]",
      "text/plain": [
       "<Figure size 432x288 with 1 Axes>"
      ]
     },
     "metadata": {
      "needs_background": "light"
     },
     "output_type": "display_data"
    }
   ],
   "source": [
    "data.groupby(['WORKCLASS', 'INCOME'])['FNLWGT'].agg('sum').unstack().plot(kind = 'barh')\n",
    "\n",
    "plt.ticklabel_format(style = 'plain', axis = 'x')\n",
    "ax = plt.gca()\n",
    "ax.xaxis.set_major_formatter(tick.FuncFormatter(reformat_large_tick_values))"
   ]
  },
  {
   "cell_type": "code",
   "execution_count": 47,
   "id": "c7c97a18",
   "metadata": {},
   "outputs": [
    {
     "data": {
      "text/html": [
       "<div>\n",
       "<style scoped>\n",
       "    .dataframe tbody tr th:only-of-type {\n",
       "        vertical-align: middle;\n",
       "    }\n",
       "\n",
       "    .dataframe tbody tr th {\n",
       "        vertical-align: top;\n",
       "    }\n",
       "\n",
       "    .dataframe thead tr th {\n",
       "        text-align: left;\n",
       "    }\n",
       "\n",
       "    .dataframe thead tr:last-of-type th {\n",
       "        text-align: right;\n",
       "    }\n",
       "</style>\n",
       "<table border=\"1\" class=\"dataframe\">\n",
       "  <thead>\n",
       "    <tr>\n",
       "      <th></th>\n",
       "      <th colspan=\"2\" halign=\"left\">PERC</th>\n",
       "    </tr>\n",
       "    <tr>\n",
       "      <th>INCOME</th>\n",
       "      <th>&lt;=50K</th>\n",
       "      <th>&gt;50K</th>\n",
       "    </tr>\n",
       "    <tr>\n",
       "      <th>WORKCLASS</th>\n",
       "      <th></th>\n",
       "      <th></th>\n",
       "    </tr>\n",
       "  </thead>\n",
       "  <tbody>\n",
       "    <tr>\n",
       "      <th>Federal-gov</th>\n",
       "      <td>60.901368</td>\n",
       "      <td>39.098632</td>\n",
       "    </tr>\n",
       "    <tr>\n",
       "      <th>Local-gov</th>\n",
       "      <td>69.812039</td>\n",
       "      <td>30.187961</td>\n",
       "    </tr>\n",
       "    <tr>\n",
       "      <th>Never-worked</th>\n",
       "      <td>100.000000</td>\n",
       "      <td>NaN</td>\n",
       "    </tr>\n",
       "    <tr>\n",
       "      <th>Private</th>\n",
       "      <td>78.539451</td>\n",
       "      <td>21.460549</td>\n",
       "    </tr>\n",
       "    <tr>\n",
       "      <th>Self-emp-inc</th>\n",
       "      <td>42.019110</td>\n",
       "      <td>57.980890</td>\n",
       "    </tr>\n",
       "    <tr>\n",
       "      <th>Self-emp-not-inc</th>\n",
       "      <td>70.308503</td>\n",
       "      <td>29.691497</td>\n",
       "    </tr>\n",
       "    <tr>\n",
       "      <th>State-gov</th>\n",
       "      <td>72.523279</td>\n",
       "      <td>27.476721</td>\n",
       "    </tr>\n",
       "    <tr>\n",
       "      <th>Unknown</th>\n",
       "      <td>89.870070</td>\n",
       "      <td>10.129930</td>\n",
       "    </tr>\n",
       "    <tr>\n",
       "      <th>Without-pay</th>\n",
       "      <td>100.000000</td>\n",
       "      <td>NaN</td>\n",
       "    </tr>\n",
       "  </tbody>\n",
       "</table>\n",
       "</div>"
      ],
      "text/plain": [
       "                        PERC           \n",
       "INCOME                 <=50K       >50K\n",
       "WORKCLASS                              \n",
       "Federal-gov        60.901368  39.098632\n",
       "Local-gov          69.812039  30.187961\n",
       "Never-worked      100.000000        NaN\n",
       "Private            78.539451  21.460549\n",
       "Self-emp-inc       42.019110  57.980890\n",
       "Self-emp-not-inc   70.308503  29.691497\n",
       "State-gov          72.523279  27.476721\n",
       "Unknown            89.870070  10.129930\n",
       "Without-pay       100.000000        NaN"
      ]
     },
     "execution_count": 47,
     "metadata": {},
     "output_type": "execute_result"
    }
   ],
   "source": [
    "pd.DataFrame((data.groupby(['WORKCLASS', 'INCOME'])['FNLWGT'].agg('sum') / data.groupby('WORKCLASS')['FNLWGT'].agg('sum') * 100)).rename(columns = {'FNLWGT': 'PERC'}).unstack()"
   ]
  },
  {
   "cell_type": "markdown",
   "id": "300b98d8",
   "metadata": {},
   "source": [
    "**3. Distribution across EDUCATION**\n",
    "\n",
    "**Insights:** As expected, with better the education, the % of people earning more than 50K USD increases"
   ]
  },
  {
   "cell_type": "code",
   "execution_count": 48,
   "id": "b14b3628",
   "metadata": {},
   "outputs": [
    {
     "data": {
      "image/png": "[encoded data removed]",
      "text/plain": [
       "<Figure size 432x288 with 1 Axes>"
      ]
     },
     "metadata": {
      "needs_background": "light"
     },
     "output_type": "display_data"
    }
   ],
   "source": [
    "data.groupby(['EDUCATION', 'INCOME'])['FNLWGT'].agg('sum').unstack().loc[order_list].plot(kind = \"bar\")\n",
    "\n",
    "plt.ticklabel_format(style = 'plain', axis = 'y')\n",
    "ax = plt.gca()\n",
    "ax.yaxis.set_major_formatter(tick.FuncFormatter(reformat_large_tick_values))"
   ]
  },
  {
   "cell_type": "code",
   "execution_count": 49,
   "id": "f1e9269a",
   "metadata": {},
   "outputs": [
    {
     "data": {
      "text/html": [
       "<div>\n",
       "<style scoped>\n",
       "    .dataframe tbody tr th:only-of-type {\n",
       "        vertical-align: middle;\n",
       "    }\n",
       "\n",
       "    .dataframe tbody tr th {\n",
       "        vertical-align: top;\n",
       "    }\n",
       "\n",
       "    .dataframe thead tr th {\n",
       "        text-align: left;\n",
       "    }\n",
       "\n",
       "    .dataframe thead tr:last-of-type th {\n",
       "        text-align: right;\n",
       "    }\n",
       "</style>\n",
       "<table border=\"1\" class=\"dataframe\">\n",
       "  <thead>\n",
       "    <tr>\n",
       "      <th></th>\n",
       "      <th colspan=\"2\" halign=\"left\">PERC</th>\n",
       "    </tr>\n",
       "    <tr>\n",
       "      <th>INCOME</th>\n",
       "      <th>&lt;=50K</th>\n",
       "      <th>&gt;50K</th>\n",
       "    </tr>\n",
       "    <tr>\n",
       "      <th>EDUCATION</th>\n",
       "      <th></th>\n",
       "      <th></th>\n",
       "    </tr>\n",
       "  </thead>\n",
       "  <tbody>\n",
       "    <tr>\n",
       "      <th>10th</th>\n",
       "      <td>93.318085</td>\n",
       "      <td>6.681915</td>\n",
       "    </tr>\n",
       "    <tr>\n",
       "      <th>11th</th>\n",
       "      <td>95.585630</td>\n",
       "      <td>4.414370</td>\n",
       "    </tr>\n",
       "    <tr>\n",
       "      <th>12th</th>\n",
       "      <td>91.940573</td>\n",
       "      <td>8.059427</td>\n",
       "    </tr>\n",
       "    <tr>\n",
       "      <th>1st-4th</th>\n",
       "      <td>96.537565</td>\n",
       "      <td>3.462435</td>\n",
       "    </tr>\n",
       "    <tr>\n",
       "      <th>5th-6th</th>\n",
       "      <td>96.509252</td>\n",
       "      <td>3.490748</td>\n",
       "    </tr>\n",
       "    <tr>\n",
       "      <th>7th-8th</th>\n",
       "      <td>94.229805</td>\n",
       "      <td>5.770195</td>\n",
       "    </tr>\n",
       "    <tr>\n",
       "      <th>9th</th>\n",
       "      <td>95.692993</td>\n",
       "      <td>4.307007</td>\n",
       "    </tr>\n",
       "    <tr>\n",
       "      <th>Assoc-acdm</th>\n",
       "      <td>75.423184</td>\n",
       "      <td>24.576816</td>\n",
       "    </tr>\n",
       "    <tr>\n",
       "      <th>Assoc-voc</th>\n",
       "      <td>73.831950</td>\n",
       "      <td>26.168050</td>\n",
       "    </tr>\n",
       "    <tr>\n",
       "      <th>Bachelors</th>\n",
       "      <td>58.082132</td>\n",
       "      <td>41.917868</td>\n",
       "    </tr>\n",
       "    <tr>\n",
       "      <th>Doctorate</th>\n",
       "      <td>24.868719</td>\n",
       "      <td>75.131281</td>\n",
       "    </tr>\n",
       "    <tr>\n",
       "      <th>HS-grad</th>\n",
       "      <td>84.432371</td>\n",
       "      <td>15.567629</td>\n",
       "    </tr>\n",
       "    <tr>\n",
       "      <th>Masters</th>\n",
       "      <td>43.756778</td>\n",
       "      <td>56.243222</td>\n",
       "    </tr>\n",
       "    <tr>\n",
       "      <th>Preschool</th>\n",
       "      <td>100.000000</td>\n",
       "      <td>NaN</td>\n",
       "    </tr>\n",
       "    <tr>\n",
       "      <th>Prof-school</th>\n",
       "      <td>26.783482</td>\n",
       "      <td>73.216518</td>\n",
       "    </tr>\n",
       "    <tr>\n",
       "      <th>Some-college</th>\n",
       "      <td>80.327040</td>\n",
       "      <td>19.672960</td>\n",
       "    </tr>\n",
       "  </tbody>\n",
       "</table>\n",
       "</div>"
      ],
      "text/plain": [
       "                    PERC           \n",
       "INCOME             <=50K       >50K\n",
       "EDUCATION                          \n",
       "10th           93.318085   6.681915\n",
       "11th           95.585630   4.414370\n",
       "12th           91.940573   8.059427\n",
       "1st-4th        96.537565   3.462435\n",
       "5th-6th        96.509252   3.490748\n",
       "7th-8th        94.229805   5.770195\n",
       "9th            95.692993   4.307007\n",
       "Assoc-acdm     75.423184  24.576816\n",
       "Assoc-voc      73.831950  26.168050\n",
       "Bachelors      58.082132  41.917868\n",
       "Doctorate      24.868719  75.131281\n",
       "HS-grad        84.432371  15.567629\n",
       "Masters        43.756778  56.243222\n",
       "Preschool     100.000000        NaN\n",
       "Prof-school    26.783482  73.216518\n",
       "Some-college   80.327040  19.672960"
      ]
     },
     "execution_count": 49,
     "metadata": {},
     "output_type": "execute_result"
    }
   ],
   "source": [
    "pd.DataFrame((data.groupby(['EDUCATION', 'INCOME'])['FNLWGT'].agg('sum') / data.groupby('EDUCATION')['FNLWGT'].agg('sum') * 100)).rename(columns = {'FNLWGT': 'PERC'}).unstack()"
   ]
  },
  {
   "cell_type": "markdown",
   "id": "1b2601e2",
   "metadata": {},
   "source": [
    "**4. Distribution across Marital Status**\n",
    "\n",
    "**Insights:** A good proportion of Married-civ-spouse and Married-AF-spouse earn more than 50K USD. Also, there are no females in the armed forces (present in the data)"
   ]
  },
  {
   "cell_type": "code",
   "execution_count": 50,
   "id": "889b2835",
   "metadata": {},
   "outputs": [
    {
     "data": {
      "image/png": "[encoded data removed]",
      "text/plain": [
       "<Figure size 432x288 with 1 Axes>"
      ]
     },
     "metadata": {
      "needs_background": "light"
     },
     "output_type": "display_data"
    }
   ],
   "source": [
    "data.groupby(['MARITAL_STATUS', 'INCOME'])['FNLWGT'].agg('sum').unstack().plot(kind = \"bar\")\n",
    "\n",
    "plt.ticklabel_format(style = 'plain', axis = 'y')\n",
    "ax = plt.gca()\n",
    "ax.yaxis.set_major_formatter(tick.FuncFormatter(reformat_large_tick_values))"
   ]
  },
  {
   "cell_type": "code",
   "execution_count": 51,
   "id": "facf6435",
   "metadata": {},
   "outputs": [
    {
     "data": {
      "text/html": [
       "<div>\n",
       "<style scoped>\n",
       "    .dataframe tbody tr th:only-of-type {\n",
       "        vertical-align: middle;\n",
       "    }\n",
       "\n",
       "    .dataframe tbody tr th {\n",
       "        vertical-align: top;\n",
       "    }\n",
       "\n",
       "    .dataframe thead tr th {\n",
       "        text-align: left;\n",
       "    }\n",
       "\n",
       "    .dataframe thead tr:last-of-type th {\n",
       "        text-align: right;\n",
       "    }\n",
       "</style>\n",
       "<table border=\"1\" class=\"dataframe\">\n",
       "  <thead>\n",
       "    <tr>\n",
       "      <th></th>\n",
       "      <th colspan=\"2\" halign=\"left\">PERC</th>\n",
       "    </tr>\n",
       "    <tr>\n",
       "      <th>INCOME</th>\n",
       "      <th>&lt;=50K</th>\n",
       "      <th>&gt;50K</th>\n",
       "    </tr>\n",
       "    <tr>\n",
       "      <th>MARITAL_STATUS</th>\n",
       "      <th></th>\n",
       "      <th></th>\n",
       "    </tr>\n",
       "  </thead>\n",
       "  <tbody>\n",
       "    <tr>\n",
       "      <th>Divorced</th>\n",
       "      <td>89.593789</td>\n",
       "      <td>10.406211</td>\n",
       "    </tr>\n",
       "    <tr>\n",
       "      <th>Married-AF-spouse</th>\n",
       "      <td>61.548387</td>\n",
       "      <td>38.451613</td>\n",
       "    </tr>\n",
       "    <tr>\n",
       "      <th>Married-civ-spouse</th>\n",
       "      <td>55.048278</td>\n",
       "      <td>44.951722</td>\n",
       "    </tr>\n",
       "    <tr>\n",
       "      <th>Married-spouse-absent</th>\n",
       "      <td>93.293989</td>\n",
       "      <td>6.706011</td>\n",
       "    </tr>\n",
       "    <tr>\n",
       "      <th>Never-married</th>\n",
       "      <td>95.376090</td>\n",
       "      <td>4.623910</td>\n",
       "    </tr>\n",
       "    <tr>\n",
       "      <th>Separated</th>\n",
       "      <td>93.429049</td>\n",
       "      <td>6.570951</td>\n",
       "    </tr>\n",
       "    <tr>\n",
       "      <th>Widowed</th>\n",
       "      <td>92.156459</td>\n",
       "      <td>7.843541</td>\n",
       "    </tr>\n",
       "  </tbody>\n",
       "</table>\n",
       "</div>"
      ],
      "text/plain": [
       "                            PERC           \n",
       "INCOME                     <=50K       >50K\n",
       "MARITAL_STATUS                             \n",
       "Divorced               89.593789  10.406211\n",
       "Married-AF-spouse      61.548387  38.451613\n",
       "Married-civ-spouse     55.048278  44.951722\n",
       "Married-spouse-absent  93.293989   6.706011\n",
       "Never-married          95.376090   4.623910\n",
       "Separated              93.429049   6.570951\n",
       "Widowed                92.156459   7.843541"
      ]
     },
     "execution_count": 51,
     "metadata": {},
     "output_type": "execute_result"
    }
   ],
   "source": [
    "pd.DataFrame((data.groupby(['MARITAL_STATUS', 'INCOME'])['FNLWGT'].agg('sum') / data.groupby('MARITAL_STATUS')['FNLWGT'].agg('sum') * 100)).rename(columns = {'FNLWGT': 'PERC'}).unstack()"
   ]
  },
  {
   "cell_type": "markdown",
   "id": "0f653860",
   "metadata": {},
   "source": [
    "### Other checks"
   ]
  },
  {
   "cell_type": "markdown",
   "id": "19986902",
   "metadata": {},
   "source": [
    "None of the columns are highly correlated"
   ]
  },
  {
   "cell_type": "code",
   "execution_count": 54,
   "id": "c8d0c5f7",
   "metadata": {},
   "outputs": [],
   "source": [
    "corr_output = compute_correlation(data)"
   ]
  },
  {
   "cell_type": "code",
   "execution_count": 55,
   "id": "17bcef41",
   "metadata": {},
   "outputs": [
    {
     "data": {
      "image/png": "[encoded data removed]",
      "text/plain": [
       "<Figure size 1152x1152 with 2 Axes>"
      ]
     },
     "metadata": {
      "needs_background": "light"
     },
     "output_type": "display_data"
    }
   ],
   "source": [
    "fig, ax = plt.subplots(figsize=(16,16))\n",
    "sns.heatmap(corr_output, annot=True)\n",
    "plt.show()"
   ]
  },
  {
   "cell_type": "markdown",
   "id": "2b214da2",
   "metadata": {},
   "source": [
    "#### Outlier identification and treatment"
   ]
  },
  {
   "cell_type": "markdown",
   "id": "78835c09",
   "metadata": {},
   "source": [
    "Since each row in the data represents x number of people (FNLWGT column), we cannot obtain the outliers as they represent "
   ]
  },
  {
   "cell_type": "markdown",
   "id": "c6a3aa6b",
   "metadata": {},
   "source": [
    "## Data preparation"
   ]
  },
  {
   "cell_type": "markdown",
   "id": "c79e966e",
   "metadata": {},
   "source": [
    "### Splitting the data into train, validation and test"
   ]
  },
  {
   "cell_type": "code",
   "execution_count": 56,
   "id": "29e83cd4",
   "metadata": {},
   "outputs": [
    {
     "data": {
      "text/plain": [
       "Index(['AGE', 'WORKCLASS', 'FNLWGT', 'EDUCATION', 'EDUCATION_NUM',\n",
       "       'MARITAL_STATUS', 'OCCUPATION', 'RELATIONSHIP', 'RACE', 'SEX',\n",
       "       'CAPITAL_GAIN', 'CAPITAL_LOSS', 'HOURS_PER_WEEK', 'NATIVE_COUNTRY',\n",
       "       'INCOME'],\n",
       "      dtype='object')"
      ]
     },
     "execution_count": 56,
     "metadata": {},
     "output_type": "execute_result"
    }
   ],
   "source": [
    "data.columns"
   ]
  },
  {
   "cell_type": "code",
   "execution_count": 57,
   "id": "5bbbd2ee",
   "metadata": {},
   "outputs": [],
   "source": [
    "independent_col_df = data.iloc[:, : -1]\n",
    "dependent_col_df = data.iloc[:, -1]"
   ]
  },
  {
   "cell_type": "code",
   "execution_count": 58,
   "id": "7c28a53b",
   "metadata": {},
   "outputs": [
    {
     "name": "stdout",
     "output_type": "stream",
     "text": [
      "(26029, 14) (26029,)\n",
      "(6508, 14) (6508,)\n"
     ]
    }
   ],
   "source": [
    "X_train, X_test, y_train, y_test = train_test_split(independent_col_df, dependent_col_df, \n",
    "                                                    test_size = 0.2, random_state = 1)\n",
    "\n",
    "print(X_train.shape, y_train.shape)\n",
    "print(X_test.shape, y_test.shape)"
   ]
  },
  {
   "cell_type": "markdown",
   "id": "2f389aec",
   "metadata": {},
   "source": [
    "### Scaling"
   ]
  },
  {
   "cell_type": "markdown",
   "id": "708d0e4b",
   "metadata": {},
   "source": [
    "**NOTE**: Scaling of data is required as the columns 'FNLWGT' and 'HOURS_PER_WEEK' are numerical and the data present in the two columns vary a lot\n",
    "\n",
    "We will be using **Robust Scaler**. Robust Scaler is used when the data has outliers, which we know are present in our data"
   ]
  },
  {
   "cell_type": "code",
   "execution_count": 59,
   "id": "8f745bc0",
   "metadata": {},
   "outputs": [
    {
     "data": {
      "text/plain": [
       "AGE               0\n",
       "WORKCLASS         0\n",
       "FNLWGT            0\n",
       "EDUCATION         0\n",
       "EDUCATION_NUM     0\n",
       "MARITAL_STATUS    0\n",
       "OCCUPATION        0\n",
       "RELATIONSHIP      0\n",
       "RACE              0\n",
       "SEX               0\n",
       "CAPITAL_GAIN      0\n",
       "CAPITAL_LOSS      0\n",
       "HOURS_PER_WEEK    0\n",
       "NATIVE_COUNTRY    0\n",
       "dtype: int64"
      ]
     },
     "execution_count": 59,
     "metadata": {},
     "output_type": "execute_result"
    }
   ],
   "source": [
    "X_train.isna().sum()"
   ]
  },
  {
   "cell_type": "code",
   "execution_count": 60,
   "id": "f838543e",
   "metadata": {
    "scrolled": true
   },
   "outputs": [
    {
     "name": "stdout",
     "output_type": "stream",
     "text": [
      "                AGE        FNLWGT  EDUCATION_NUM  CAPITAL_GAIN  CAPITAL_LOSS  \\\n",
      "count  26029.000000  26029.000000   26029.000000  26029.000000  26029.000000   \n",
      "mean       0.079127      0.095612       0.029057   1079.256445     86.223866   \n",
      "std        0.681030      0.883525       0.858337   7403.337899    401.008060   \n",
      "min       -1.000000     -1.388437      -3.000000      0.000000      0.000000   \n",
      "25%       -0.450000     -0.506864      -0.333333      0.000000      0.000000   \n",
      "50%        0.000000      0.000000       0.000000      0.000000      0.000000   \n",
      "75%        0.550000      0.493136       0.666667      0.000000      0.000000   \n",
      "max        2.650000     10.670271       2.000000  99999.000000   4356.000000   \n",
      "\n",
      "       HOURS_PER_WEEK  \n",
      "count    26029.000000  \n",
      "mean         0.081732  \n",
      "std          2.465061  \n",
      "min         -7.800000  \n",
      "25%          0.000000  \n",
      "50%          0.000000  \n",
      "75%          1.000000  \n",
      "max         11.800000   \n",
      "\n",
      "               AGE       FNLWGT  EDUCATION_NUM  CAPITAL_GAIN  CAPITAL_LOSS  \\\n",
      "count  6508.000000  6508.000000    6508.000000   6508.000000   6508.000000   \n",
      "mean      0.079879     0.090986       0.020129   1075.193301     91.945144   \n",
      "std       0.685416     0.875987       0.852723   7326.684196    411.368892   \n",
      "min      -1.000000    -1.329804      -3.000000      0.000000      0.000000   \n",
      "25%      -0.450000    -0.505532      -0.333333      0.000000      0.000000   \n",
      "50%       0.000000    -0.004320       0.000000      0.000000      0.000000   \n",
      "75%       0.550000     0.486702       0.666667      0.000000      0.000000   \n",
      "max       2.650000    10.914846       2.000000  99999.000000   3900.000000   \n",
      "\n",
      "       HOURS_PER_WEEK  \n",
      "count     6508.000000  \n",
      "mean         0.113399  \n",
      "std          2.486599  \n",
      "min         -7.800000  \n",
      "25%          0.000000  \n",
      "50%          0.000000  \n",
      "75%          1.000000  \n",
      "max         11.800000  \n"
     ]
    }
   ],
   "source": [
    "scaler = RobustScaler()\n",
    "\n",
    "columns_list_for_scaling = ['HOURS_PER_WEEK', 'FNLWGT', 'AGE' , 'CAPITAL_GAIN', 'CAPITAL_LOSS', 'EDUCATION_NUM']\n",
    "\n",
    "X_train.loc[:, columns_list_for_scaling] = scaler.fit_transform(X_train[columns_list_for_scaling])\n",
    "\n",
    "X_test.loc[:, columns_list_for_scaling] = scaler.transform(X_test[columns_list_for_scaling])\n",
    "\n",
    "print(X_train.describe(), '\\n')\n",
    "print(X_test.describe())"
   ]
  },
  {
   "cell_type": "code",
   "execution_count": 61,
   "id": "6f220db3",
   "metadata": {},
   "outputs": [
    {
     "data": {
      "text/html": [
       "<div>\n",
       "<style scoped>\n",
       "    .dataframe tbody tr th:only-of-type {\n",
       "        vertical-align: middle;\n",
       "    }\n",
       "\n",
       "    .dataframe tbody tr th {\n",
       "        vertical-align: top;\n",
       "    }\n",
       "\n",
       "    .dataframe thead th {\n",
       "        text-align: right;\n",
       "    }\n",
       "</style>\n",
       "<table border=\"1\" class=\"dataframe\">\n",
       "  <thead>\n",
       "    <tr style=\"text-align: right;\">\n",
       "      <th></th>\n",
       "      <th>AGE</th>\n",
       "      <th>WORKCLASS</th>\n",
       "      <th>FNLWGT</th>\n",
       "      <th>EDUCATION</th>\n",
       "      <th>EDUCATION_NUM</th>\n",
       "      <th>MARITAL_STATUS</th>\n",
       "      <th>OCCUPATION</th>\n",
       "      <th>RELATIONSHIP</th>\n",
       "      <th>RACE</th>\n",
       "      <th>SEX</th>\n",
       "      <th>CAPITAL_GAIN</th>\n",
       "      <th>CAPITAL_LOSS</th>\n",
       "      <th>HOURS_PER_WEEK</th>\n",
       "      <th>NATIVE_COUNTRY</th>\n",
       "    </tr>\n",
       "  </thead>\n",
       "  <tbody>\n",
       "    <tr>\n",
       "      <th>12580</th>\n",
       "      <td>1.40</td>\n",
       "      <td>Private</td>\n",
       "      <td>-0.070498</td>\n",
       "      <td>Bachelors</td>\n",
       "      <td>1.000000</td>\n",
       "      <td>Married-civ-spouse</td>\n",
       "      <td>Adm-clerical</td>\n",
       "      <td>Husband</td>\n",
       "      <td>White</td>\n",
       "      <td>Male</td>\n",
       "      <td>0.0</td>\n",
       "      <td>0.0</td>\n",
       "      <td>-1.2</td>\n",
       "      <td>United-States</td>\n",
       "    </tr>\n",
       "    <tr>\n",
       "      <th>11850</th>\n",
       "      <td>0.25</td>\n",
       "      <td>State-gov</td>\n",
       "      <td>1.363579</td>\n",
       "      <td>Bachelors</td>\n",
       "      <td>1.000000</td>\n",
       "      <td>Married-civ-spouse</td>\n",
       "      <td>Prof-specialty</td>\n",
       "      <td>Husband</td>\n",
       "      <td>White</td>\n",
       "      <td>Male</td>\n",
       "      <td>0.0</td>\n",
       "      <td>0.0</td>\n",
       "      <td>0.0</td>\n",
       "      <td>United-States</td>\n",
       "    </tr>\n",
       "    <tr>\n",
       "      <th>9402</th>\n",
       "      <td>-0.60</td>\n",
       "      <td>Private</td>\n",
       "      <td>2.572616</td>\n",
       "      <td>HS-grad</td>\n",
       "      <td>-0.333333</td>\n",
       "      <td>Divorced</td>\n",
       "      <td>Other-service</td>\n",
       "      <td>Not-in-family</td>\n",
       "      <td>White</td>\n",
       "      <td>Male</td>\n",
       "      <td>0.0</td>\n",
       "      <td>0.0</td>\n",
       "      <td>0.0</td>\n",
       "      <td>Mexico</td>\n",
       "    </tr>\n",
       "    <tr>\n",
       "      <th>32153</th>\n",
       "      <td>1.40</td>\n",
       "      <td>Private</td>\n",
       "      <td>-0.032137</td>\n",
       "      <td>5th-6th</td>\n",
       "      <td>-2.333333</td>\n",
       "      <td>Widowed</td>\n",
       "      <td>Machine-op-inspct</td>\n",
       "      <td>Not-in-family</td>\n",
       "      <td>White</td>\n",
       "      <td>Female</td>\n",
       "      <td>0.0</td>\n",
       "      <td>0.0</td>\n",
       "      <td>-6.0</td>\n",
       "      <td>Italy</td>\n",
       "    </tr>\n",
       "    <tr>\n",
       "      <th>19725</th>\n",
       "      <td>0.05</td>\n",
       "      <td>Self-emp-not-inc</td>\n",
       "      <td>-0.270787</td>\n",
       "      <td>Bachelors</td>\n",
       "      <td>1.000000</td>\n",
       "      <td>Married-civ-spouse</td>\n",
       "      <td>Prof-specialty</td>\n",
       "      <td>Husband</td>\n",
       "      <td>Asian-Pac-Islander</td>\n",
       "      <td>Male</td>\n",
       "      <td>3103.0</td>\n",
       "      <td>0.0</td>\n",
       "      <td>4.0</td>\n",
       "      <td>United-States</td>\n",
       "    </tr>\n",
       "  </tbody>\n",
       "</table>\n",
       "</div>"
      ],
      "text/plain": [
       "        AGE         WORKCLASS    FNLWGT  EDUCATION  EDUCATION_NUM  \\\n",
       "12580  1.40           Private -0.070498  Bachelors       1.000000   \n",
       "11850  0.25         State-gov  1.363579  Bachelors       1.000000   \n",
       "9402  -0.60           Private  2.572616    HS-grad      -0.333333   \n",
       "32153  1.40           Private -0.032137    5th-6th      -2.333333   \n",
       "19725  0.05  Self-emp-not-inc -0.270787  Bachelors       1.000000   \n",
       "\n",
       "           MARITAL_STATUS         OCCUPATION   RELATIONSHIP  \\\n",
       "12580  Married-civ-spouse       Adm-clerical        Husband   \n",
       "11850  Married-civ-spouse     Prof-specialty        Husband   \n",
       "9402             Divorced      Other-service  Not-in-family   \n",
       "32153             Widowed  Machine-op-inspct  Not-in-family   \n",
       "19725  Married-civ-spouse     Prof-specialty        Husband   \n",
       "\n",
       "                     RACE     SEX  CAPITAL_GAIN  CAPITAL_LOSS  HOURS_PER_WEEK  \\\n",
       "12580               White    Male           0.0           0.0            -1.2   \n",
       "11850               White    Male           0.0           0.0             0.0   \n",
       "9402                White    Male           0.0           0.0             0.0   \n",
       "32153               White  Female           0.0           0.0            -6.0   \n",
       "19725  Asian-Pac-Islander    Male        3103.0           0.0             4.0   \n",
       "\n",
       "      NATIVE_COUNTRY  \n",
       "12580  United-States  \n",
       "11850  United-States  \n",
       "9402          Mexico  \n",
       "32153          Italy  \n",
       "19725  United-States  "
      ]
     },
     "execution_count": 61,
     "metadata": {},
     "output_type": "execute_result"
    }
   ],
   "source": [
    "X_test.head()"
   ]
  },
  {
   "cell_type": "code",
   "execution_count": 62,
   "id": "1cd53fbf",
   "metadata": {},
   "outputs": [
    {
     "data": {
      "text/plain": [
       "AGE               0\n",
       "WORKCLASS         0\n",
       "FNLWGT            0\n",
       "EDUCATION         0\n",
       "EDUCATION_NUM     0\n",
       "MARITAL_STATUS    0\n",
       "OCCUPATION        0\n",
       "RELATIONSHIP      0\n",
       "RACE              0\n",
       "SEX               0\n",
       "CAPITAL_GAIN      0\n",
       "CAPITAL_LOSS      0\n",
       "HOURS_PER_WEEK    0\n",
       "NATIVE_COUNTRY    0\n",
       "dtype: int64"
      ]
     },
     "execution_count": 62,
     "metadata": {},
     "output_type": "execute_result"
    }
   ],
   "source": [
    "X_test.isna().sum()"
   ]
  },
  {
   "cell_type": "code",
   "execution_count": 63,
   "id": "a7773368",
   "metadata": {},
   "outputs": [
    {
     "data": {
      "text/plain": [
       "(26029, 14)"
      ]
     },
     "execution_count": 63,
     "metadata": {},
     "output_type": "execute_result"
    }
   ],
   "source": [
    "X_train.shape"
   ]
  },
  {
   "cell_type": "code",
   "execution_count": 64,
   "id": "7ebbd05c",
   "metadata": {},
   "outputs": [
    {
     "data": {
      "image/png": "[encoded data removed]",
      "text/plain": [
       "<Figure size 576x360 with 1 Axes>"
      ]
     },
     "metadata": {
      "needs_background": "light"
     },
     "output_type": "display_data"
    }
   ],
   "source": [
    "bin_values = np.arange(start = -8, stop = 12, step = 1)\n",
    "X_train['HOURS_PER_WEEK'].hist(bins = bin_values, figsize = [8, 5])\n",
    "\n",
    "ax = plt.gca()\n",
    "ax.xaxis.set_major_formatter(tick.FuncFormatter(reformat_large_tick_values))"
   ]
  },
  {
   "cell_type": "code",
   "execution_count": 65,
   "id": "dacf550f",
   "metadata": {},
   "outputs": [
    {
     "data": {
      "image/png": "[encoded data removed]",
      "text/plain": [
       "<Figure size 576x360 with 1 Axes>"
      ]
     },
     "metadata": {
      "needs_background": "light"
     },
     "output_type": "display_data"
    }
   ],
   "source": [
    "bin_values = np.arange(start = -2, stop = 11, step = 1)\n",
    "X_train['FNLWGT'].hist(bins = bin_values, figsize = [8, 5])\n",
    "\n",
    "ax = plt.gca()\n",
    "ax.xaxis.set_major_formatter(tick.FuncFormatter(reformat_large_tick_values))"
   ]
  },
  {
   "cell_type": "code",
   "execution_count": 66,
   "id": "d16641ab",
   "metadata": {},
   "outputs": [
    {
     "data": {
      "image/png": "[encoded data removed]",
      "text/plain": [
       "<Figure size 576x360 with 1 Axes>"
      ]
     },
     "metadata": {
      "needs_background": "light"
     },
     "output_type": "display_data"
    }
   ],
   "source": [
    "bin_values = np.arange(start = -2, stop = 5, step = 1)\n",
    "X_train['AGE'].hist(bins = bin_values, figsize = [8, 5])\n",
    "\n",
    "ax = plt.gca()\n",
    "ax.xaxis.set_major_formatter(tick.FuncFormatter(reformat_large_tick_values))"
   ]
  },
  {
   "cell_type": "code",
   "execution_count": 67,
   "id": "c60644f1",
   "metadata": {},
   "outputs": [
    {
     "data": {
      "image/png": "[encoded data removed]",
      "text/plain": [
       "<Figure size 576x360 with 1 Axes>"
      ]
     },
     "metadata": {
      "needs_background": "light"
     },
     "output_type": "display_data"
    }
   ],
   "source": [
    "bin_values = np.arange(start = -1, stop = 3, step = 1)\n",
    "X_train['CAPITAL_GAIN'].hist(bins = bin_values, figsize = [8, 5])\n",
    "\n",
    "ax = plt.gca()\n",
    "ax.xaxis.set_major_formatter(tick.FuncFormatter(reformat_large_tick_values))"
   ]
  },
  {
   "cell_type": "code",
   "execution_count": 68,
   "id": "8bea6d4e",
   "metadata": {},
   "outputs": [
    {
     "data": {
      "image/png": "[encoded data removed]",
      "text/plain": [
       "<Figure size 576x360 with 1 Axes>"
      ]
     },
     "metadata": {
      "needs_background": "light"
     },
     "output_type": "display_data"
    }
   ],
   "source": [
    "bin_values = np.arange(start = -1, stop = 3, step = 1)\n",
    "X_train['CAPITAL_LOSS'].hist(bins = bin_values, figsize = [8, 5])\n",
    "\n",
    "ax = plt.gca()\n",
    "ax.xaxis.set_major_formatter(tick.FuncFormatter(reformat_large_tick_values))"
   ]
  },
  {
   "cell_type": "code",
   "execution_count": 69,
   "id": "042d5b1d",
   "metadata": {},
   "outputs": [
    {
     "data": {
      "image/png": "[encoded data removed]",
      "text/plain": [
       "<Figure size 576x360 with 1 Axes>"
      ]
     },
     "metadata": {
      "needs_background": "light"
     },
     "output_type": "display_data"
    }
   ],
   "source": [
    "bin_values = np.arange(start = -4, stop = 5, step = 1)\n",
    "X_train['EDUCATION_NUM'].hist(bins = bin_values, figsize = [8, 5])\n",
    "\n",
    "ax = plt.gca()\n",
    "ax.xaxis.set_major_formatter(tick.FuncFormatter(reformat_large_tick_values))"
   ]
  },
  {
   "cell_type": "markdown",
   "id": "2eefc2a4",
   "metadata": {},
   "source": [
    "### Encoding of categorical variables"
   ]
  },
  {
   "cell_type": "code",
   "execution_count": 70,
   "id": "ad983181",
   "metadata": {},
   "outputs": [
    {
     "data": {
      "text/html": [
       "<div>\n",
       "<style scoped>\n",
       "    .dataframe tbody tr th:only-of-type {\n",
       "        vertical-align: middle;\n",
       "    }\n",
       "\n",
       "    .dataframe tbody tr th {\n",
       "        vertical-align: top;\n",
       "    }\n",
       "\n",
       "    .dataframe thead th {\n",
       "        text-align: right;\n",
       "    }\n",
       "</style>\n",
       "<table border=\"1\" class=\"dataframe\">\n",
       "  <thead>\n",
       "    <tr style=\"text-align: right;\">\n",
       "      <th></th>\n",
       "      <th>AGE</th>\n",
       "      <th>WORKCLASS</th>\n",
       "      <th>FNLWGT</th>\n",
       "      <th>EDUCATION</th>\n",
       "      <th>EDUCATION_NUM</th>\n",
       "      <th>MARITAL_STATUS</th>\n",
       "      <th>OCCUPATION</th>\n",
       "      <th>RELATIONSHIP</th>\n",
       "      <th>RACE</th>\n",
       "      <th>SEX</th>\n",
       "      <th>CAPITAL_GAIN</th>\n",
       "      <th>CAPITAL_LOSS</th>\n",
       "      <th>HOURS_PER_WEEK</th>\n",
       "      <th>NATIVE_COUNTRY</th>\n",
       "    </tr>\n",
       "  </thead>\n",
       "  <tbody>\n",
       "    <tr>\n",
       "      <th>5792</th>\n",
       "      <td>0.40</td>\n",
       "      <td>Self-emp-inc</td>\n",
       "      <td>-0.063320</td>\n",
       "      <td>HS-grad</td>\n",
       "      <td>-0.333333</td>\n",
       "      <td>Married-civ-spouse</td>\n",
       "      <td>Exec-managerial</td>\n",
       "      <td>Husband</td>\n",
       "      <td>White</td>\n",
       "      <td>Male</td>\n",
       "      <td>15024.0</td>\n",
       "      <td>0.0</td>\n",
       "      <td>3.0</td>\n",
       "      <td>United-States</td>\n",
       "    </tr>\n",
       "    <tr>\n",
       "      <th>2815</th>\n",
       "      <td>0.65</td>\n",
       "      <td>Private</td>\n",
       "      <td>0.495383</td>\n",
       "      <td>5th-6th</td>\n",
       "      <td>-2.333333</td>\n",
       "      <td>Married-civ-spouse</td>\n",
       "      <td>Transport-moving</td>\n",
       "      <td>Husband</td>\n",
       "      <td>White</td>\n",
       "      <td>Male</td>\n",
       "      <td>0.0</td>\n",
       "      <td>0.0</td>\n",
       "      <td>-0.6</td>\n",
       "      <td>Mexico</td>\n",
       "    </tr>\n",
       "    <tr>\n",
       "      <th>12682</th>\n",
       "      <td>-0.90</td>\n",
       "      <td>Private</td>\n",
       "      <td>1.492434</td>\n",
       "      <td>HS-grad</td>\n",
       "      <td>-0.333333</td>\n",
       "      <td>Never-married</td>\n",
       "      <td>Adm-clerical</td>\n",
       "      <td>Own-child</td>\n",
       "      <td>White</td>\n",
       "      <td>Female</td>\n",
       "      <td>0.0</td>\n",
       "      <td>0.0</td>\n",
       "      <td>-1.0</td>\n",
       "      <td>United-States</td>\n",
       "    </tr>\n",
       "    <tr>\n",
       "      <th>32124</th>\n",
       "      <td>-0.80</td>\n",
       "      <td>Private</td>\n",
       "      <td>-0.495442</td>\n",
       "      <td>HS-grad</td>\n",
       "      <td>-0.333333</td>\n",
       "      <td>Never-married</td>\n",
       "      <td>Craft-repair</td>\n",
       "      <td>Own-child</td>\n",
       "      <td>White</td>\n",
       "      <td>Male</td>\n",
       "      <td>0.0</td>\n",
       "      <td>0.0</td>\n",
       "      <td>0.0</td>\n",
       "      <td>United-States</td>\n",
       "    </tr>\n",
       "    <tr>\n",
       "      <th>15791</th>\n",
       "      <td>0.10</td>\n",
       "      <td>Private</td>\n",
       "      <td>1.132699</td>\n",
       "      <td>Assoc-voc</td>\n",
       "      <td>0.333333</td>\n",
       "      <td>Married-civ-spouse</td>\n",
       "      <td>Tech-support</td>\n",
       "      <td>Husband</td>\n",
       "      <td>White</td>\n",
       "      <td>Male</td>\n",
       "      <td>0.0</td>\n",
       "      <td>0.0</td>\n",
       "      <td>0.0</td>\n",
       "      <td>United-States</td>\n",
       "    </tr>\n",
       "  </tbody>\n",
       "</table>\n",
       "</div>"
      ],
      "text/plain": [
       "        AGE     WORKCLASS    FNLWGT  EDUCATION  EDUCATION_NUM  \\\n",
       "5792   0.40  Self-emp-inc -0.063320    HS-grad      -0.333333   \n",
       "2815   0.65       Private  0.495383    5th-6th      -2.333333   \n",
       "12682 -0.90       Private  1.492434    HS-grad      -0.333333   \n",
       "32124 -0.80       Private -0.495442    HS-grad      -0.333333   \n",
       "15791  0.10       Private  1.132699  Assoc-voc       0.333333   \n",
       "\n",
       "           MARITAL_STATUS        OCCUPATION RELATIONSHIP   RACE     SEX  \\\n",
       "5792   Married-civ-spouse   Exec-managerial      Husband  White    Male   \n",
       "2815   Married-civ-spouse  Transport-moving      Husband  White    Male   \n",
       "12682       Never-married      Adm-clerical    Own-child  White  Female   \n",
       "32124       Never-married      Craft-repair    Own-child  White    Male   \n",
       "15791  Married-civ-spouse      Tech-support      Husband  White    Male   \n",
       "\n",
       "       CAPITAL_GAIN  CAPITAL_LOSS  HOURS_PER_WEEK NATIVE_COUNTRY  \n",
       "5792        15024.0           0.0             3.0  United-States  \n",
       "2815            0.0           0.0            -0.6         Mexico  \n",
       "12682           0.0           0.0            -1.0  United-States  \n",
       "32124           0.0           0.0             0.0  United-States  \n",
       "15791           0.0           0.0             0.0  United-States  "
      ]
     },
     "execution_count": 70,
     "metadata": {},
     "output_type": "execute_result"
    }
   ],
   "source": [
    "X_train.head()"
   ]
  },
  {
   "cell_type": "markdown",
   "id": "c4cf4a39",
   "metadata": {},
   "source": [
    "NOTE 1: The column EDUCATION_NUM is ordinal encoding of the column EDUCAION, which was already presernt in the data. Hence, we will drop CDUCATION columns from the data\n",
    "\n",
    "NOTE 2: We will do Binary encoding as the number of categories in our categorical columns will increase the number of columns drastically. Binary encoding uses binary representation and required log(base 2)^n columns as compared to the number of resultant columns in one hot encoding"
   ]
  },
  {
   "cell_type": "code",
   "execution_count": 71,
   "id": "3c272589",
   "metadata": {},
   "outputs": [],
   "source": [
    "X_train.drop(columns = ['EDUCATION'], inplace = True)\n",
    "X_test.drop(columns = ['EDUCATION'], inplace = True)"
   ]
  },
  {
   "cell_type": "code",
   "execution_count": 72,
   "id": "d89504a7",
   "metadata": {},
   "outputs": [],
   "source": [
    "columns_list_for_encoding = ['WORKCLASS', 'MARITAL_STATUS', 'OCCUPATION', 'RELATIONSHIP', 'RACE', 'SEX', 'NATIVE_COUNTRY']\n",
    "\n",
    "encoder = ce.BinaryEncoder(cols = columns_list_for_encoding)"
   ]
  },
  {
   "cell_type": "code",
   "execution_count": 73,
   "id": "624bd299",
   "metadata": {},
   "outputs": [],
   "source": [
    "encoded_df = encoder.fit_transform(X_train[columns_list_for_encoding])\n",
    "X_train = pd.concat([X_train, encoded_df], axis = 1)"
   ]
  },
  {
   "cell_type": "code",
   "execution_count": 74,
   "id": "fcb6c164",
   "metadata": {},
   "outputs": [
    {
     "data": {
      "text/html": [
       "<div>\n",
       "<style scoped>\n",
       "    .dataframe tbody tr th:only-of-type {\n",
       "        vertical-align: middle;\n",
       "    }\n",
       "\n",
       "    .dataframe tbody tr th {\n",
       "        vertical-align: top;\n",
       "    }\n",
       "\n",
       "    .dataframe thead th {\n",
       "        text-align: right;\n",
       "    }\n",
       "</style>\n",
       "<table border=\"1\" class=\"dataframe\">\n",
       "  <thead>\n",
       "    <tr style=\"text-align: right;\">\n",
       "      <th></th>\n",
       "      <th>AGE</th>\n",
       "      <th>WORKCLASS</th>\n",
       "      <th>FNLWGT</th>\n",
       "      <th>EDUCATION_NUM</th>\n",
       "      <th>MARITAL_STATUS</th>\n",
       "      <th>OCCUPATION</th>\n",
       "      <th>RELATIONSHIP</th>\n",
       "      <th>RACE</th>\n",
       "      <th>SEX</th>\n",
       "      <th>CAPITAL_GAIN</th>\n",
       "      <th>...</th>\n",
       "      <th>RACE_3</th>\n",
       "      <th>SEX_0</th>\n",
       "      <th>SEX_1</th>\n",
       "      <th>NATIVE_COUNTRY_0</th>\n",
       "      <th>NATIVE_COUNTRY_1</th>\n",
       "      <th>NATIVE_COUNTRY_2</th>\n",
       "      <th>NATIVE_COUNTRY_3</th>\n",
       "      <th>NATIVE_COUNTRY_4</th>\n",
       "      <th>NATIVE_COUNTRY_5</th>\n",
       "      <th>NATIVE_COUNTRY_6</th>\n",
       "    </tr>\n",
       "  </thead>\n",
       "  <tbody>\n",
       "    <tr>\n",
       "      <th>5792</th>\n",
       "      <td>0.40</td>\n",
       "      <td>Self-emp-inc</td>\n",
       "      <td>-0.063320</td>\n",
       "      <td>-0.333333</td>\n",
       "      <td>Married-civ-spouse</td>\n",
       "      <td>Exec-managerial</td>\n",
       "      <td>Husband</td>\n",
       "      <td>White</td>\n",
       "      <td>Male</td>\n",
       "      <td>15024.0</td>\n",
       "      <td>...</td>\n",
       "      <td>1</td>\n",
       "      <td>0</td>\n",
       "      <td>1</td>\n",
       "      <td>0</td>\n",
       "      <td>0</td>\n",
       "      <td>0</td>\n",
       "      <td>0</td>\n",
       "      <td>0</td>\n",
       "      <td>0</td>\n",
       "      <td>1</td>\n",
       "    </tr>\n",
       "    <tr>\n",
       "      <th>2815</th>\n",
       "      <td>0.65</td>\n",
       "      <td>Private</td>\n",
       "      <td>0.495383</td>\n",
       "      <td>-2.333333</td>\n",
       "      <td>Married-civ-spouse</td>\n",
       "      <td>Transport-moving</td>\n",
       "      <td>Husband</td>\n",
       "      <td>White</td>\n",
       "      <td>Male</td>\n",
       "      <td>0.0</td>\n",
       "      <td>...</td>\n",
       "      <td>1</td>\n",
       "      <td>0</td>\n",
       "      <td>1</td>\n",
       "      <td>0</td>\n",
       "      <td>0</td>\n",
       "      <td>0</td>\n",
       "      <td>0</td>\n",
       "      <td>0</td>\n",
       "      <td>1</td>\n",
       "      <td>0</td>\n",
       "    </tr>\n",
       "    <tr>\n",
       "      <th>12682</th>\n",
       "      <td>-0.90</td>\n",
       "      <td>Private</td>\n",
       "      <td>1.492434</td>\n",
       "      <td>-0.333333</td>\n",
       "      <td>Never-married</td>\n",
       "      <td>Adm-clerical</td>\n",
       "      <td>Own-child</td>\n",
       "      <td>White</td>\n",
       "      <td>Female</td>\n",
       "      <td>0.0</td>\n",
       "      <td>...</td>\n",
       "      <td>1</td>\n",
       "      <td>1</td>\n",
       "      <td>0</td>\n",
       "      <td>0</td>\n",
       "      <td>0</td>\n",
       "      <td>0</td>\n",
       "      <td>0</td>\n",
       "      <td>0</td>\n",
       "      <td>0</td>\n",
       "      <td>1</td>\n",
       "    </tr>\n",
       "    <tr>\n",
       "      <th>32124</th>\n",
       "      <td>-0.80</td>\n",
       "      <td>Private</td>\n",
       "      <td>-0.495442</td>\n",
       "      <td>-0.333333</td>\n",
       "      <td>Never-married</td>\n",
       "      <td>Craft-repair</td>\n",
       "      <td>Own-child</td>\n",
       "      <td>White</td>\n",
       "      <td>Male</td>\n",
       "      <td>0.0</td>\n",
       "      <td>...</td>\n",
       "      <td>1</td>\n",
       "      <td>0</td>\n",
       "      <td>1</td>\n",
       "      <td>0</td>\n",
       "      <td>0</td>\n",
       "      <td>0</td>\n",
       "      <td>0</td>\n",
       "      <td>0</td>\n",
       "      <td>0</td>\n",
       "      <td>1</td>\n",
       "    </tr>\n",
       "    <tr>\n",
       "      <th>15791</th>\n",
       "      <td>0.10</td>\n",
       "      <td>Private</td>\n",
       "      <td>1.132699</td>\n",
       "      <td>0.333333</td>\n",
       "      <td>Married-civ-spouse</td>\n",
       "      <td>Tech-support</td>\n",
       "      <td>Husband</td>\n",
       "      <td>White</td>\n",
       "      <td>Male</td>\n",
       "      <td>0.0</td>\n",
       "      <td>...</td>\n",
       "      <td>1</td>\n",
       "      <td>0</td>\n",
       "      <td>1</td>\n",
       "      <td>0</td>\n",
       "      <td>0</td>\n",
       "      <td>0</td>\n",
       "      <td>0</td>\n",
       "      <td>0</td>\n",
       "      <td>0</td>\n",
       "      <td>1</td>\n",
       "    </tr>\n",
       "  </tbody>\n",
       "</table>\n",
       "<p>5 rows × 44 columns</p>\n",
       "</div>"
      ],
      "text/plain": [
       "        AGE     WORKCLASS    FNLWGT  EDUCATION_NUM      MARITAL_STATUS  \\\n",
       "5792   0.40  Self-emp-inc -0.063320      -0.333333  Married-civ-spouse   \n",
       "2815   0.65       Private  0.495383      -2.333333  Married-civ-spouse   \n",
       "12682 -0.90       Private  1.492434      -0.333333       Never-married   \n",
       "32124 -0.80       Private -0.495442      -0.333333       Never-married   \n",
       "15791  0.10       Private  1.132699       0.333333  Married-civ-spouse   \n",
       "\n",
       "             OCCUPATION RELATIONSHIP   RACE     SEX  CAPITAL_GAIN  ...  \\\n",
       "5792    Exec-managerial      Husband  White    Male       15024.0  ...   \n",
       "2815   Transport-moving      Husband  White    Male           0.0  ...   \n",
       "12682      Adm-clerical    Own-child  White  Female           0.0  ...   \n",
       "32124      Craft-repair    Own-child  White    Male           0.0  ...   \n",
       "15791      Tech-support      Husband  White    Male           0.0  ...   \n",
       "\n",
       "       RACE_3  SEX_0 SEX_1  NATIVE_COUNTRY_0  NATIVE_COUNTRY_1  \\\n",
       "5792        1      0     1                 0                 0   \n",
       "2815        1      0     1                 0                 0   \n",
       "12682       1      1     0                 0                 0   \n",
       "32124       1      0     1                 0                 0   \n",
       "15791       1      0     1                 0                 0   \n",
       "\n",
       "       NATIVE_COUNTRY_2  NATIVE_COUNTRY_3  NATIVE_COUNTRY_4  NATIVE_COUNTRY_5  \\\n",
       "5792                  0                 0                 0                 0   \n",
       "2815                  0                 0                 0                 1   \n",
       "12682                 0                 0                 0                 0   \n",
       "32124                 0                 0                 0                 0   \n",
       "15791                 0                 0                 0                 0   \n",
       "\n",
       "       NATIVE_COUNTRY_6  \n",
       "5792                  1  \n",
       "2815                  0  \n",
       "12682                 1  \n",
       "32124                 1  \n",
       "15791                 1  \n",
       "\n",
       "[5 rows x 44 columns]"
      ]
     },
     "execution_count": 74,
     "metadata": {},
     "output_type": "execute_result"
    }
   ],
   "source": [
    "X_train.head()"
   ]
  },
  {
   "cell_type": "markdown",
   "id": "6b3916f7",
   "metadata": {},
   "source": [
    "**Note:** Instead of getting 40+ columns for countries, using Binary Ec=ncoding we got 6 new columns instead"
   ]
  },
  {
   "cell_type": "code",
   "execution_count": 75,
   "id": "56ed6bfc",
   "metadata": {},
   "outputs": [],
   "source": [
    "test_encoded_df = encoder.transform(X_test[columns_list_for_encoding])"
   ]
  },
  {
   "cell_type": "code",
   "execution_count": 76,
   "id": "5cc78256",
   "metadata": {},
   "outputs": [],
   "source": [
    "X_test = pd.concat([X_test, test_encoded_df], axis = 1)"
   ]
  },
  {
   "cell_type": "code",
   "execution_count": 77,
   "id": "e3af8f46",
   "metadata": {
    "scrolled": true
   },
   "outputs": [
    {
     "data": {
      "text/plain": [
       "AGE                 0\n",
       "WORKCLASS           0\n",
       "FNLWGT              0\n",
       "EDUCATION_NUM       0\n",
       "MARITAL_STATUS      0\n",
       "OCCUPATION          0\n",
       "RELATIONSHIP        0\n",
       "RACE                0\n",
       "SEX                 0\n",
       "CAPITAL_GAIN        0\n",
       "CAPITAL_LOSS        0\n",
       "HOURS_PER_WEEK      0\n",
       "NATIVE_COUNTRY      0\n",
       "WORKCLASS_0         0\n",
       "WORKCLASS_1         0\n",
       "WORKCLASS_2         0\n",
       "WORKCLASS_3         0\n",
       "WORKCLASS_4         0\n",
       "MARITAL_STATUS_0    0\n",
       "MARITAL_STATUS_1    0\n",
       "MARITAL_STATUS_2    0\n",
       "MARITAL_STATUS_3    0\n",
       "OCCUPATION_0        0\n",
       "OCCUPATION_1        0\n",
       "OCCUPATION_2        0\n",
       "OCCUPATION_3        0\n",
       "OCCUPATION_4        0\n",
       "RELATIONSHIP_0      0\n",
       "RELATIONSHIP_1      0\n",
       "RELATIONSHIP_2      0\n",
       "RELATIONSHIP_3      0\n",
       "RACE_0              0\n",
       "RACE_1              0\n",
       "RACE_2              0\n",
       "RACE_3              0\n",
       "SEX_0               0\n",
       "SEX_1               0\n",
       "NATIVE_COUNTRY_0    0\n",
       "NATIVE_COUNTRY_1    0\n",
       "NATIVE_COUNTRY_2    0\n",
       "NATIVE_COUNTRY_3    0\n",
       "NATIVE_COUNTRY_4    0\n",
       "NATIVE_COUNTRY_5    0\n",
       "NATIVE_COUNTRY_6    0\n",
       "dtype: int64"
      ]
     },
     "execution_count": 77,
     "metadata": {},
     "output_type": "execute_result"
    }
   ],
   "source": [
    "X_test.isna().sum()"
   ]
  },
  {
   "cell_type": "code",
   "execution_count": 84,
   "id": "6666b5fc",
   "metadata": {},
   "outputs": [
    {
     "data": {
      "text/html": [
       "<div>\n",
       "<style scoped>\n",
       "    .dataframe tbody tr th:only-of-type {\n",
       "        vertical-align: middle;\n",
       "    }\n",
       "\n",
       "    .dataframe tbody tr th {\n",
       "        vertical-align: top;\n",
       "    }\n",
       "\n",
       "    .dataframe thead th {\n",
       "        text-align: right;\n",
       "    }\n",
       "</style>\n",
       "<table border=\"1\" class=\"dataframe\">\n",
       "  <thead>\n",
       "    <tr style=\"text-align: right;\">\n",
       "      <th></th>\n",
       "      <th>AGE</th>\n",
       "      <th>FNLWGT</th>\n",
       "      <th>EDUCATION_NUM</th>\n",
       "      <th>CAPITAL_GAIN</th>\n",
       "      <th>CAPITAL_LOSS</th>\n",
       "      <th>HOURS_PER_WEEK</th>\n",
       "      <th>WORKCLASS_0</th>\n",
       "      <th>WORKCLASS_1</th>\n",
       "      <th>WORKCLASS_2</th>\n",
       "      <th>WORKCLASS_3</th>\n",
       "      <th>...</th>\n",
       "      <th>RACE_3</th>\n",
       "      <th>SEX_0</th>\n",
       "      <th>SEX_1</th>\n",
       "      <th>NATIVE_COUNTRY_0</th>\n",
       "      <th>NATIVE_COUNTRY_1</th>\n",
       "      <th>NATIVE_COUNTRY_2</th>\n",
       "      <th>NATIVE_COUNTRY_3</th>\n",
       "      <th>NATIVE_COUNTRY_4</th>\n",
       "      <th>NATIVE_COUNTRY_5</th>\n",
       "      <th>NATIVE_COUNTRY_6</th>\n",
       "    </tr>\n",
       "  </thead>\n",
       "  <tbody>\n",
       "    <tr>\n",
       "      <th>12580</th>\n",
       "      <td>1.40</td>\n",
       "      <td>-0.070498</td>\n",
       "      <td>1.000000</td>\n",
       "      <td>0.0</td>\n",
       "      <td>0.0</td>\n",
       "      <td>-1.2</td>\n",
       "      <td>0</td>\n",
       "      <td>0</td>\n",
       "      <td>0</td>\n",
       "      <td>1</td>\n",
       "      <td>...</td>\n",
       "      <td>1</td>\n",
       "      <td>0</td>\n",
       "      <td>1</td>\n",
       "      <td>0</td>\n",
       "      <td>0</td>\n",
       "      <td>0</td>\n",
       "      <td>0</td>\n",
       "      <td>0</td>\n",
       "      <td>0</td>\n",
       "      <td>1</td>\n",
       "    </tr>\n",
       "    <tr>\n",
       "      <th>11850</th>\n",
       "      <td>0.25</td>\n",
       "      <td>1.363579</td>\n",
       "      <td>1.000000</td>\n",
       "      <td>0.0</td>\n",
       "      <td>0.0</td>\n",
       "      <td>0.0</td>\n",
       "      <td>0</td>\n",
       "      <td>0</td>\n",
       "      <td>1</td>\n",
       "      <td>1</td>\n",
       "      <td>...</td>\n",
       "      <td>1</td>\n",
       "      <td>0</td>\n",
       "      <td>1</td>\n",
       "      <td>0</td>\n",
       "      <td>0</td>\n",
       "      <td>0</td>\n",
       "      <td>0</td>\n",
       "      <td>0</td>\n",
       "      <td>0</td>\n",
       "      <td>1</td>\n",
       "    </tr>\n",
       "    <tr>\n",
       "      <th>9402</th>\n",
       "      <td>-0.60</td>\n",
       "      <td>2.572616</td>\n",
       "      <td>-0.333333</td>\n",
       "      <td>0.0</td>\n",
       "      <td>0.0</td>\n",
       "      <td>0.0</td>\n",
       "      <td>0</td>\n",
       "      <td>0</td>\n",
       "      <td>0</td>\n",
       "      <td>1</td>\n",
       "      <td>...</td>\n",
       "      <td>1</td>\n",
       "      <td>0</td>\n",
       "      <td>1</td>\n",
       "      <td>0</td>\n",
       "      <td>0</td>\n",
       "      <td>0</td>\n",
       "      <td>0</td>\n",
       "      <td>0</td>\n",
       "      <td>1</td>\n",
       "      <td>0</td>\n",
       "    </tr>\n",
       "    <tr>\n",
       "      <th>32153</th>\n",
       "      <td>1.40</td>\n",
       "      <td>-0.032137</td>\n",
       "      <td>-2.333333</td>\n",
       "      <td>0.0</td>\n",
       "      <td>0.0</td>\n",
       "      <td>-6.0</td>\n",
       "      <td>0</td>\n",
       "      <td>0</td>\n",
       "      <td>0</td>\n",
       "      <td>1</td>\n",
       "      <td>...</td>\n",
       "      <td>1</td>\n",
       "      <td>1</td>\n",
       "      <td>0</td>\n",
       "      <td>0</td>\n",
       "      <td>0</td>\n",
       "      <td>1</td>\n",
       "      <td>1</td>\n",
       "      <td>1</td>\n",
       "      <td>1</td>\n",
       "      <td>0</td>\n",
       "    </tr>\n",
       "    <tr>\n",
       "      <th>19725</th>\n",
       "      <td>0.05</td>\n",
       "      <td>-0.270787</td>\n",
       "      <td>1.000000</td>\n",
       "      <td>3103.0</td>\n",
       "      <td>0.0</td>\n",
       "      <td>4.0</td>\n",
       "      <td>0</td>\n",
       "      <td>0</td>\n",
       "      <td>1</td>\n",
       "      <td>0</td>\n",
       "      <td>...</td>\n",
       "      <td>1</td>\n",
       "      <td>0</td>\n",
       "      <td>1</td>\n",
       "      <td>0</td>\n",
       "      <td>0</td>\n",
       "      <td>0</td>\n",
       "      <td>0</td>\n",
       "      <td>0</td>\n",
       "      <td>0</td>\n",
       "      <td>1</td>\n",
       "    </tr>\n",
       "  </tbody>\n",
       "</table>\n",
       "<p>5 rows × 37 columns</p>\n",
       "</div>"
      ],
      "text/plain": [
       "        AGE    FNLWGT  EDUCATION_NUM  CAPITAL_GAIN  CAPITAL_LOSS  \\\n",
       "12580  1.40 -0.070498       1.000000           0.0           0.0   \n",
       "11850  0.25  1.363579       1.000000           0.0           0.0   \n",
       "9402  -0.60  2.572616      -0.333333           0.0           0.0   \n",
       "32153  1.40 -0.032137      -2.333333           0.0           0.0   \n",
       "19725  0.05 -0.270787       1.000000        3103.0           0.0   \n",
       "\n",
       "       HOURS_PER_WEEK  WORKCLASS_0  WORKCLASS_1  WORKCLASS_2  WORKCLASS_3  \\\n",
       "12580            -1.2            0            0            0            1   \n",
       "11850             0.0            0            0            1            1   \n",
       "9402              0.0            0            0            0            1   \n",
       "32153            -6.0            0            0            0            1   \n",
       "19725             4.0            0            0            1            0   \n",
       "\n",
       "       ...  RACE_3  SEX_0  SEX_1  NATIVE_COUNTRY_0  NATIVE_COUNTRY_1  \\\n",
       "12580  ...       1      0      1                 0                 0   \n",
       "11850  ...       1      0      1                 0                 0   \n",
       "9402   ...       1      0      1                 0                 0   \n",
       "32153  ...       1      1      0                 0                 0   \n",
       "19725  ...       1      0      1                 0                 0   \n",
       "\n",
       "       NATIVE_COUNTRY_2  NATIVE_COUNTRY_3  NATIVE_COUNTRY_4  NATIVE_COUNTRY_5  \\\n",
       "12580                 0                 0                 0                 0   \n",
       "11850                 0                 0                 0                 0   \n",
       "9402                  0                 0                 0                 1   \n",
       "32153                 1                 1                 1                 1   \n",
       "19725                 0                 0                 0                 0   \n",
       "\n",
       "       NATIVE_COUNTRY_6  \n",
       "12580                 1  \n",
       "11850                 1  \n",
       "9402                  0  \n",
       "32153                 0  \n",
       "19725                 1  \n",
       "\n",
       "[5 rows x 37 columns]"
      ]
     },
     "execution_count": 84,
     "metadata": {},
     "output_type": "execute_result"
    }
   ],
   "source": [
    "X_test.head()"
   ]
  },
  {
   "cell_type": "markdown",
   "id": "ea6de16a",
   "metadata": {},
   "source": [
    "Dropping raw categorical columns from the dataset"
   ]
  },
  {
   "cell_type": "code",
   "execution_count": 78,
   "id": "7951d391",
   "metadata": {},
   "outputs": [],
   "source": [
    "X_train.drop(columns = ['WORKCLASS', 'MARITAL_STATUS', 'OCCUPATION', 'RELATIONSHIP', 'RACE', 'SEX', 'NATIVE_COUNTRY'], \n",
    "          inplace = True)\n",
    "\n",
    "X_test.drop(columns = ['WORKCLASS', 'MARITAL_STATUS', 'OCCUPATION', 'RELATIONSHIP', 'RACE', 'SEX', 'NATIVE_COUNTRY'], \n",
    "          inplace = True)"
   ]
  },
  {
   "cell_type": "code",
   "execution_count": 79,
   "id": "f3a3be4a",
   "metadata": {},
   "outputs": [
    {
     "data": {
      "text/html": [
       "<div>\n",
       "<style scoped>\n",
       "    .dataframe tbody tr th:only-of-type {\n",
       "        vertical-align: middle;\n",
       "    }\n",
       "\n",
       "    .dataframe tbody tr th {\n",
       "        vertical-align: top;\n",
       "    }\n",
       "\n",
       "    .dataframe thead th {\n",
       "        text-align: right;\n",
       "    }\n",
       "</style>\n",
       "<table border=\"1\" class=\"dataframe\">\n",
       "  <thead>\n",
       "    <tr style=\"text-align: right;\">\n",
       "      <th></th>\n",
       "      <th>AGE</th>\n",
       "      <th>FNLWGT</th>\n",
       "      <th>EDUCATION_NUM</th>\n",
       "      <th>CAPITAL_GAIN</th>\n",
       "      <th>CAPITAL_LOSS</th>\n",
       "      <th>HOURS_PER_WEEK</th>\n",
       "      <th>WORKCLASS_0</th>\n",
       "      <th>WORKCLASS_1</th>\n",
       "      <th>WORKCLASS_2</th>\n",
       "      <th>WORKCLASS_3</th>\n",
       "      <th>...</th>\n",
       "      <th>RACE_3</th>\n",
       "      <th>SEX_0</th>\n",
       "      <th>SEX_1</th>\n",
       "      <th>NATIVE_COUNTRY_0</th>\n",
       "      <th>NATIVE_COUNTRY_1</th>\n",
       "      <th>NATIVE_COUNTRY_2</th>\n",
       "      <th>NATIVE_COUNTRY_3</th>\n",
       "      <th>NATIVE_COUNTRY_4</th>\n",
       "      <th>NATIVE_COUNTRY_5</th>\n",
       "      <th>NATIVE_COUNTRY_6</th>\n",
       "    </tr>\n",
       "  </thead>\n",
       "  <tbody>\n",
       "    <tr>\n",
       "      <th>5792</th>\n",
       "      <td>0.40</td>\n",
       "      <td>-0.063320</td>\n",
       "      <td>-0.333333</td>\n",
       "      <td>15024.0</td>\n",
       "      <td>0.0</td>\n",
       "      <td>3.0</td>\n",
       "      <td>0</td>\n",
       "      <td>0</td>\n",
       "      <td>0</td>\n",
       "      <td>0</td>\n",
       "      <td>...</td>\n",
       "      <td>1</td>\n",
       "      <td>0</td>\n",
       "      <td>1</td>\n",
       "      <td>0</td>\n",
       "      <td>0</td>\n",
       "      <td>0</td>\n",
       "      <td>0</td>\n",
       "      <td>0</td>\n",
       "      <td>0</td>\n",
       "      <td>1</td>\n",
       "    </tr>\n",
       "    <tr>\n",
       "      <th>2815</th>\n",
       "      <td>0.65</td>\n",
       "      <td>0.495383</td>\n",
       "      <td>-2.333333</td>\n",
       "      <td>0.0</td>\n",
       "      <td>0.0</td>\n",
       "      <td>-0.6</td>\n",
       "      <td>0</td>\n",
       "      <td>0</td>\n",
       "      <td>0</td>\n",
       "      <td>1</td>\n",
       "      <td>...</td>\n",
       "      <td>1</td>\n",
       "      <td>0</td>\n",
       "      <td>1</td>\n",
       "      <td>0</td>\n",
       "      <td>0</td>\n",
       "      <td>0</td>\n",
       "      <td>0</td>\n",
       "      <td>0</td>\n",
       "      <td>1</td>\n",
       "      <td>0</td>\n",
       "    </tr>\n",
       "    <tr>\n",
       "      <th>12682</th>\n",
       "      <td>-0.90</td>\n",
       "      <td>1.492434</td>\n",
       "      <td>-0.333333</td>\n",
       "      <td>0.0</td>\n",
       "      <td>0.0</td>\n",
       "      <td>-1.0</td>\n",
       "      <td>0</td>\n",
       "      <td>0</td>\n",
       "      <td>0</td>\n",
       "      <td>1</td>\n",
       "      <td>...</td>\n",
       "      <td>1</td>\n",
       "      <td>1</td>\n",
       "      <td>0</td>\n",
       "      <td>0</td>\n",
       "      <td>0</td>\n",
       "      <td>0</td>\n",
       "      <td>0</td>\n",
       "      <td>0</td>\n",
       "      <td>0</td>\n",
       "      <td>1</td>\n",
       "    </tr>\n",
       "    <tr>\n",
       "      <th>32124</th>\n",
       "      <td>-0.80</td>\n",
       "      <td>-0.495442</td>\n",
       "      <td>-0.333333</td>\n",
       "      <td>0.0</td>\n",
       "      <td>0.0</td>\n",
       "      <td>0.0</td>\n",
       "      <td>0</td>\n",
       "      <td>0</td>\n",
       "      <td>0</td>\n",
       "      <td>1</td>\n",
       "      <td>...</td>\n",
       "      <td>1</td>\n",
       "      <td>0</td>\n",
       "      <td>1</td>\n",
       "      <td>0</td>\n",
       "      <td>0</td>\n",
       "      <td>0</td>\n",
       "      <td>0</td>\n",
       "      <td>0</td>\n",
       "      <td>0</td>\n",
       "      <td>1</td>\n",
       "    </tr>\n",
       "    <tr>\n",
       "      <th>15791</th>\n",
       "      <td>0.10</td>\n",
       "      <td>1.132699</td>\n",
       "      <td>0.333333</td>\n",
       "      <td>0.0</td>\n",
       "      <td>0.0</td>\n",
       "      <td>0.0</td>\n",
       "      <td>0</td>\n",
       "      <td>0</td>\n",
       "      <td>0</td>\n",
       "      <td>1</td>\n",
       "      <td>...</td>\n",
       "      <td>1</td>\n",
       "      <td>0</td>\n",
       "      <td>1</td>\n",
       "      <td>0</td>\n",
       "      <td>0</td>\n",
       "      <td>0</td>\n",
       "      <td>0</td>\n",
       "      <td>0</td>\n",
       "      <td>0</td>\n",
       "      <td>1</td>\n",
       "    </tr>\n",
       "  </tbody>\n",
       "</table>\n",
       "<p>5 rows × 37 columns</p>\n",
       "</div>"
      ],
      "text/plain": [
       "        AGE    FNLWGT  EDUCATION_NUM  CAPITAL_GAIN  CAPITAL_LOSS  \\\n",
       "5792   0.40 -0.063320      -0.333333       15024.0           0.0   \n",
       "2815   0.65  0.495383      -2.333333           0.0           0.0   \n",
       "12682 -0.90  1.492434      -0.333333           0.0           0.0   \n",
       "32124 -0.80 -0.495442      -0.333333           0.0           0.0   \n",
       "15791  0.10  1.132699       0.333333           0.0           0.0   \n",
       "\n",
       "       HOURS_PER_WEEK  WORKCLASS_0  WORKCLASS_1  WORKCLASS_2  WORKCLASS_3  \\\n",
       "5792              3.0            0            0            0            0   \n",
       "2815             -0.6            0            0            0            1   \n",
       "12682            -1.0            0            0            0            1   \n",
       "32124             0.0            0            0            0            1   \n",
       "15791             0.0            0            0            0            1   \n",
       "\n",
       "       ...  RACE_3  SEX_0  SEX_1  NATIVE_COUNTRY_0  NATIVE_COUNTRY_1  \\\n",
       "5792   ...       1      0      1                 0                 0   \n",
       "2815   ...       1      0      1                 0                 0   \n",
       "12682  ...       1      1      0                 0                 0   \n",
       "32124  ...       1      0      1                 0                 0   \n",
       "15791  ...       1      0      1                 0                 0   \n",
       "\n",
       "       NATIVE_COUNTRY_2  NATIVE_COUNTRY_3  NATIVE_COUNTRY_4  NATIVE_COUNTRY_5  \\\n",
       "5792                  0                 0                 0                 0   \n",
       "2815                  0                 0                 0                 1   \n",
       "12682                 0                 0                 0                 0   \n",
       "32124                 0                 0                 0                 0   \n",
       "15791                 0                 0                 0                 0   \n",
       "\n",
       "       NATIVE_COUNTRY_6  \n",
       "5792                  1  \n",
       "2815                  0  \n",
       "12682                 1  \n",
       "32124                 1  \n",
       "15791                 1  \n",
       "\n",
       "[5 rows x 37 columns]"
      ]
     },
     "execution_count": 79,
     "metadata": {},
     "output_type": "execute_result"
    }
   ],
   "source": [
    "X_train.head(5)"
   ]
  },
  {
   "cell_type": "code",
   "execution_count": 85,
   "id": "1dfae605",
   "metadata": {},
   "outputs": [],
   "source": [
    "from sklearn.preprocessing import LabelEncoder\n",
    "le = LabelEncoder()\n",
    "\n",
    "y_train = le.fit_transform(y_train)\n",
    "y_test = le.transform(y_test)"
   ]
  },
  {
   "cell_type": "markdown",
   "id": "1733d883",
   "metadata": {},
   "source": [
    "## Experiment 1: Simple logistic regression\n",
    "\n",
    "Here we will use default parameters"
   ]
  },
  {
   "cell_type": "markdown",
   "id": "c52cb965",
   "metadata": {},
   "source": [
    "### Cross validation\n",
    "\n",
    "**To check the variance in the data by estimating the skill of our machine learning model on unseen data.**"
   ]
  },
  {
   "cell_type": "code",
   "execution_count": 86,
   "id": "ef66b258",
   "metadata": {},
   "outputs": [],
   "source": [
    "# Initialize a LogisticRegression model object\n",
    "logreg_model = LogisticRegression(random_state = 0)\n",
    "\n",
    "# Run K-Fold cross-validation to get an idea of the generalization error and stability of the model\n",
    "scores = cross_validate(logreg_model, \n",
    "                         X_train, \n",
    "                         y_train, \n",
    "                         cv = 10, \n",
    "                         scoring=['accuracy', 'precision', 'recall', 'f1'])"
   ]
  },
  {
   "cell_type": "code",
   "execution_count": 87,
   "id": "8ac5938b",
   "metadata": {},
   "outputs": [
    {
     "data": {
      "text/plain": [
       "{'fit_time': array([0.36199975, 0.38534975, 0.36342454, 0.35656905, 0.39514136,\n",
       "        0.36869121, 0.37506127, 0.37133121, 0.35348845, 0.40782428]),\n",
       " 'score_time': array([0.00812149, 0.01378798, 0.01640677, 0.01028538, 0.00811791,\n",
       "        0.01612186, 0.01637149, 0.01749182, 0.00807071, 0.01362538]),\n",
       " 'test_accuracy': array([0.8540146 , 0.84248944, 0.8401844 , 0.83595851, 0.84325778,\n",
       "        0.84786784, 0.84556281, 0.8374952 , 0.8444103 , 0.83820138]),\n",
       " 'test_precision': array([0.73921201, 0.72635815, 0.73347548, 0.71399177, 0.73596674,\n",
       "        0.75105485, 0.72393822, 0.71142285, 0.74207188, 0.71515152]),\n",
       " 'test_recall': array([0.62047244, 0.56850394, 0.54173228, 0.54645669, 0.55748031,\n",
       "        0.5615142 , 0.59148265, 0.55993691, 0.55362776, 0.55835962]),\n",
       " 'test_f1': array([0.67465753, 0.63780919, 0.62318841, 0.6190901 , 0.6344086 ,\n",
       "        0.64259928, 0.65104167, 0.6266549 , 0.63414634, 0.62710363])}"
      ]
     },
     "execution_count": 87,
     "metadata": {},
     "output_type": "execute_result"
    }
   ],
   "source": [
    "scores"
   ]
  },
  {
   "cell_type": "code",
   "execution_count": 88,
   "id": "5f24081f",
   "metadata": {},
   "outputs": [
    {
     "data": {
      "text/plain": [
       "LogisticRegression(random_state=0)"
      ]
     },
     "execution_count": 88,
     "metadata": {},
     "output_type": "execute_result"
    }
   ],
   "source": [
    "logreg_model = LogisticRegression(random_state = 0)\n",
    "logreg_model.fit(X_train, y_train)"
   ]
  },
  {
   "cell_type": "markdown",
   "id": "65d66b96",
   "metadata": {},
   "source": [
    "### Model evaluation"
   ]
  },
  {
   "cell_type": "markdown",
   "id": "d7dc9729",
   "metadata": {},
   "source": [
    "#### Training performance"
   ]
  },
  {
   "cell_type": "code",
   "execution_count": 89,
   "id": "fede699a",
   "metadata": {},
   "outputs": [],
   "source": [
    "data = {\n",
    "    'Accuracy': scores['test_accuracy'],\n",
    "    'Precision': scores['test_precision'],\n",
    "    'Recall': scores['test_recall'],\n",
    "    'F1 Score': scores['test_f1']\n",
    "}\n",
    "\n",
    "category_labels = ['Fold ' + str(idx) for idx in range(1, len(data['Accuracy']) + 1)]"
   ]
  },
  {
   "cell_type": "code",
   "execution_count": 90,
   "id": "525175ee",
   "metadata": {},
   "outputs": [
    {
     "data": {
      "image/png": "[encoded data removed]",
      "text/plain": [
       "<Figure size 864x432 with 1 Axes>"
      ]
     },
     "metadata": {
      "needs_background": "light"
     },
     "output_type": "display_data"
    }
   ],
   "source": [
    "fig = plt.figure(figsize=(12, 6))\n",
    "barWidth = 0.25\n",
    "\n",
    "r = np.arange(1, len(data['Accuracy']) + 1)\n",
    "for metric, values in data.items():\n",
    "    plt.bar(r, values, width = barWidth, label = metric)\n",
    "    r = [x + barWidth for x in r]\n",
    "    \n",
    "plt.xlabel('Fold')\n",
    "plt.xticks([r + 2 * barWidth for r in range(1, len(data['Accuracy']) + 1)], category_labels)\n",
    "\n",
    "plt.legend()\n",
    "plt.show()"
   ]
  },
  {
   "cell_type": "markdown",
   "id": "c935ae6e",
   "metadata": {},
   "source": [
    "#### Testing performance"
   ]
  },
  {
   "cell_type": "code",
   "execution_count": 91,
   "id": "b2fb3f08",
   "metadata": {},
   "outputs": [],
   "source": [
    "predictions = logreg_model.predict(X_test)"
   ]
  },
  {
   "cell_type": "code",
   "execution_count": 92,
   "id": "a41871a9",
   "metadata": {},
   "outputs": [
    {
     "data": {
      "text/plain": [
       "array([1, 1, 0, ..., 0, 0, 0])"
      ]
     },
     "execution_count": 92,
     "metadata": {},
     "output_type": "execute_result"
    }
   ],
   "source": [
    "predictions"
   ]
  },
  {
   "cell_type": "code",
   "execution_count": 93,
   "id": "7313fb64",
   "metadata": {},
   "outputs": [],
   "source": [
    "test_accuracy = accuracy_score(y_test, predictions)\n",
    "test_precision = precision_score(y_test, predictions)\n",
    "test_recall = recall_score(y_test, predictions)\n",
    "test_f_score = f1_score(y_test, predictions)"
   ]
  },
  {
   "cell_type": "code",
   "execution_count": 94,
   "id": "c7cb5e8c",
   "metadata": {},
   "outputs": [],
   "source": [
    "data = {\n",
    "    'Accuracy': [np.mean(scores['test_accuracy']), test_accuracy],\n",
    "    'Precision': [np.mean(scores['test_precision']), test_precision],\n",
    "    'Recall': [np.mean(scores['test_recall']), test_recall],\n",
    "    'F1 Score': [np.mean(scores['test_f1']), test_f_score]\n",
    "}\n",
    "\n",
    "category_labels = ['Training', 'Test']"
   ]
  },
  {
   "cell_type": "markdown",
   "id": "15f39bdf",
   "metadata": {},
   "source": [
    "**Plotting the Accuracy, Precision, Recall and F1 score for train data**"
   ]
  },
  {
   "cell_type": "code",
   "execution_count": 95,
   "id": "2dcafa84",
   "metadata": {
    "scrolled": false
   },
   "outputs": [
    {
     "data": {
      "image/png": "[encoded data removed]",
      "text/plain": [
       "<Figure size 864x432 with 1 Axes>"
      ]
     },
     "metadata": {
      "needs_background": "light"
     },
     "output_type": "display_data"
    }
   ],
   "source": [
    "fig = plt.figure(figsize=(12, 6))\n",
    "barWidth = 0.25\n",
    "\n",
    "r = np.arange(1, 3)\n",
    "\n",
    "for metric, values in data.items():\n",
    "    plt.bar(r, values, width = barWidth, label = metric)\n",
    "    r = [x + barWidth for x in r]\n",
    "    \n",
    "plt.xlabel('Fold')\n",
    "plt.xticks([r + barWidth for r in range(1, len(data['Accuracy']) + 1)], category_labels)\n",
    "\n",
    "plt.legend()\n",
    "plt.show()"
   ]
  },
  {
   "cell_type": "markdown",
   "id": "0953843c",
   "metadata": {},
   "source": [
    "### Model Interpretation"
   ]
  },
  {
   "cell_type": "markdown",
   "id": "68cdc9cc",
   "metadata": {},
   "source": [
    "**ROC curves should be used when there are roughly equal numbers of observations for each class whereas Precision-Recall curves should be used when there is a moderate to large class imbalance.\n",
    "Since in our data, we have 1:3 ratio, it is less than moderately imbalanced**"
   ]
  },
  {
   "cell_type": "code",
   "execution_count": 96,
   "id": "8c41ff8e",
   "metadata": {},
   "outputs": [],
   "source": [
    "lr_probs = logreg_model.predict_proba(X_test)\n",
    "# lr_probs"
   ]
  },
  {
   "cell_type": "code",
   "execution_count": 97,
   "id": "7174b670",
   "metadata": {},
   "outputs": [],
   "source": [
    "# keep probabilities for the positive outcome only\n",
    "lr_probs = lr_probs[:, 1]"
   ]
  },
  {
   "cell_type": "markdown",
   "id": "e39bfcf6",
   "metadata": {},
   "source": [
    "#### ROC AUC"
   ]
  },
  {
   "cell_type": "code",
   "execution_count": 99,
   "id": "95ddfe4b",
   "metadata": {},
   "outputs": [
    {
     "name": "stdout",
     "output_type": "stream",
     "text": [
      "Logistic: ROC AUC=0.890\n"
     ]
    },
    {
     "data": {
      "image/png": "[encoded data removed]",
      "text/plain": [
       "<Figure size 432x288 with 1 Axes>"
      ]
     },
     "metadata": {
      "needs_background": "light"
     },
     "output_type": "display_data"
    }
   ],
   "source": [
    "lr_auc = roc_auc_score(y_test, lr_probs)\n",
    "# summarize scores\n",
    "print('Logistic: ROC AUC=%.3f' % (lr_auc))\n",
    "\n",
    "lr_fpr, lr_tpr, thresholds = roc_curve(y_test, lr_probs)\n",
    "\n",
    "# plot the roc curve for the model\n",
    "plt.plot(lr_fpr, lr_tpr, marker = '.', label = 'Logistic')\n",
    "\n",
    "# axis labels\n",
    "plt.xlabel('False Positive Rate')\n",
    "plt.ylabel('True Positive Rate')\n",
    "\n",
    "# show the legend\n",
    "plt.legend()\n",
    "\n",
    "# show the plot\n",
    "plt.show()"
   ]
  },
  {
   "cell_type": "markdown",
   "id": "881aadab",
   "metadata": {},
   "source": [
    "#### Precision-Recall AUC"
   ]
  },
  {
   "cell_type": "code",
   "execution_count": 100,
   "id": "69119cec",
   "metadata": {},
   "outputs": [
    {
     "name": "stdout",
     "output_type": "stream",
     "text": [
      "Logistic: f1=0.643 auc=0.723\n"
     ]
    },
    {
     "data": {
      "image/png": "[encoded data removed]",
      "text/plain": [
       "<Figure size 432x288 with 1 Axes>"
      ]
     },
     "metadata": {
      "needs_background": "light"
     },
     "output_type": "display_data"
    }
   ],
   "source": [
    "yhat = logreg_model.predict(X_test)\n",
    "lr_precision, lr_recall, _ = precision_recall_curve(y_test, lr_probs)\n",
    "lr_f1, lr_auc = f1_score(y_test, yhat), auc(lr_recall, lr_precision)\n",
    "\n",
    "# summarize scores\n",
    "print('Logistic: f1=%.3f auc=%.3f' % (lr_f1, lr_auc))\n",
    "\n",
    "# plot the precision-recall curves \n",
    "plt.plot(lr_recall, lr_precision, marker = '.', label = 'Logistic')\n",
    "\n",
    "# axis labels\n",
    "plt.xlabel('Recall')\n",
    "plt.ylabel('Precision')\n",
    "\n",
    "# show the legend\n",
    "plt.legend()\n",
    "\n",
    "# show the plot\n",
    "plt.show()"
   ]
  },
  {
   "cell_type": "markdown",
   "id": "8c49fdcf",
   "metadata": {},
   "source": [
    "SHAP (SHapley Additive exPlanations)is a game theoretic approach to explain the output of any machine learning model. The SHAP values can show how much each predictor contributes, either positively or negatively, to the target variable. This is like the variable importance plot but it is able to show the positive or negative relationship for each variable with the target. each observation gets its own set of SHAP values (see the individual force plots below). This greatly increases its transparency. We can explain why a case receives its prediction and the contributions of the predictors. Traditional variable importance algorithms only show the results across the entire population but not on each individual case. The local interpretability enables us to pinpoint and contrast the impacts of the factors. It is important to point out the SHAP values do not provide causality."
   ]
  },
  {
   "cell_type": "code",
   "execution_count": 101,
   "id": "f9f2e6ae",
   "metadata": {},
   "outputs": [],
   "source": [
    "explainer = shap.Explainer(logreg_model, X_train)"
   ]
  },
  {
   "cell_type": "code",
   "execution_count": 102,
   "id": "de1bb173",
   "metadata": {},
   "outputs": [],
   "source": [
    "shap_values = explainer(X_test)"
   ]
  },
  {
   "cell_type": "code",
   "execution_count": 103,
   "id": "a93362a1",
   "metadata": {
    "scrolled": false
   },
   "outputs": [
    {
     "data": {
      "image/png": "[encoded data removed]",
      "text/plain": [
       "<Figure size 576x684 with 2 Axes>"
      ]
     },
     "metadata": {
      "needs_background": "light"
     },
     "output_type": "display_data"
    }
   ],
   "source": [
    "shap.summary_plot(shap_values, X_test)"
   ]
  },
  {
   "cell_type": "markdown",
   "id": "aaa3d254",
   "metadata": {},
   "source": [
    "## Experiment 2"
   ]
  },
  {
   "cell_type": "markdown",
   "id": "82132809",
   "metadata": {},
   "source": [
    "### Grid Search\n",
    "\n",
    "Selecting the best set of parameters for logistic regression model"
   ]
  },
  {
   "cell_type": "code",
   "execution_count": 104,
   "id": "cc44c095",
   "metadata": {},
   "outputs": [],
   "source": [
    "# Define LogisticRegression model object, hyper-parameter grid and run GridSearchCV\n",
    "logreg_model = LogisticRegression(random_state = 0)\n",
    "\n",
    "solvers = ['newton-cg', 'lbfgs', 'liblinear']\n",
    "\n",
    "penalty = ['l1', 'l2']\n",
    "\n",
    "c_values = [100, 10, 1.0, 0.1, 0.01]\n",
    "\n",
    "grid = dict(solver = solvers, penalty = penalty, C = c_values)\n",
    "\n",
    "grid_search = GridSearchCV(estimator = logreg_model, param_grid = grid, n_jobs = 1, scoring = 'recall')\n",
    "grid_result = grid_search.fit(X_train, y_train)\n",
    "\n",
    "scores = grid_result.cv_results_['mean_test_score']"
   ]
  },
  {
   "cell_type": "markdown",
   "id": "adb06abe",
   "metadata": {},
   "source": [
    "**Best parameters for the LR model**"
   ]
  },
  {
   "cell_type": "code",
   "execution_count": 105,
   "id": "4a290239",
   "metadata": {},
   "outputs": [
    {
     "data": {
      "text/plain": [
       "{'C': 10, 'penalty': 'l1', 'solver': 'liblinear'}"
      ]
     },
     "execution_count": 105,
     "metadata": {},
     "output_type": "execute_result"
    }
   ],
   "source": [
    "# Output best parameters\n",
    "grid_result.best_params_"
   ]
  },
  {
   "cell_type": "code",
   "execution_count": 106,
   "id": "1bcd75d7",
   "metadata": {},
   "outputs": [],
   "source": [
    "# Run LogisticRegression model with optimal hyper-parameters\n",
    "logreg_model = LogisticRegression(C = 10, penalty = 'l1', solver = 'liblinear', random_state = 0)"
   ]
  },
  {
   "cell_type": "markdown",
   "id": "caaf3e5a",
   "metadata": {},
   "source": [
    "**Cross validation**"
   ]
  },
  {
   "cell_type": "code",
   "execution_count": 107,
   "id": "684ef79f",
   "metadata": {},
   "outputs": [],
   "source": [
    "scores = cross_validate(logreg_model, \n",
    "                        X_train, \n",
    "                        y_train, \n",
    "                        cv = 10, \n",
    "                        scoring = ['accuracy', 'precision', 'recall', 'f1'])"
   ]
  },
  {
   "cell_type": "code",
   "execution_count": 108,
   "id": "f0f94bc1",
   "metadata": {},
   "outputs": [
    {
     "data": {
      "text/plain": [
       "{'fit_time': array([0.30289578, 0.23333883, 0.24742174, 0.20952082, 0.16441965,\n",
       "        0.16956019, 0.1764586 , 0.21286798, 0.38724947, 0.27463222]),\n",
       " 'score_time': array([0.00881052, 0.00792241, 0.00765347, 0.01626468, 0.00955439,\n",
       "        0.00799632, 0.00799537, 0.01601553, 0.01680636, 0.0134325 ]),\n",
       " 'test_accuracy': array([0.85286208, 0.84902036, 0.84095275, 0.83864771, 0.84633116,\n",
       "        0.84863619, 0.84594698, 0.83864771, 0.84479447, 0.83397387]),\n",
       " 'test_precision': array([0.73333333, 0.74103586, 0.72972973, 0.71203156, 0.74633124,\n",
       "        0.74691358, 0.72621359, 0.71062992, 0.73373984, 0.70039683]),\n",
       " 'test_recall': array([0.62362205, 0.58582677, 0.55275591, 0.56850394, 0.56062992,\n",
       "        0.57255521, 0.58990536, 0.56940063, 0.56940063, 0.55678233]),\n",
       " 'test_f1': array([0.67404255, 0.65435356, 0.62903226, 0.63222417, 0.64028777,\n",
       "        0.64821429, 0.65100087, 0.63222417, 0.64120782, 0.62038664])}"
      ]
     },
     "execution_count": 108,
     "metadata": {},
     "output_type": "execute_result"
    }
   ],
   "source": [
    "scores"
   ]
  },
  {
   "cell_type": "code",
   "execution_count": 109,
   "id": "63e6f264",
   "metadata": {},
   "outputs": [
    {
     "data": {
      "text/plain": [
       "LogisticRegression(C=10, penalty='l1', random_state=0, solver='liblinear')"
      ]
     },
     "execution_count": 109,
     "metadata": {},
     "output_type": "execute_result"
    }
   ],
   "source": [
    "logreg_model = LogisticRegression(C = 10, penalty = 'l1', solver = 'liblinear', random_state = 0)\n",
    "logreg_model.fit(X_train, y_train)"
   ]
  },
  {
   "cell_type": "markdown",
   "id": "7370fe30",
   "metadata": {},
   "source": [
    "### Model evaluation"
   ]
  },
  {
   "cell_type": "markdown",
   "id": "b9f9bfc1",
   "metadata": {},
   "source": [
    "#### Training performance"
   ]
  },
  {
   "cell_type": "code",
   "execution_count": 110,
   "id": "6c3a3a05",
   "metadata": {},
   "outputs": [],
   "source": [
    "data = {\n",
    "    'Accuracy': scores['test_accuracy'],\n",
    "    'Precision': scores['test_precision'],\n",
    "    'Recall': scores['test_recall'],\n",
    "    'F1 Score': scores['test_f1']\n",
    "}\n",
    "\n",
    "category_labels = ['Fold ' + str(idx) for idx in range(1, len(data['Accuracy']) + 1)]"
   ]
  },
  {
   "cell_type": "code",
   "execution_count": 111,
   "id": "f18adb9b",
   "metadata": {},
   "outputs": [
    {
     "data": {
      "image/png": "[encoded data removed]",
      "text/plain": [
       "<Figure size 864x432 with 1 Axes>"
      ]
     },
     "metadata": {
      "needs_background": "light"
     },
     "output_type": "display_data"
    }
   ],
   "source": [
    "fig = plt.figure(figsize=(12, 6))\n",
    "barWidth = 0.25\n",
    "\n",
    "r = np.arange(1, len(data['Accuracy']) + 1)\n",
    "for metric, values in data.items():\n",
    "    plt.bar(r, values, width = barWidth, label = metric)\n",
    "    r = [x + barWidth for x in r]\n",
    "    \n",
    "plt.xlabel('Fold')\n",
    "plt.xticks([r + 2 * barWidth for r in range(1, len(data['Accuracy']) + 1)], category_labels)\n",
    "\n",
    "plt.legend()\n",
    "plt.show()"
   ]
  },
  {
   "cell_type": "markdown",
   "id": "e79d197b",
   "metadata": {},
   "source": [
    "#### Test performance"
   ]
  },
  {
   "cell_type": "code",
   "execution_count": 112,
   "id": "508a229b",
   "metadata": {},
   "outputs": [],
   "source": [
    "predictions = logreg_model.predict(X_test)"
   ]
  },
  {
   "cell_type": "code",
   "execution_count": 113,
   "id": "da3eee7d",
   "metadata": {},
   "outputs": [],
   "source": [
    "test_accuracy = accuracy_score(y_test, predictions)\n",
    "test_precision = precision_score(y_test, predictions)\n",
    "test_recall = recall_score(y_test, predictions)\n",
    "test_f_score = f1_score(y_test, predictions)"
   ]
  },
  {
   "cell_type": "code",
   "execution_count": 114,
   "id": "13862707",
   "metadata": {},
   "outputs": [],
   "source": [
    "data = {\n",
    "    'Accuracy': [np.mean(scores['test_accuracy']), test_accuracy],\n",
    "    'Precision': [np.mean(scores['test_precision']), test_precision],\n",
    "    'Recall': [np.mean(scores['test_recall']), test_recall],\n",
    "    'F1 Score': [np.mean(scores['test_f1']), test_f_score]\n",
    "}\n",
    "\n",
    "category_labels = ['Training', 'Test']"
   ]
  },
  {
   "cell_type": "code",
   "execution_count": 115,
   "id": "e80ca486",
   "metadata": {},
   "outputs": [
    {
     "data": {
      "image/png": "[encoded data removed]",
      "text/plain": [
       "<Figure size 864x432 with 1 Axes>"
      ]
     },
     "metadata": {
      "needs_background": "light"
     },
     "output_type": "display_data"
    }
   ],
   "source": [
    "fig = plt.figure(figsize=(12, 6))\n",
    "barWidth = 0.25\n",
    "\n",
    "r = np.arange(1, 3)\n",
    "\n",
    "for metric, values in data.items():\n",
    "    plt.bar(r, values, width = barWidth, label = metric)\n",
    "    r = [x + barWidth for x in r]\n",
    "    \n",
    "plt.xlabel('Fold')\n",
    "plt.xticks([r + barWidth for r in range(1, len(data['Accuracy']) + 1)], category_labels)\n",
    "\n",
    "plt.legend()\n",
    "plt.show()"
   ]
  },
  {
   "cell_type": "markdown",
   "id": "ca0ac1a8",
   "metadata": {},
   "source": [
    "### Model Interpretation"
   ]
  },
  {
   "cell_type": "code",
   "execution_count": 116,
   "id": "6fc474aa",
   "metadata": {},
   "outputs": [],
   "source": [
    "lr_probs = logreg_model.predict_proba(X_test)\n",
    "# lr_probs"
   ]
  },
  {
   "cell_type": "code",
   "execution_count": 117,
   "id": "025feb5f",
   "metadata": {},
   "outputs": [],
   "source": [
    "lr_probs = logreg_model.predict_proba(X_test)\n",
    "# lr_probs"
   ]
  },
  {
   "cell_type": "code",
   "execution_count": 118,
   "id": "50897159",
   "metadata": {},
   "outputs": [],
   "source": [
    "# keep probabilities for the positive outcome only\n",
    "lr_probs = lr_probs[:, 1]"
   ]
  },
  {
   "cell_type": "markdown",
   "id": "59220a79",
   "metadata": {},
   "source": [
    "#### ROC AUC"
   ]
  },
  {
   "cell_type": "code",
   "execution_count": 119,
   "id": "7f76bd57",
   "metadata": {},
   "outputs": [
    {
     "name": "stdout",
     "output_type": "stream",
     "text": [
      "Logistic: ROC AUC=0.895\n"
     ]
    },
    {
     "data": {
      "image/png": "[encoded data removed]",
      "text/plain": [
       "<Figure size 432x288 with 1 Axes>"
      ]
     },
     "metadata": {
      "needs_background": "light"
     },
     "output_type": "display_data"
    }
   ],
   "source": [
    "lr_auc = roc_auc_score(y_test, lr_probs)\n",
    "# summarize scores\n",
    "print('Logistic: ROC AUC=%.3f' % (lr_auc))\n",
    "\n",
    "lr_fpr, lr_tpr, thresholds = roc_curve(y_test, lr_probs)\n",
    "\n",
    "# plot the roc curve for the model\n",
    "plt.plot(lr_fpr, lr_tpr, marker = '.', label = 'Logistic')\n",
    "\n",
    "# axis labels\n",
    "plt.xlabel('False Positive Rate')\n",
    "plt.ylabel('True Positive Rate')\n",
    "\n",
    "# show the legend\n",
    "plt.legend()\n",
    "\n",
    "# show the plot\n",
    "plt.show()"
   ]
  },
  {
   "cell_type": "markdown",
   "id": "3653107e",
   "metadata": {},
   "source": [
    "#### Precision-Recall AUC"
   ]
  },
  {
   "cell_type": "code",
   "execution_count": 120,
   "id": "3ceb754e",
   "metadata": {},
   "outputs": [
    {
     "name": "stdout",
     "output_type": "stream",
     "text": [
      "Logistic: f1=0.642 auc=0.739\n"
     ]
    },
    {
     "data": {
      "image/png": "[encoded data removed]",
      "text/plain": [
       "<Figure size 432x288 with 1 Axes>"
      ]
     },
     "metadata": {
      "needs_background": "light"
     },
     "output_type": "display_data"
    }
   ],
   "source": [
    "yhat = logreg_model.predict(X_test)\n",
    "lr_precision, lr_recall, _ = precision_recall_curve(y_test, lr_probs)\n",
    "lr_f1, lr_auc = f1_score(y_test, yhat), auc(lr_recall, lr_precision)\n",
    "\n",
    "# summarize scores\n",
    "print('Logistic: f1=%.3f auc=%.3f' % (lr_f1, lr_auc))\n",
    "\n",
    "# plot the precision-recall curves \n",
    "plt.plot(lr_recall, lr_precision, marker = '.', label = 'Logistic')\n",
    "\n",
    "# axis labels\n",
    "plt.xlabel('Recall')\n",
    "plt.ylabel('Precision')\n",
    "\n",
    "# show the legend\n",
    "plt.legend()\n",
    "\n",
    "# show the plot\n",
    "plt.show()"
   ]
  },
  {
   "cell_type": "markdown",
   "id": "a4473b4b",
   "metadata": {},
   "source": [
    "## Experiment 3: Decision Tree (Default parameters)"
   ]
  },
  {
   "cell_type": "code",
   "execution_count": 121,
   "id": "e1aec2ff",
   "metadata": {},
   "outputs": [],
   "source": [
    "dtree_model = DecisionTreeClassifier(random_state = 0)\n",
    "\n",
    "scores = cross_validate(dtree_model, \n",
    "                        X_train, \n",
    "                        y_train, \n",
    "                        cv = 10, \n",
    "                        scoring = ['accuracy', 'precision', 'recall', 'f1'])"
   ]
  },
  {
   "cell_type": "code",
   "execution_count": 122,
   "id": "dd80c744",
   "metadata": {},
   "outputs": [
    {
     "data": {
      "text/plain": [
       "DecisionTreeClassifier(random_state=0)"
      ]
     },
     "execution_count": 122,
     "metadata": {},
     "output_type": "execute_result"
    }
   ],
   "source": [
    "dtree_model = DecisionTreeClassifier(random_state = 0)\n",
    "dtree_model.fit(X_train, y_train)"
   ]
  },
  {
   "cell_type": "markdown",
   "id": "70398ec2",
   "metadata": {},
   "source": [
    "### Model evaluation"
   ]
  },
  {
   "cell_type": "markdown",
   "id": "ee143cee",
   "metadata": {},
   "source": [
    "#### Train performance"
   ]
  },
  {
   "cell_type": "code",
   "execution_count": 123,
   "id": "5c3570fc",
   "metadata": {},
   "outputs": [],
   "source": [
    "data = {\n",
    "    'Accuracy': scores['test_accuracy'],\n",
    "    'Precision': scores['test_precision'],\n",
    "    'Recall': scores['test_recall'],\n",
    "    'F1 Score': scores['test_f1']\n",
    "}\n",
    "\n",
    "category_labels = ['Fold ' + str(idx) for idx in range(1, len(data['Accuracy']) + 1)]"
   ]
  },
  {
   "cell_type": "code",
   "execution_count": 124,
   "id": "4251a2aa",
   "metadata": {},
   "outputs": [
    {
     "data": {
      "image/png": "[encoded data removed]",
      "text/plain": [
       "<Figure size 864x432 with 1 Axes>"
      ]
     },
     "metadata": {
      "needs_background": "light"
     },
     "output_type": "display_data"
    }
   ],
   "source": [
    "fig = plt.figure(figsize=(12, 6))\n",
    "barWidth = 0.25\n",
    "\n",
    "r = np.arange(1, len(data['Accuracy']) + 1)\n",
    "for metric, values in data.items():\n",
    "    plt.bar(r, values, width = barWidth, label = metric)\n",
    "    r = [x + barWidth for x in r]\n",
    "    \n",
    "plt.xlabel('Fold')\n",
    "plt.xticks([r + 2 * barWidth for r in range(1, len(data['Accuracy']) + 1)], category_labels)\n",
    "\n",
    "plt.legend()\n",
    "plt.show()"
   ]
  },
  {
   "cell_type": "markdown",
   "id": "d8a85b05",
   "metadata": {},
   "source": [
    "#### Test performance"
   ]
  },
  {
   "cell_type": "code",
   "execution_count": 125,
   "id": "a33b2c1b",
   "metadata": {},
   "outputs": [],
   "source": [
    "predictions = dtree_model.predict(X_test)"
   ]
  },
  {
   "cell_type": "code",
   "execution_count": 126,
   "id": "565f65ee",
   "metadata": {},
   "outputs": [],
   "source": [
    "test_accuracy = accuracy_score(y_test, predictions)\n",
    "test_precision = precision_score(y_test, predictions)\n",
    "test_recall = recall_score(y_test, predictions)\n",
    "test_f_score = f1_score(y_test, predictions)"
   ]
  },
  {
   "cell_type": "code",
   "execution_count": 127,
   "id": "165ea5c2",
   "metadata": {},
   "outputs": [],
   "source": [
    "data = {\n",
    "    'Accuracy': [np.mean(scores['test_accuracy']), test_accuracy],\n",
    "    'Precision': [np.mean(scores['test_precision']), test_precision],\n",
    "    'Recall': [np.mean(scores['test_recall']), test_recall],\n",
    "    'F1 Score': [np.mean(scores['test_f1']), test_f_score]\n",
    "}\n",
    "\n",
    "category_labels = ['Training', 'Test']"
   ]
  },
  {
   "cell_type": "code",
   "execution_count": 128,
   "id": "2a244be3",
   "metadata": {},
   "outputs": [
    {
     "name": "stdout",
     "output_type": "stream",
     "text": [
      "{'Accuracy': [0.8088670525317709, 0.8119237861094039], 'Precision': [0.6054049325607451, 0.5814234016887817], 'Recall': [0.6198611490598375, 0.6452476572958501], 'F1 Score': [0.612391127201877, 0.6116751269035533]}\n"
     ]
    }
   ],
   "source": [
    "print(data)"
   ]
  },
  {
   "cell_type": "code",
   "execution_count": 129,
   "id": "c7f7f6b3",
   "metadata": {},
   "outputs": [
    {
     "data": {
      "image/png": "[encoded data removed]",
      "text/plain": [
       "<Figure size 864x432 with 1 Axes>"
      ]
     },
     "metadata": {
      "needs_background": "light"
     },
     "output_type": "display_data"
    }
   ],
   "source": [
    "fig = plt.figure(figsize=(12, 6))\n",
    "barWidth = 0.25\n",
    "\n",
    "r = np.arange(1, 3)\n",
    "\n",
    "for metric, values in data.items():\n",
    "    plt.bar(r, values, width = barWidth, label = metric)\n",
    "    r = [x + barWidth for x in r]\n",
    "    \n",
    "plt.xlabel('Fold')\n",
    "plt.xticks([r + barWidth for r in range(1, len(data['Accuracy']) + 1)], category_labels)\n",
    "\n",
    "plt.legend()\n",
    "plt.show()"
   ]
  },
  {
   "cell_type": "markdown",
   "id": "f08f2d54",
   "metadata": {},
   "source": [
    "### Model interpretation"
   ]
  },
  {
   "cell_type": "code",
   "execution_count": 130,
   "id": "5b9c3040",
   "metadata": {},
   "outputs": [],
   "source": [
    "# keep probabilities for the positive outcome only\n",
    "dt_probs = dtree_model.predict_proba(X_test)[:, 1]"
   ]
  },
  {
   "cell_type": "code",
   "execution_count": 131,
   "id": "54953b4c",
   "metadata": {},
   "outputs": [],
   "source": [
    "dt_fpr, dt_tpr, thresholds = roc_curve(y_test, dt_probs)"
   ]
  },
  {
   "cell_type": "markdown",
   "id": "7dba0f19",
   "metadata": {},
   "source": [
    "#### ROC AUC"
   ]
  },
  {
   "cell_type": "code",
   "execution_count": 132,
   "id": "3333124a",
   "metadata": {},
   "outputs": [
    {
     "name": "stdout",
     "output_type": "stream",
     "text": [
      "Decision Tree: ROC AUC=0.753\n"
     ]
    },
    {
     "data": {
      "image/png": "[encoded data removed]",
      "text/plain": [
       "<Figure size 432x288 with 1 Axes>"
      ]
     },
     "metadata": {
      "needs_background": "light"
     },
     "output_type": "display_data"
    }
   ],
   "source": [
    "dt_auc = roc_auc_score(y_test, dt_probs)\n",
    "# summarize scores\n",
    "print('Decision Tree: ROC AUC=%.3f' % (dt_auc))\n",
    "\n",
    "dt_fpr, dt_tpr, thresholds = roc_curve(y_test, dt_probs)\n",
    "\n",
    "# plot the roc curve for the model\n",
    "plt.plot(dt_fpr, dt_tpr, marker = '.', label = 'DT')\n",
    "\n",
    "# axis labels\n",
    "plt.xlabel('False Positive Rate')\n",
    "plt.ylabel('True Positive Rate')\n",
    "\n",
    "# show the legend\n",
    "plt.legend()\n",
    "plt.title('Receiver Operating Characteristic - DecisionTree')\n",
    "\n",
    "# show the plot\n",
    "plt.show()"
   ]
  },
  {
   "cell_type": "markdown",
   "id": "1a1be9f6",
   "metadata": {},
   "source": [
    "#### Precision-Recall AUC"
   ]
  },
  {
   "cell_type": "code",
   "execution_count": 133,
   "id": "d4b0821d",
   "metadata": {},
   "outputs": [
    {
     "name": "stdout",
     "output_type": "stream",
     "text": [
      "DT: f1=0.612 auc=0.654\n"
     ]
    },
    {
     "data": {
      "image/png": "[encoded data removed]",
      "text/plain": [
       "<Figure size 432x288 with 1 Axes>"
      ]
     },
     "metadata": {
      "needs_background": "light"
     },
     "output_type": "display_data"
    }
   ],
   "source": [
    "yhat = dtree_model.predict(X_test)\n",
    "dt_precision, dt_recall, _ = precision_recall_curve(y_test, dt_probs)\n",
    "dt_f1, dt_auc = f1_score(y_test, yhat), auc(dt_recall, dt_precision)\n",
    "\n",
    "# summarize scores\n",
    "print('DT: f1=%.3f auc=%.3f' % (dt_f1, dt_auc))\n",
    "\n",
    "# plot the precision-recall curves \n",
    "plt.plot(dt_recall, dt_precision, marker = '.', label = 'DT')\n",
    "\n",
    "# axis labels\n",
    "plt.xlabel('Recall')\n",
    "plt.ylabel('Precision')\n",
    "\n",
    "# show the legend\n",
    "plt.legend()\n",
    "\n",
    "# show the plot\n",
    "plt.show()"
   ]
  },
  {
   "cell_type": "markdown",
   "id": "062f937e",
   "metadata": {},
   "source": [
    "## Experiment 4: Random Forest"
   ]
  },
  {
   "cell_type": "code",
   "execution_count": 134,
   "id": "4b1bf131",
   "metadata": {},
   "outputs": [],
   "source": [
    "rf = RandomForestClassifier(random_state = 0)\n",
    "\n",
    "scores = cross_validate(rf, \n",
    "                        X_train, \n",
    "                        y_train, \n",
    "                        cv = 10, \n",
    "                        scoring = ['accuracy', 'precision', 'recall', 'f1'])"
   ]
  },
  {
   "cell_type": "code",
   "execution_count": 135,
   "id": "b19ed6f6",
   "metadata": {},
   "outputs": [
    {
     "data": {
      "text/plain": [
       "RandomForestClassifier(random_state=0)"
      ]
     },
     "execution_count": 135,
     "metadata": {},
     "output_type": "execute_result"
    }
   ],
   "source": [
    "rf = RandomForestClassifier(random_state = 0)\n",
    "rf.fit(X_train, y_train)"
   ]
  },
  {
   "cell_type": "code",
   "execution_count": 136,
   "id": "c82ce953",
   "metadata": {},
   "outputs": [
    {
     "data": {
      "text/plain": [
       "array([1.50365312e-01, 1.67842624e-01, 1.24320570e-01, 1.07717375e-01,\n",
       "       3.42336446e-02, 8.65308799e-02, 0.00000000e+00, 5.07642664e-05,\n",
       "       1.31725047e-02, 9.61342344e-03, 1.17210702e-02, 0.00000000e+00,\n",
       "       1.16214145e-02, 7.83379820e-02, 2.64961826e-02, 0.00000000e+00,\n",
       "       1.63593984e-02, 1.40234720e-02, 1.81712271e-02, 1.59217194e-02,\n",
       "       0.00000000e+00, 6.57052723e-03, 4.06484348e-02, 1.12210938e-02,\n",
       "       0.00000000e+00, 2.54417816e-03, 6.57881686e-03, 5.48351644e-03,\n",
       "       1.05970885e-02, 8.59490202e-03, 0.00000000e+00, 1.17244108e-03,\n",
       "       2.83100895e-03, 4.76307551e-03, 3.42445682e-03, 5.16234373e-03,\n",
       "       3.90855325e-03])"
      ]
     },
     "execution_count": 136,
     "metadata": {},
     "output_type": "execute_result"
    }
   ],
   "source": [
    "rf.feature_importances_"
   ]
  },
  {
   "cell_type": "markdown",
   "id": "cdbe3547",
   "metadata": {},
   "source": [
    "### Model evaluation"
   ]
  },
  {
   "cell_type": "markdown",
   "id": "fab9881f",
   "metadata": {},
   "source": [
    "#### Train performance"
   ]
  },
  {
   "cell_type": "code",
   "execution_count": 137,
   "id": "8d3a2b19",
   "metadata": {},
   "outputs": [],
   "source": [
    "data = {\n",
    "    'Accuracy': scores['test_accuracy'],\n",
    "    'Precision': scores['test_precision'],\n",
    "    'Recall': scores['test_recall'],\n",
    "    'F1 Score': scores['test_f1']\n",
    "}\n",
    "\n",
    "category_labels = ['Fold ' + str(idx) for idx in range(1, len(data['Accuracy']) + 1)]"
   ]
  },
  {
   "cell_type": "code",
   "execution_count": 138,
   "id": "21d80b1f",
   "metadata": {},
   "outputs": [
    {
     "data": {
      "image/png": "[encoded data removed]",
      "text/plain": [
       "<Figure size 864x432 with 1 Axes>"
      ]
     },
     "metadata": {
      "needs_background": "light"
     },
     "output_type": "display_data"
    }
   ],
   "source": [
    "fig = plt.figure(figsize=(12, 6))\n",
    "barWidth = 0.25\n",
    "\n",
    "r = np.arange(1, len(data['Accuracy']) + 1)\n",
    "for metric, values in data.items():\n",
    "    plt.bar(r, values, width = barWidth, label = metric)\n",
    "    r = [x + barWidth for x in r]\n",
    "    \n",
    "plt.xlabel('Fold')\n",
    "plt.xticks([r + 2 * barWidth for r in range(1, len(data['Accuracy']) + 1)], category_labels)\n",
    "\n",
    "plt.legend()\n",
    "plt.show()"
   ]
  },
  {
   "cell_type": "markdown",
   "id": "a1d7e1e9",
   "metadata": {},
   "source": [
    "#### Test performance"
   ]
  },
  {
   "cell_type": "code",
   "execution_count": 139,
   "id": "3c2a7351",
   "metadata": {},
   "outputs": [],
   "source": [
    "predictions = rf.predict(X_test)"
   ]
  },
  {
   "cell_type": "code",
   "execution_count": 140,
   "id": "5d82ee25",
   "metadata": {},
   "outputs": [],
   "source": [
    "test_accuracy = accuracy_score(y_test, predictions)\n",
    "test_precision = precision_score(y_test, predictions)\n",
    "test_recall = recall_score(y_test, predictions)\n",
    "test_f_score = f1_score(y_test, predictions)"
   ]
  },
  {
   "cell_type": "code",
   "execution_count": 141,
   "id": "159b4f7b",
   "metadata": {},
   "outputs": [],
   "source": [
    "data = {\n",
    "    'Accuracy': [np.mean(scores['test_accuracy']), test_accuracy],\n",
    "    'Precision': [np.mean(scores['test_precision']), test_precision],\n",
    "    'Recall': [np.mean(scores['test_recall']), test_recall],\n",
    "    'F1 Score': [np.mean(scores['test_f1']), test_f_score]\n",
    "}\n",
    "\n",
    "category_labels = ['Training', 'Test']"
   ]
  },
  {
   "cell_type": "code",
   "execution_count": 142,
   "id": "8396e9fb",
   "metadata": {},
   "outputs": [
    {
     "name": "stdout",
     "output_type": "stream",
     "text": [
      "{'Accuracy': [0.85504595743751, 0.8600184388444991], 'Precision': [0.7398812177762129, 0.7186796699174793], 'Recall': [0.6255301920067563, 0.6412315930388219], 'F1 Score': [0.6777523911544137, 0.6777502652989034]}\n"
     ]
    }
   ],
   "source": [
    "print(data)"
   ]
  },
  {
   "cell_type": "code",
   "execution_count": 143,
   "id": "1028acac",
   "metadata": {},
   "outputs": [
    {
     "data": {
      "image/png": "[encoded data removed]",
      "text/plain": [
       "<Figure size 864x432 with 1 Axes>"
      ]
     },
     "metadata": {
      "needs_background": "light"
     },
     "output_type": "display_data"
    }
   ],
   "source": [
    "fig = plt.figure(figsize=(12, 6))\n",
    "barWidth = 0.25\n",
    "\n",
    "r = np.arange(1, 3)\n",
    "\n",
    "for metric, values in data.items():\n",
    "    plt.bar(r, values, width = barWidth, label = metric)\n",
    "    r = [x + barWidth for x in r]\n",
    "    \n",
    "plt.xlabel('Fold')\n",
    "plt.xticks([r + barWidth for r in range(1, len(data['Accuracy']) + 1)], category_labels)\n",
    "\n",
    "plt.legend()\n",
    "plt.show()"
   ]
  },
  {
   "cell_type": "markdown",
   "id": "0e333dbb",
   "metadata": {},
   "source": [
    "### Model interpretation"
   ]
  },
  {
   "cell_type": "code",
   "execution_count": 144,
   "id": "1ed68c06",
   "metadata": {},
   "outputs": [],
   "source": [
    "# keep probabilities for the positive outcome only\n",
    "rf_probs = rf.predict_proba(X_test)[:, 1]"
   ]
  },
  {
   "cell_type": "code",
   "execution_count": 145,
   "id": "3f979dc5",
   "metadata": {},
   "outputs": [],
   "source": [
    "rf_fpr, rf_tpr, thresholds = roc_curve(y_test, rf_probs)"
   ]
  },
  {
   "cell_type": "markdown",
   "id": "fd82cdb1",
   "metadata": {},
   "source": [
    "#### ROC AUC"
   ]
  },
  {
   "cell_type": "code",
   "execution_count": 146,
   "id": "900b447d",
   "metadata": {},
   "outputs": [
    {
     "name": "stdout",
     "output_type": "stream",
     "text": [
      "Random Forest: ROC AUC=0.912\n"
     ]
    },
    {
     "data": {
      "image/png": "[encoded data removed]",
      "text/plain": [
       "<Figure size 432x288 with 1 Axes>"
      ]
     },
     "metadata": {
      "needs_background": "light"
     },
     "output_type": "display_data"
    }
   ],
   "source": [
    "rf_auc = roc_auc_score(y_test, rf_probs)\n",
    "# summarize scores\n",
    "print('Random Forest: ROC AUC=%.3f' % (rf_auc))\n",
    "\n",
    "rf_fpr, rf_tpr, thresholds = roc_curve(y_test, rf_probs)\n",
    "\n",
    "# plot the roc curve for the model\n",
    "plt.plot(rf_fpr, rf_tpr, marker = '.', label = 'RF')\n",
    "\n",
    "# axis labels\n",
    "plt.xlabel('False Positive Rate')\n",
    "plt.ylabel('True Positive Rate')\n",
    "\n",
    "# show the legend\n",
    "plt.legend()\n",
    "plt.title('Receiver Operating Characteristic - Random Forest')\n",
    "\n",
    "# show the plot\n",
    "plt.show()"
   ]
  },
  {
   "cell_type": "markdown",
   "id": "3ec668a4",
   "metadata": {},
   "source": [
    "#### Precision-Recall AUC"
   ]
  },
  {
   "cell_type": "code",
   "execution_count": 147,
   "id": "5ecdaaf1",
   "metadata": {},
   "outputs": [
    {
     "name": "stdout",
     "output_type": "stream",
     "text": [
      "RF: f1=0.678 auc=0.786\n"
     ]
    },
    {
     "data": {
      "image/png": "[encoded data removed]",
      "text/plain": [
       "<Figure size 432x288 with 1 Axes>"
      ]
     },
     "metadata": {
      "needs_background": "light"
     },
     "output_type": "display_data"
    }
   ],
   "source": [
    "yhat = rf.predict(X_test)\n",
    "rf_precision, rf_recall, _ = precision_recall_curve(y_test, rf_probs)\n",
    "rf_f1, rf_auc = f1_score(y_test, yhat), auc(rf_recall, rf_precision)\n",
    "\n",
    "# summarize scores\n",
    "print('RF: f1=%.3f auc=%.3f' % (rf_f1, rf_auc))\n",
    "\n",
    "# plot the precision-recall curves \n",
    "plt.plot(rf_recall, rf_precision, marker = '.', label = 'RF')\n",
    "\n",
    "# axis labels\n",
    "plt.xlabel('Recall')\n",
    "plt.ylabel('Precision')\n",
    "\n",
    "# show the legend\n",
    "plt.legend()\n",
    "\n",
    "# show the plot\n",
    "plt.show()"
   ]
  },
  {
   "cell_type": "markdown",
   "id": "e1170183",
   "metadata": {},
   "source": [
    "## Experiment 5: Random Forest (Hyperparameter-tuned)"
   ]
  },
  {
   "cell_type": "markdown",
   "id": "28138598",
   "metadata": {},
   "source": [
    "### Grid Search\n",
    "\n",
    "Selecting the best set of parameters for logistic regression model"
   ]
  },
  {
   "cell_type": "code",
   "execution_count": 148,
   "id": "74305fe2",
   "metadata": {},
   "outputs": [],
   "source": [
    "# Define LogisticRegression model object, hyper-parameter grid and run GridSearchCV\n",
    "rf = RandomForestClassifier(random_state = 0)\n",
    "\n",
    "list_max_depth = [10, 11, 12, 13, 14, 15, 16, 17, 18, 19, 20]\n",
    "\n",
    "list_n_estimators = [10, 12, 14, 16, 18, 20, 22, 24, 26, 28, 30]\n",
    "\n",
    "grid = dict(max_depth = list_max_depth, n_estimators = list_n_estimators)\n",
    "\n",
    "grid_search = GridSearchCV(estimator = rf, param_grid = grid, n_jobs = 1)\n",
    "grid_result = grid_search.fit(X_train, y_train)\n",
    "\n",
    "scores = grid_result.cv_results_['mean_test_score']"
   ]
  },
  {
   "cell_type": "code",
   "execution_count": 149,
   "id": "52c9db4b",
   "metadata": {},
   "outputs": [
    {
     "data": {
      "text/plain": [
       "{'max_depth': 14, 'n_estimators': 28}"
      ]
     },
     "execution_count": 149,
     "metadata": {},
     "output_type": "execute_result"
    }
   ],
   "source": [
    "# Output best parameters\n",
    "grid_result.best_params_"
   ]
  },
  {
   "cell_type": "markdown",
   "id": "3a47650d",
   "metadata": {},
   "source": [
    "plotting the cost----"
   ]
  },
  {
   "cell_type": "markdown",
   "id": "51339c76",
   "metadata": {},
   "source": [
    "NOTE: we will be using these parameters for out model"
   ]
  },
  {
   "cell_type": "code",
   "execution_count": 150,
   "id": "35be7ed1",
   "metadata": {},
   "outputs": [],
   "source": [
    "# Run RF model with optimal hyper-parameters\n",
    "rf = RandomForestClassifier(max_depth = 14, random_state = 0, n_estimators = 28)"
   ]
  },
  {
   "cell_type": "markdown",
   "id": "14600255",
   "metadata": {},
   "source": [
    "**Cross validation**"
   ]
  },
  {
   "cell_type": "code",
   "execution_count": 151,
   "id": "4a281cf2",
   "metadata": {},
   "outputs": [],
   "source": [
    "scores = cross_validate(rf, \n",
    "                        X_train, \n",
    "                        y_train, \n",
    "                        cv = 10, \n",
    "                        scoring = ['accuracy', 'precision', 'recall', 'f1'])"
   ]
  },
  {
   "cell_type": "code",
   "execution_count": 152,
   "id": "b721c550",
   "metadata": {},
   "outputs": [
    {
     "data": {
      "text/plain": [
       "{'fit_time': array([0.9430933 , 0.92293215, 0.92808723, 0.94796276, 0.94597459,\n",
       "        0.94249439, 0.91803026, 0.92388439, 0.98143005, 0.93596792]),\n",
       " 'score_time': array([0.03917694, 0.03260684, 0.04076719, 0.04376149, 0.04068327,\n",
       "        0.04101706, 0.04854226, 0.04120255, 0.03283906, 0.04114676]),\n",
       " 'test_accuracy': array([0.87168652, 0.86131387, 0.85017288, 0.85439877, 0.85631963,\n",
       "        0.86169804, 0.86592393, 0.85785632, 0.86515559, 0.85549577]),\n",
       " 'test_precision': array([0.81953291, 0.7965368 , 0.78959811, 0.78193833, 0.80997625,\n",
       "        0.8004386 , 0.79381443, 0.79596413, 0.80962801, 0.79452055]),\n",
       " 'test_recall': array([0.60787402, 0.57952756, 0.52598425, 0.55905512, 0.53700787,\n",
       "        0.57570978, 0.60725552, 0.55993691, 0.58359621, 0.5488959 ]),\n",
       " 'test_f1': array([0.69801085, 0.67092069, 0.63137996, 0.65197429, 0.64583333,\n",
       "        0.66972477, 0.68811439, 0.65740741, 0.67827681, 0.64925373])}"
      ]
     },
     "execution_count": 152,
     "metadata": {},
     "output_type": "execute_result"
    }
   ],
   "source": [
    "scores"
   ]
  },
  {
   "cell_type": "code",
   "execution_count": 153,
   "id": "dba6b86f",
   "metadata": {},
   "outputs": [
    {
     "data": {
      "text/plain": [
       "RandomForestClassifier(max_depth=14, n_estimators=28, random_state=0)"
      ]
     },
     "execution_count": 153,
     "metadata": {},
     "output_type": "execute_result"
    }
   ],
   "source": [
    "rf = RandomForestClassifier(max_depth = 14, random_state = 0, n_estimators = 28)\n",
    "rf.fit(X_train, y_train)"
   ]
  },
  {
   "cell_type": "markdown",
   "id": "7fabf2ec",
   "metadata": {},
   "source": [
    "### Model evaluation"
   ]
  },
  {
   "cell_type": "markdown",
   "id": "8ec80ad1",
   "metadata": {},
   "source": [
    "#### Training performance"
   ]
  },
  {
   "cell_type": "code",
   "execution_count": 154,
   "id": "dd412206",
   "metadata": {},
   "outputs": [],
   "source": [
    "data = {\n",
    "    'Accuracy': scores['test_accuracy'],\n",
    "    'Precision': scores['test_precision'],\n",
    "    'Recall': scores['test_recall'],\n",
    "    'F1 Score': scores['test_f1']\n",
    "}\n",
    "\n",
    "category_labels = ['Fold ' + str(idx) for idx in range(1, len(data['Accuracy']) + 1)]"
   ]
  },
  {
   "cell_type": "code",
   "execution_count": 155,
   "id": "74cb3bf7",
   "metadata": {},
   "outputs": [
    {
     "data": {
      "image/png": "[encoded data removed]",
      "text/plain": [
       "<Figure size 864x432 with 1 Axes>"
      ]
     },
     "metadata": {
      "needs_background": "light"
     },
     "output_type": "display_data"
    }
   ],
   "source": [
    "fig = plt.figure(figsize=(12, 6))\n",
    "barWidth = 0.25\n",
    "\n",
    "r = np.arange(1, len(data['Accuracy']) + 1)\n",
    "for metric, values in data.items():\n",
    "    plt.bar(r, values, width = barWidth, label = metric)\n",
    "    r = [x + barWidth for x in r]\n",
    "    \n",
    "plt.xlabel('Fold')\n",
    "plt.xticks([r + 2 * barWidth for r in range(1, len(data['Accuracy']) + 1)], category_labels)\n",
    "\n",
    "plt.legend()\n",
    "plt.show()"
   ]
  },
  {
   "cell_type": "markdown",
   "id": "899fba61",
   "metadata": {},
   "source": [
    "#### Test performance"
   ]
  },
  {
   "cell_type": "code",
   "execution_count": 156,
   "id": "e100c7d4",
   "metadata": {},
   "outputs": [],
   "source": [
    "predictions = rf.predict(X_test)"
   ]
  },
  {
   "cell_type": "code",
   "execution_count": 157,
   "id": "74926ddc",
   "metadata": {},
   "outputs": [],
   "source": [
    "test_accuracy = accuracy_score(y_test, predictions)\n",
    "test_precision = precision_score(y_test, predictions)\n",
    "test_recall = recall_score(y_test, predictions)\n",
    "test_f_score = f1_score(y_test, predictions)"
   ]
  },
  {
   "cell_type": "code",
   "execution_count": 158,
   "id": "0ab06075",
   "metadata": {},
   "outputs": [],
   "source": [
    "data = {\n",
    "    'Accuracy': [np.mean(scores['test_accuracy']), test_accuracy],\n",
    "    'Precision': [np.mean(scores['test_precision']), test_precision],\n",
    "    'Recall': [np.mean(scores['test_recall']), test_recall],\n",
    "    'F1 Score': [np.mean(scores['test_f1']), test_f_score]\n",
    "}\n",
    "\n",
    "category_labels = ['Training', 'Test']"
   ]
  },
  {
   "cell_type": "code",
   "execution_count": 159,
   "id": "6d6ef07f",
   "metadata": {},
   "outputs": [
    {
     "data": {
      "image/png": "[encoded data removed]",
      "text/plain": [
       "<Figure size 864x432 with 1 Axes>"
      ]
     },
     "metadata": {
      "needs_background": "light"
     },
     "output_type": "display_data"
    }
   ],
   "source": [
    "fig = plt.figure(figsize=(12, 6))\n",
    "barWidth = 0.25\n",
    "\n",
    "r = np.arange(1, 3)\n",
    "\n",
    "for metric, values in data.items():\n",
    "    plt.bar(r, values, width = barWidth, label = metric)\n",
    "    r = [x + barWidth for x in r]\n",
    "    \n",
    "plt.xlabel('Fold')\n",
    "plt.xticks([r + barWidth for r in range(1, len(data['Accuracy']) + 1)], category_labels)\n",
    "\n",
    "plt.legend()\n",
    "plt.show()"
   ]
  },
  {
   "cell_type": "markdown",
   "id": "8f9fe484",
   "metadata": {},
   "source": [
    "### Model interpretation"
   ]
  },
  {
   "cell_type": "code",
   "execution_count": 160,
   "id": "f6430294",
   "metadata": {},
   "outputs": [],
   "source": [
    "# keep probabilities for the positive outcome only\n",
    "rf_probs = rf.predict_proba(X_test)[:, 1]"
   ]
  },
  {
   "cell_type": "code",
   "execution_count": 161,
   "id": "ae2bc715",
   "metadata": {},
   "outputs": [],
   "source": [
    "rf_fpr, rf_tpr, thresholds = roc_curve(y_test, rf_probs)"
   ]
  },
  {
   "cell_type": "markdown",
   "id": "9f67511b",
   "metadata": {},
   "source": [
    "#### ROC AUC"
   ]
  },
  {
   "cell_type": "code",
   "execution_count": 163,
   "id": "1731dcf0",
   "metadata": {},
   "outputs": [
    {
     "name": "stdout",
     "output_type": "stream",
     "text": [
      "Random Forest: ROC AUC=0.917\n"
     ]
    },
    {
     "data": {
      "image/png": "[encoded data removed]",
      "text/plain": [
       "<Figure size 432x288 with 1 Axes>"
      ]
     },
     "metadata": {
      "needs_background": "light"
     },
     "output_type": "display_data"
    }
   ],
   "source": [
    "rf_auc = roc_auc_score(y_test, rf_probs)\n",
    "# summarize scores\n",
    "print('Random Forest: ROC AUC=%.3f' % (rf_auc))\n",
    "\n",
    "rf_fpr, rf_tpr, thresholds = roc_curve(y_test, rf_probs)\n",
    "\n",
    "# plot the roc curve for the model\n",
    "plt.plot(rf_fpr, rf_tpr, marker = '.', label = 'RF')\n",
    "\n",
    "# axis labels\n",
    "plt.xlabel('False Positive Rate')\n",
    "plt.ylabel('True Positive Rate')\n",
    "\n",
    "# show the legend\n",
    "plt.legend()\n",
    "plt.title('Receiver Operating Characteristic - Random Forest')\n",
    "\n",
    "# show the plot\n",
    "plt.show()"
   ]
  },
  {
   "cell_type": "markdown",
   "id": "5ee038e5",
   "metadata": {},
   "source": [
    "#### Precision-Recall AUC"
   ]
  },
  {
   "cell_type": "code",
   "execution_count": 164,
   "id": "4b9b1724",
   "metadata": {},
   "outputs": [
    {
     "name": "stdout",
     "output_type": "stream",
     "text": [
      "RF: f1=0.673 auc=0.801\n"
     ]
    },
    {
     "data": {
      "image/png": "[encoded data removed]",
      "text/plain": [
       "<Figure size 432x288 with 1 Axes>"
      ]
     },
     "metadata": {
      "needs_background": "light"
     },
     "output_type": "display_data"
    }
   ],
   "source": [
    "yhat = rf.predict(X_test)\n",
    "rf_precision, rf_recall, thresholds = precision_recall_curve(y_test, rf_probs)\n",
    "rf_f1, rf_auc = f1_score(y_test, yhat), auc(rf_recall, rf_precision)\n",
    "\n",
    "# summarize scores\n",
    "print('RF: f1=%.3f auc=%.3f' % (rf_f1, rf_auc))\n",
    "\n",
    "# plot the precision-recall curves \n",
    "plt.plot(rf_recall, rf_precision, marker = '.', label = 'RF')\n",
    "\n",
    "# axis labels\n",
    "plt.xlabel('Recall')\n",
    "plt.ylabel('Precision')\n",
    "\n",
    "# show the legend\n",
    "plt.legend()\n",
    "\n",
    "# show the plot\n",
    "plt.show()"
   ]
  },
  {
   "cell_type": "code",
   "execution_count": null,
   "id": "5822ef72",
   "metadata": {},
   "outputs": [],
   "source": []
  }
 ],
 "metadata": {
  "kernelspec": {
   "display_name": "Python 3",
   "language": "python",
   "name": "python3"
  },
  "language_info": {
   "codemirror_mode": {
    "name": "ipython",
    "version": 3
   },
   "file_extension": ".py",
   "mimetype": "text/x-python",
   "name": "python",
   "nbconvert_exporter": "python",
   "pygments_lexer": "ipython3",
   "version": "3.8.8"
  },
  "toc": {
   "base_numbering": 1,
   "nav_menu": {},
   "number_sections": true,
   "sideBar": true,
   "skip_h1_title": false,
   "title_cell": "Table of Contents",
   "title_sidebar": "Contents",
   "toc_cell": false,
   "toc_position": {},
   "toc_section_display": true,
   "toc_window_display": true
  },
  "varInspector": {
   "cols": {
    "lenName": 16,
    "lenType": 16,
    "lenVar": 40
   },
   "kernels_config": {
    "python": {
     "delete_cmd_postfix": "",
     "delete_cmd_prefix": "del ",
     "library": "var_list.py",
     "varRefreshCmd": "print(var_dic_list())"
    },
    "r": {
     "delete_cmd_postfix": ") ",
     "delete_cmd_prefix": "rm(",
     "library": "var_list.r",
     "varRefreshCmd": "cat(var_dic_list()) "
    }
   },
   "types_to_exclude": [
    "module",
    "function",
    "builtin_function_or_method",
    "instance",
    "_Feature"
   ],
   "window_display": false
  }
 },
 "nbformat": 4,
 "nbformat_minor": 5
}
